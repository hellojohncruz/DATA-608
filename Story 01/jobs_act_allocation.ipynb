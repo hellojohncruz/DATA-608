{
 "cells": [
  {
   "cell_type": "markdown",
   "id": "af4b9a62",
   "metadata": {},
   "source": [
    "##  Infrastructure Investment and Jobs Act (IIJA)\n",
    "\n",
    "From the U.S Department of Transportation:\n",
    "> The [Infrastructure Investment and Jobs Act (IIJA) (Public Law 117-58)](https://www.congress.gov/117/bills/hr3684/BILLS-117hr3684enr.pdf) provides approximately $350 billion for Federal highway programs over a five-year period (fiscal years 2022 through 2026). Most of this funding is apportioned (distributed) to States based on formulas specified in Federal law. However, the Infrastructure Investment and Jobs Act also provides funding through a wide range of [competitive grant programs](https://www.fhwa.dot.gov/infrastructure-investment-and-jobs-act/grant_programs.cfm).\n",
    "\n",
    "We will be focusing on two aspects of this funding related to population sizes and voting preferences.\n",
    "- Is the allocation equitable based on the population of each of the States and Territories, or is bias apparent?\n",
    "- Does the allocation favor the political interests (Democrat) of the Biden administration?\n",
    "\n",
    "<span style=\"font-size:80%;\">John Cruz; DATA 608</span>"
   ]
  },
  {
   "cell_type": "markdown",
   "id": "58b63efb",
   "metadata": {},
   "source": [
    "## Required Packages"
   ]
  },
  {
   "cell_type": "code",
   "execution_count": 20,
   "id": "5805fd14",
   "metadata": {},
   "outputs": [],
   "source": [
    "import pandas as pd\n",
    "import numpy as np\n",
    "import matplotlib.pyplot as plt\n",
    "import seaborn as sns\n",
    "import janitor\n",
    "import re"
   ]
  },
  {
   "cell_type": "markdown",
   "id": "56a523ed",
   "metadata": {},
   "source": [
    "## Import IIJA Data\n",
    "\n",
    "Note: IIJA Funding data is as of March 2023"
   ]
  },
  {
   "cell_type": "code",
   "execution_count": 21,
   "id": "f82e47b7",
   "metadata": {},
   "outputs": [],
   "source": [
    "iija_df = pd.read_excel(\"iija.xlsx\").clean_names()\n",
    "iija_df = iija_df.rename(columns={\"state_teritory_or_tribal_nation\":\"state\", \"total_billions_\":\"total_funding\"})\n",
    "iija_df['state'] = iija_df['state'].str.title()"
   ]
  },
  {
   "cell_type": "markdown",
   "id": "8690beeb",
   "metadata": {},
   "source": [
    "## Obtain US States and Territories Population\n",
    "\n",
    "We can obtain recent estimated population data from Wikipedia's tables that are sourced from the U.S Census. \n",
    "\n",
    "- [Wikipedia](https://en.wikipedia.org/wiki/List_of_U.S._states_and_territories_by_population)\n",
    "- [US Census](https://www.census.gov/newsroom/press-kits/2024/national-state-population-estimates.html)"
   ]
  },
  {
   "cell_type": "code",
   "execution_count": 22,
   "id": "d7d3efe1",
   "metadata": {},
   "outputs": [],
   "source": [
    "import requests\n",
    "from io import StringIO\n",
    "\n",
    "import warnings\n",
    "from urllib3.exceptions import NotOpenSSLWarning\n",
    "warnings.filterwarnings(\"ignore\", category=NotOpenSSLWarning)\n",
    "\n",
    "# URL of the Wikipedia page\n",
    "url = \"https://en.wikipedia.org/wiki/List_of_U.S._states_and_territories_by_population\"\n",
    "\n",
    "# Send request\n",
    "headers = {\"User-Agent\": \"Mozilla/5.0 (Windows NT 10.0; Win64; x64)\"}\n",
    "response = requests.get(url, headers=headers)\n",
    "response.raise_for_status()\n",
    "\n",
    "# Read the first table from the page\n",
    "population_df = pd.read_html(StringIO(response.text))[0]\n",
    "\n",
    "# Flatten multi-level columns and normalize names\n",
    "population_df.columns = ['_'.join(col).strip() if isinstance(col, tuple) else col for col in population_df.columns]\n",
    "population_df.columns = [re.sub(r'\\[.*?\\]', '', col.lower().replace(' ', '_').replace('\\n', '_')).strip('_') for col in population_df.columns]\n",
    "\n",
    "# Keep only the first two columns and rename\n",
    "population_df = population_df.iloc[:56, :2]\n",
    "population_df.columns = ['state', 'population']\n",
    "\n",
    "# Clean 'state' column and convert 'population' to integer and match scale with IIJA\n",
    "population_df['state'] = population_df['state'].str.replace(r'\\[.*?\\]', '', regex=True).str.strip()\n",
    "population_df['population'] = population_df['population'].astype(int) / 1e9\n",
    "\n",
    "# df.to_csv(\"us_population_by_state_clean.csv\", index=False)"
   ]
  },
  {
   "cell_type": "markdown",
   "id": "30112a3a",
   "metadata": {},
   "source": [
    "## Combine IIJA and Population Datasets"
   ]
  },
  {
   "cell_type": "code",
   "execution_count": 23,
   "id": "008cc1f3",
   "metadata": {},
   "outputs": [],
   "source": [
    "from rapidfuzz import process, fuzz\n",
    "\n",
    "# Function to get best fuzzy match AND score\n",
    "def fuzzy_match_with_score(name, choices, scorer=fuzz.token_sort_ratio):\n",
    "    match = process.extractOne(name, choices, scorer=scorer)\n",
    "    if match:\n",
    "        return match[0], match[1]  # (best match, score)\n",
    "    return None, None\n",
    "\n",
    "# Apply fuzzy matching\n",
    "df_states = population_df['state'].tolist()\n",
    "iija_df[['matched_state', 'match_score']] = iija_df['state'].apply(\n",
    "    lambda x: pd.Series(fuzzy_match_with_score(x, df_states))\n",
    ")\n",
    "\n",
    "# Add a flag for low confidence\n",
    "iija_df['low_confidence'] = iija_df['match_score'] < 80\n",
    "\n",
    "# Merge with df\n",
    "merged_df = iija_df.merge(population_df, left_on='matched_state', right_on='state', how='left')\n",
    "\n",
    "# Clean up columns\n",
    "merged_df = merged_df.drop(columns=['state_y']).rename(columns={'state_x': 'state'})\n",
    "\n",
    "# Final view\n",
    "# merged_df[['state', 'total_funding', 'matched_state', 'match_score', 'low_confidence', 'population']].sort_values('match_score').head()\n"
   ]
  },
  {
   "cell_type": "code",
   "execution_count": 24,
   "id": "fecd041e",
   "metadata": {},
   "outputs": [],
   "source": [
    "merged_filter_df = merged_df[merged_df['low_confidence']  == False]"
   ]
  },
  {
   "cell_type": "code",
   "execution_count": 25,
   "id": "22cd9ce5",
   "metadata": {},
   "outputs": [],
   "source": [
    "state_df = merged_filter_df[['matched_state', 'total_funding', 'population']]\n",
    "state_df = state_df.rename(columns={'matched_state':'state'})"
   ]
  },
  {
   "cell_type": "markdown",
   "id": "33f6753c",
   "metadata": {},
   "source": [
    "## Obtain 2020 Election Results \n",
    "\n",
    "The voting results can be found from a [GitHub](https://github.com/tonmcg/US_County_Level_Election_Results_08-24) repository.\n",
    "> \"This GitHub repository provides county-level U.S. presidential election results for the years 2008, 2012, 2016, 2020, and 2024. The data comes from various reputable sources, including The Guardian, Townhall.com, Fox News, Politico, and the New York Times. While the results are exhaustive, they are not authoritative.\"\n",
    "\n",
    "[file source](https://raw.githubusercontent.com/tonmcg/US_County_Level_Election_Results_08-24/refs/heads/master/2020_US_County_Level_Presidential_Results.csv)"
   ]
  },
  {
   "cell_type": "code",
   "execution_count": 26,
   "id": "12ae9513",
   "metadata": {},
   "outputs": [],
   "source": [
    "election_results_df = pd.read_csv(\"https://raw.githubusercontent.com/tonmcg/US_County_Level_Election_Results_08-24/refs/heads/master/2020_US_County_Level_Presidential_Results.csv\")\n"
   ]
  },
  {
   "cell_type": "code",
   "execution_count": 27,
   "id": "633a36eb",
   "metadata": {},
   "outputs": [],
   "source": [
    "election_df = election_results_df[['state_name', 'county_name', 'votes_gop', 'votes_dem']]"
   ]
  },
  {
   "cell_type": "code",
   "execution_count": 28,
   "id": "fbeb4fb5",
   "metadata": {},
   "outputs": [],
   "source": [
    "election_df = election_df.groupby('state_name').sum(numeric_only=True)"
   ]
  },
  {
   "cell_type": "markdown",
   "id": "c8b1b29c",
   "metadata": {},
   "source": [
    "## Combine Election Data with IIJA and Population Dataset"
   ]
  },
  {
   "cell_type": "code",
   "execution_count": 29,
   "id": "6fa4787d",
   "metadata": {},
   "outputs": [],
   "source": [
    "analysis_df = state_df.merge(election_df, left_on='state', right_on='state_name', how='left')"
   ]
  },
  {
   "cell_type": "code",
   "execution_count": 30,
   "id": "7784fbdd",
   "metadata": {},
   "outputs": [],
   "source": [
    "analysis_df[['votes_gop', 'votes_dem']] = analysis_df[['votes_gop', 'votes_dem']] / 1e9\n",
    "# analysis_df.describe()"
   ]
  },
  {
   "cell_type": "markdown",
   "id": "88225eec",
   "metadata": {},
   "source": [
    "## Dataset for Analysis"
   ]
  },
  {
   "cell_type": "code",
   "execution_count": 31,
   "id": "d5cb9708",
   "metadata": {},
   "outputs": [],
   "source": [
    "from IPython.display import display, HTML\n",
    "\n",
    "display(HTML(\"\"\"\n",
    "<div style=\"max-height: 200px; overflow-y: auto;\">\n",
    "    {table}\n",
    "</div>\n",
    "\"\"\".format(table=analysis_df.to_html())))\n"
   ]
  },
  {
   "cell_type": "markdown",
   "id": "d638b306",
   "metadata": {},
   "source": [
    "### Population by State\n",
    "\n",
    "The top 5% population sizes are **California** (39.4M), **Texas** (31.3M), and **Florida** (23.4M) within the U.S. states and its territories."
   ]
  },
  {
   "cell_type": "code",
   "execution_count": 32,
   "id": "4cd78b10",
   "metadata": {},
   "outputs": [],
   "source": [
    "plt.figure(figsize=(8, 12))\n",
    "\n",
    "# Calculate 95th percentile threshold\n",
    "threshold = np.percentile(analysis_df['population'], 95)\n",
    "\n",
    "# Add a column to indicate top 5%\n",
    "analysis_df['top5pct'] = analysis_df['population'] >= threshold\n",
    "\n",
    "# Use hue for coloring instead of palette alone\n",
    "ax = sns.barplot(\n",
    "    data=analysis_df,\n",
    "    x='population',\n",
    "    y='state',\n",
    "    hue='top5pct',\n",
    "    dodge=False,\n",
    "    palette={True: 'steelblue', False: 'gray'},\n",
    "    legend=False\n",
    ")\n",
    "\n",
    "# Annotate top 5% bars inside the bar with white font\n",
    "for i, (value, is_top) in enumerate(zip(analysis_df['population'], analysis_df['top5pct'])):\n",
    "    if is_top:\n",
    "        ax.text(\n",
    "            value * 0.5,  # middle of the bar\n",
    "            i,\n",
    "            f\"{value:.3f}B\",\n",
    "            va='center',\n",
    "            ha='center',\n",
    "            fontsize=9,\n",
    "            color='white',\n",
    "            fontweight='bold'\n",
    "        )\n",
    "\n",
    "# Plot Features\n",
    "plt.title(\"Population by State (in Billions)\")\n",
    "ax.set_xlabel(\"\")\n",
    "ax.set_ylabel(\"\")\n",
    "plt.show()"
   ]
  },
  {
   "cell_type": "markdown",
   "id": "302e48b7",
   "metadata": {},
   "source": [
    "### Funding Allocation by State\n",
    "\n",
    "The Top 5% within the U.S. states and territories receving funding allocation are **California** ($18.4B), **Texas** ($14.2B), and **New York** ($10.1B). "
   ]
  },
  {
   "cell_type": "code",
   "execution_count": 40,
   "id": "56e21cce",
   "metadata": {},
   "outputs": [],
   "source": [
    "plt.figure(figsize=(8, 12))\n",
    "\n",
    "# Calculate 95th percentile threshold\n",
    "threshold = np.percentile(analysis_df['total_funding'], 95)\n",
    "\n",
    "# Add a column to indicate top 5%\n",
    "analysis_df['top5pct'] = analysis_df['total_funding'] >= threshold\n",
    "\n",
    "ax = sns.barplot(\n",
    "    data=analysis_df,\n",
    "    x='total_funding',\n",
    "    y='state',\n",
    "    hue='top5pct',\n",
    "    dodge=False,\n",
    "    palette={True: 'steelblue', False: 'gray'},\n",
    "    legend=False\n",
    ")\n",
    "\n",
    "# Annotate top 5% bars inside the bar with white font\n",
    "for i, (value, is_top) in enumerate(zip(analysis_df['total_funding'], analysis_df['top5pct'])):\n",
    "    if is_top:\n",
    "        ax.text(\n",
    "            value * 0.5,  # middle of the bar\n",
    "            i,\n",
    "            f\"{value:.1f}B\",\n",
    "            va='center',\n",
    "            ha='center',\n",
    "            fontsize=9,\n",
    "            color='white',\n",
    "            fontweight='bold'\n",
    "        )\n",
    "\n",
    "# Plot Features\n",
    "plt.title(\"Total Funding by State (in Billions)\")\n",
    "ax.set_xlabel(\"\")\n",
    "ax.set_ylabel(\"\")\n",
    "plt.show()"
   ]
  },
  {
   "cell_type": "markdown",
   "id": "f23a7f38",
   "metadata": {},
   "source": [
    "### Is the allocation equitable based on the population of each of the States and Territories, or is bias apparent?\n",
    "\n",
    "We will calculate the funding ratio of dollars spent per person within a state. The formula\n",
    "\n",
    "> $funding\\_ratio = total\\_funding / population$ \n",
    "\n",
    "where total_funding and population is based by its respective state/territory. "
   ]
  },
  {
   "cell_type": "code",
   "execution_count": 34,
   "id": "f4ab6be8",
   "metadata": {},
   "outputs": [],
   "source": [
    "analysis_df['funding_ratio'] = analysis_df['total_funding'] /analysis_df['population']"
   ]
  },
  {
   "cell_type": "code",
   "execution_count": null,
   "id": "d5a937b9",
   "metadata": {},
   "outputs": [],
   "source": [
    "plt.figure(figsize=(8, 12))\n",
    "\n",
    "# Compute 95th percentile\n",
    "top5pct_threshold = analysis_df[\"funding_ratio\"].quantile(0.95)\n",
    "\n",
    "# Identify states in the top 5%\n",
    "top5pct_states = analysis_df[analysis_df[\"funding_ratio\"] >= top5pct_threshold][\"state\"]\n",
    "\n",
    "ax = sns.barplot(\n",
    "    data=analysis_df,\n",
    "    x=\"funding_ratio\",\n",
    "    y=\"state\",\n",
    "    hue=analysis_df[\"state\"].isin(top5pct_states),\n",
    "    dodge=False,\n",
    "    palette={True: \"steelblue\", False: \"gray\"},\n",
    "    legend=False\n",
    ")\n",
    "\n",
    "# Annotate top 5% states\n",
    "for i, (value, state) in enumerate(zip(analysis_df[\"funding_ratio\"], analysis_df[\"state\"])):\n",
    "    if state in top5pct_states.values:\n",
    "        ax.text(\n",
    "            value * 0.5,\n",
    "            i,\n",
    "            f\"${round(value)}\",\n",
    "            va=\"center\",\n",
    "            ha=\"left\",\n",
    "            fontsize=9,\n",
    "            color=\"white\",\n",
    "            fontweight='bold'\n",
    "        )\n",
    "\n",
    "# Adjust x-axis\n",
    "max_val = analysis_df[\"funding_ratio\"].max()\n",
    "ax.set_xlim(0, max_val * 1.15)\n",
    "\n",
    "# Median line\n",
    "median_val = analysis_df[\"funding_ratio\"].median()\n",
    "ax.axvline(median_val, color=\"black\", linestyle=\"--\", linewidth=1)\n",
    "\n",
    "ax.text(\n",
    "    median_val + 0.03 * max_val,\n",
    "    24,\n",
    "    f\"Median = ${round(median_val)}\",\n",
    "    ha=\"left\",\n",
    "    va=\"center\",\n",
    "    fontsize=10,\n",
    "    color=\"black\",\n",
    "    fontweight=\"bold\",\n",
    "    backgroundcolor=\"white\"\n",
    ")\n",
    "\n",
    "# Plot Features\n",
    "plt.title(\"Funding per Person by State ($)\")\n",
    "ax.set_xlabel(\"\")\n",
    "ax.set_ylabel(\"\")\n",
    "plt.show()"
   ]
  },
  {
   "cell_type": "markdown",
   "id": "4e510740",
   "metadata": {},
   "source": [
    "Another way to examine this is by comparing the proportion of a state's population to the proportion of funding it receives. This shows how much larger or smaller a state's funding is relative to its size. Values close to 1 indicate funding roughly proportional to population, while values significantly greater than 1 suggest the state is receiving disproportionately high funding, marking it as an outlier or exception.\n",
    "\n",
    "When we do this, we can see that **Alaska** (9×), **Wyoming** (7×), and **Montana** (5×) receive funding that is significantly disproportionate relative to their populations."
   ]
  },
  {
   "cell_type": "code",
   "execution_count": 36,
   "id": "a6a18bc5",
   "metadata": {},
   "outputs": [],
   "source": [
    "analysis_df['funding_prop'] = analysis_df['total_funding'] / analysis_df['total_funding'].sum()\n",
    "analysis_df['population_prop'] = analysis_df['population'] / analysis_df['population'].sum()\n",
    "analysis_df['funding_to_pop_ratio'] = analysis_df['funding_prop'] / analysis_df['population_prop']"
   ]
  },
  {
   "cell_type": "code",
   "execution_count": 37,
   "id": "ec7efcc5",
   "metadata": {},
   "outputs": [],
   "source": [
    "plt.figure(figsize=(8, 12))\n",
    "\n",
    "# Calculate 95th percentile threshold\n",
    "threshold = np.percentile(analysis_df['funding_to_pop_ratio'], 95)\n",
    "\n",
    "# Add a column to indicate top 5%\n",
    "analysis_df['top5pct'] = analysis_df['funding_to_pop_ratio'] >= threshold\n",
    "\n",
    "# Use hue for coloring instead of palette alone\n",
    "ax = sns.barplot(\n",
    "    data=analysis_df,\n",
    "    x='funding_to_pop_ratio',\n",
    "    y='state',\n",
    "    hue='top5pct',\n",
    "    dodge=False,\n",
    "    palette={True: 'steelblue', False: 'gray'},\n",
    "    legend=False\n",
    ")\n",
    "\n",
    "# Annotate top 5% bars inside the bar with white font\n",
    "for i, (value, is_top) in enumerate(zip(analysis_df['funding_to_pop_ratio'], analysis_df['top5pct'])):\n",
    "    if is_top:\n",
    "        ax.text(\n",
    "            value * 0.5,  # middle of the bar\n",
    "            i,\n",
    "            f\"{value:.2f}\",\n",
    "            va='center',\n",
    "            ha='center',\n",
    "            fontsize=9,\n",
    "            color='white',\n",
    "            fontweight='bold'\n",
    "        )\n",
    "\n",
    "# Plot Features\n",
    "plt.title(\"Funding to Population Ratio by State\")\n",
    "ax.set_xlabel(\"\")\n",
    "ax.set_ylabel(\"\")\n",
    "plt.show()"
   ]
  },
  {
   "cell_type": "markdown",
   "id": "40882fdc",
   "metadata": {},
   "source": [
    "### Does the allocation favor the political interests of the Biden administration?\n",
    "\n",
    "Prior to running our data, we need to remove U.S. territories that does not provide us voting counts.\n",
    "\n",
    "**Why?** [Link](https://www.usatoday.com/story/news/politics/elections/2024/11/05/can-us-territories-vote-for-president/76072641007/)\n",
    " > This is because while residents of American Samoa, Guam, the Northern Mariana Islands, Puerto Rico, and the U.S. Virgin Islands are U.S. citizens (except American Samoans, who are U.S. nationals),  they do not have voting representation in the Electoral College and therefore cannot vote for president in the general election."
   ]
  },
  {
   "cell_type": "code",
   "execution_count": 38,
   "id": "ba921fc2",
   "metadata": {},
   "outputs": [],
   "source": [
    "analysis_df[analysis_df['votes_dem'].isna() | analysis_df['votes_gop'].isna()][['state', 'votes_gop', 'votes_dem']]"
   ]
  },
  {
   "cell_type": "markdown",
   "id": "381dfecf",
   "metadata": {},
   "source": [
    "We find that the **District of Columbia** (17×), **Vermont** (2.2×), and **Massachusetts** (2×) tend to vote more for Democrats than Republicans, indicating a strong Democratic preference relative to other states."
   ]
  },
  {
   "cell_type": "code",
   "execution_count": 39,
   "id": "a71959c5",
   "metadata": {},
   "outputs": [],
   "source": [
    "voting_analysis_df = analysis_df.copy()\n",
    "voting_analysis_df = voting_analysis_df.dropna(subset=['votes_gop', 'votes_dem'])\n",
    "voting_analysis_df['political_ratio'] = voting_analysis_df['votes_dem'] / voting_analysis_df['votes_gop']\n",
    "\n",
    "plt.figure(figsize=(8, 12))\n",
    "\n",
    "# Calculate 95th percentile threshold\n",
    "threshold = np.percentile(voting_analysis_df['political_ratio'], 95)\n",
    "\n",
    "# Add a column to indicate top 5%\n",
    "voting_analysis_df['top5pct'] = voting_analysis_df['political_ratio'] >= threshold\n",
    "\n",
    "# Use hue for coloring instead of palette alone\n",
    "ax = sns.barplot(\n",
    "    data=voting_analysis_df,\n",
    "    x='political_ratio',\n",
    "    y='state',\n",
    "    hue='top5pct',\n",
    "    dodge=False,\n",
    "    palette={True: 'steelblue', False: 'gray'},\n",
    "    legend=False\n",
    ")\n",
    "\n",
    "# Annotate top 5% bars inside the bar with white font\n",
    "for i, (value, is_top) in enumerate(zip(voting_analysis_df['political_ratio'], voting_analysis_df['top5pct'])):\n",
    "    if is_top:\n",
    "        ax.text(\n",
    "            value * 0.5,  # middle of the bar\n",
    "            i,\n",
    "            f\"{value:.2f}\",\n",
    "            va='center',\n",
    "            ha='center',\n",
    "            fontsize=9,\n",
    "            color='white',\n",
    "            fontweight='bold'\n",
    "        )\n",
    "\n",
    "# Plot Features\n",
    "plt.title(\"Political Preference based on Voting Ratio\")\n",
    "ax.set_xlabel(\"\")\n",
    "ax.set_ylabel(\"\")\n",
    "plt.show()"
   ]
  },
  {
   "cell_type": "markdown",
   "id": "742e8038",
   "metadata": {},
   "source": [
    "Using the information of which way a state/terriotry leans, we will categorize each state and determine the overall funding split amongst the party lines."
   ]
  },
  {
   "cell_type": "code",
   "execution_count": 48,
   "id": "7ab03bcc",
   "metadata": {},
   "outputs": [],
   "source": [
    "def assign_politcal_party(x):\n",
    "    if x > 1:\n",
    "        return \"Democrat\"\n",
    "    elif x == 1:\n",
    "        return \"Split\"\n",
    "    elif x < 1:\n",
    "        return \"Republican\"\n",
    "    else:\n",
    "        return \"N/A\"\n",
    "\n",
    "voting_analysis_df['political_party'] = voting_analysis_df['political_ratio'].apply(assign_politcal_party)"
   ]
  },
  {
   "cell_type": "code",
   "execution_count": 54,
   "id": "dfa66196",
   "metadata": {},
   "outputs": [],
   "source": [
    "funding_party_df = voting_analysis_df.groupby('political_party')['total_funding'].sum().reset_index()"
   ]
  },
  {
   "cell_type": "markdown",
   "id": "2ea073d5",
   "metadata": {},
   "source": [
    "We find that overall, total funding is aligned with democratic leaning states that would make us believe that it does indeed support Biden's administraion. "
   ]
  },
  {
   "cell_type": "code",
   "execution_count": 60,
   "id": "1c81c545",
   "metadata": {},
   "outputs": [],
   "source": [
    "import matplotlib.ticker as mtick\n",
    "\n",
    "party_colors = {\n",
    "    \"Democrat\": \"steelblue\",\n",
    "    \"Republican\": \"firebrick\"\n",
    "}\n",
    "\n",
    "plt.figure(figsize=(6, 4))\n",
    "\n",
    "ax = sns.barplot(\n",
    "    data=funding_party_df,\n",
    "    x=\"political_party\",\n",
    "    y=\"total_funding\",\n",
    "    hue=\"political_party\",\n",
    "    palette=party_colors,\n",
    "    legend=False\n",
    ")\n",
    "\n",
    "# Annotate each bar\n",
    "for p in ax.patches:\n",
    "    ax.annotate(\n",
    "        f\"${p.get_height():.2f}B\",                      # format with $ and billions\n",
    "        (p.get_x() + p.get_width() / 2, p.get_height() / 2),  # center of bar\n",
    "        ha=\"center\", va=\"center\",\n",
    "        color=\"white\", fontsize=10, fontweight=\"bold\"\n",
    "    )\n",
    "\n",
    "# Format y-axis as billions with $\n",
    "ax.yaxis.set_major_formatter(mtick.StrMethodFormatter('${x:,.0f}B'))\n",
    "\n",
    "plt.title(\"Total Funding by Political Party\")\n",
    "plt.xlabel(\"\")\n",
    "plt.ylabel(\"\")\n",
    "plt.tight_layout()\n",
    "plt.show()\n"
   ]
  },
  {
   "cell_type": "markdown",
   "id": "442a3ca5",
   "metadata": {},
   "source": [
    "However, when we incorporate our earlier chart on funding per person by state, the disparity in funding becomes immediately apparent. The top four states receive significantly more funding, with a Democratic-leaning territory, the District of Columbia, ranking 4th. Even in 4th place, its funding ratio is closer to the median compared to Alaska."
   ]
  },
  {
   "cell_type": "code",
   "execution_count": 69,
   "id": "a23a8711",
   "metadata": {},
   "outputs": [],
   "source": [
    "plt.figure(figsize=(8, 12))\n",
    "\n",
    "# Sort by funding_ratio (descending)\n",
    "plot_df = voting_analysis_df.sort_values(\"funding_ratio\", ascending=False)\n",
    "\n",
    "# Identify top 5 states\n",
    "top5_states = plot_df.head(5)[\"state\"]\n",
    "\n",
    "# Barplot\n",
    "ax = sns.barplot(\n",
    "    data=plot_df,\n",
    "    x=\"funding_ratio\",\n",
    "    y=\"state\",\n",
    "    hue=\"political_party\",\n",
    "    dodge=False,\n",
    "    palette=party_colors,\n",
    "    legend=True\n",
    ")\n",
    "\n",
    "# Annotate only top 5 states\n",
    "for i, (value, state) in enumerate(zip(\n",
    "    plot_df[\"funding_ratio\"], \n",
    "    plot_df[\"state\"]\n",
    ")):\n",
    "    if state in top5_states.values:\n",
    "        ax.text(\n",
    "            value * 0.5,   # center inside bar\n",
    "            i,\n",
    "            f\"${round(value)}\",\n",
    "            va=\"center\", ha=\"left\",\n",
    "            fontsize=9,\n",
    "            color=\"white\", fontweight=\"bold\"\n",
    "        )\n",
    "\n",
    "# Adjust x-axis\n",
    "max_val = plot_df[\"funding_ratio\"].max()\n",
    "ax.set_xlim(0, max_val * 1.15)\n",
    "\n",
    "# Median line\n",
    "median_val = plot_df[\"funding_ratio\"].median()\n",
    "ax.axvline(median_val, color=\"black\", linestyle=\"--\", linewidth=1)\n",
    "\n",
    "# Median annotation\n",
    "ax.text(\n",
    "    median_val + 0.03 * max_val,\n",
    "    len(plot_df) * 0.9,   # position near top dynamically\n",
    "    f\"Median = ${round(median_val)}\",\n",
    "    ha=\"left\", va=\"center\",\n",
    "    fontsize=10,\n",
    "    color=\"black\", fontweight=\"bold\",\n",
    "    backgroundcolor=\"white\"\n",
    ")\n",
    "\n",
    "# Plot Features\n",
    "plt.title(\"Funding per Person by State ($)\")\n",
    "ax.set_xlabel(\"\")\n",
    "ax.set_ylabel(\"\")\n",
    "plt.legend(title=\"Political Party\")\n",
    "plt.show()\n"
   ]
  }
 ],
 "metadata": {
  "kernelspec": {
   "display_name": "Python 3",
   "language": "python",
   "name": "python3"
  },
  "language_info": {
   "codemirror_mode": {
    "name": "ipython",
    "version": 3
   },
   "file_extension": ".py",
   "mimetype": "text/x-python",
   "name": "python",
   "nbconvert_exporter": "python",
   "pygments_lexer": "ipython3",
   "version": "3.9.6"
  }
 },
 "nbformat": 4,
 "nbformat_minor": 5
}
