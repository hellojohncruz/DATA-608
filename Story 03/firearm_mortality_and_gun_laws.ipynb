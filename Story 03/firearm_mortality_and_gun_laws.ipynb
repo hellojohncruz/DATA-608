{
 "cells": [
  {
   "cell_type": "markdown",
   "id": "60f0f007",
   "metadata": {},
   "source": [
    "# Comparing Firearm Mortality and State Gun Law Restrictions\n",
    "\n",
    "The Centers for Disease Control and Prevention (CDC) publishes firearm mortality rates for each U.S. state, expressed per 100,000 persons. To quantify the relative strictness of firearm legislation, this analysis incorporates state-level grades from the World Population Review, which evaluates the comprehensiveness of gun control measures and assigns a letter grade ranging from **A**(strictest) to **F** (least strict). These grades are subsequently transformed into a five-point Likert scale spanning **Very Strong** to **Very Weak** to facilitate our analysis.\n",
    "\n",
    ">The objective of this study is to examine the relationship between the strength of state firearm laws and firearm mortality rates, addressing the guiding question: **“Do stricter firearm control laws contribute to lower firearm mortality?”**\n",
    "\n",
    "**Data Sources**\n",
    "\n",
    "- [Centers for Disease Control and Prevention – Firearm Mortality](https://www.cdc.gov/nchs/state-stats/deaths/firearms.html?CDC_AAref_Val=https://www.cdc.gov/nchs/pressroom/sosmap/firearm_mortality/firearm.htm)\n",
    "- [World Population Review – Strictest Gun Laws by State](https://worldpopulationreview.com/state-rankings/strictest-gun-laws-by-state)"
   ]
  },
  {
   "cell_type": "markdown",
   "id": "2ec05f6a",
   "metadata": {},
   "source": [
    "## Obtain CDC data via API\n",
    "\n",
    "We will obtain the data from the CDC that also contains homicide and suicide breakouts of the firearm death rate. "
   ]
  },
  {
   "cell_type": "code",
   "execution_count": 11,
   "id": "89ec3cd6",
   "metadata": {},
   "outputs": [
    {
     "data": {
      "text/html": [
       "<div>\n",
       "<style scoped>\n",
       "    .dataframe tbody tr th:only-of-type {\n",
       "        vertical-align: middle;\n",
       "    }\n",
       "\n",
       "    .dataframe tbody tr th {\n",
       "        vertical-align: top;\n",
       "    }\n",
       "\n",
       "    .dataframe thead th {\n",
       "        text-align: right;\n",
       "    }\n",
       "</style>\n",
       "<table border=\"1\" class=\"dataframe\">\n",
       "  <thead>\n",
       "    <tr style=\"text-align: right;\">\n",
       "      <th></th>\n",
       "      <th>state</th>\n",
       "      <th>geoid</th>\n",
       "      <th>intent</th>\n",
       "      <th>period</th>\n",
       "      <th>rate</th>\n",
       "      <th>count_sup</th>\n",
       "      <th>data_as_of</th>\n",
       "      <th>fa_homicide_rate</th>\n",
       "      <th>fa_suicide_rate</th>\n",
       "    </tr>\n",
       "  </thead>\n",
       "  <tbody>\n",
       "    <tr>\n",
       "      <th>0</th>\n",
       "      <td>Alabama</td>\n",
       "      <td>01</td>\n",
       "      <td>FA_Deaths</td>\n",
       "      <td>2023</td>\n",
       "      <td>25.3</td>\n",
       "      <td>1292</td>\n",
       "      <td>2025-09-05T00:00:00.000</td>\n",
       "      <td>12.4</td>\n",
       "      <td>12.1</td>\n",
       "    </tr>\n",
       "    <tr>\n",
       "      <th>1</th>\n",
       "      <td>Alaska</td>\n",
       "      <td>02</td>\n",
       "      <td>FA_Deaths</td>\n",
       "      <td>2023</td>\n",
       "      <td>24.0</td>\n",
       "      <td>176</td>\n",
       "      <td>2025-09-05T00:00:00.000</td>\n",
       "      <td>6.4</td>\n",
       "      <td>16.4</td>\n",
       "    </tr>\n",
       "    <tr>\n",
       "      <th>2</th>\n",
       "      <td>Arizona</td>\n",
       "      <td>04</td>\n",
       "      <td>FA_Deaths</td>\n",
       "      <td>2023</td>\n",
       "      <td>19.1</td>\n",
       "      <td>1419</td>\n",
       "      <td>2025-09-05T00:00:00.000</td>\n",
       "      <td>5.5</td>\n",
       "      <td>12.8</td>\n",
       "    </tr>\n",
       "    <tr>\n",
       "      <th>3</th>\n",
       "      <td>Arkansas</td>\n",
       "      <td>05</td>\n",
       "      <td>FA_Deaths</td>\n",
       "      <td>2023</td>\n",
       "      <td>21.9</td>\n",
       "      <td>671</td>\n",
       "      <td>2025-09-05T00:00:00.000</td>\n",
       "      <td>8.6</td>\n",
       "      <td>12.8</td>\n",
       "    </tr>\n",
       "    <tr>\n",
       "      <th>4</th>\n",
       "      <td>California</td>\n",
       "      <td>06</td>\n",
       "      <td>FA_Deaths</td>\n",
       "      <td>2023</td>\n",
       "      <td>8.2</td>\n",
       "      <td>3209</td>\n",
       "      <td>2025-09-05T00:00:00.000</td>\n",
       "      <td>3.7</td>\n",
       "      <td>4.2</td>\n",
       "    </tr>\n",
       "  </tbody>\n",
       "</table>\n",
       "</div>"
      ],
      "text/plain": [
       "        state geoid     intent period  rate count_sup  \\\n",
       "0     Alabama    01  FA_Deaths   2023  25.3      1292   \n",
       "1      Alaska    02  FA_Deaths   2023  24.0       176   \n",
       "2     Arizona    04  FA_Deaths   2023  19.1      1419   \n",
       "3    Arkansas    05  FA_Deaths   2023  21.9       671   \n",
       "4  California    06  FA_Deaths   2023   8.2      3209   \n",
       "\n",
       "                data_as_of  fa_homicide_rate  fa_suicide_rate  \n",
       "0  2025-09-05T00:00:00.000              12.4             12.1  \n",
       "1  2025-09-05T00:00:00.000               6.4             16.4  \n",
       "2  2025-09-05T00:00:00.000               5.5             12.8  \n",
       "3  2025-09-05T00:00:00.000               8.6             12.8  \n",
       "4  2025-09-05T00:00:00.000               3.7              4.2  "
      ]
     },
     "execution_count": 11,
     "metadata": {},
     "output_type": "execute_result"
    }
   ],
   "source": [
    "import requests\n",
    "import pandas as pd\n",
    "import numpy as np\n",
    "import warnings\n",
    "warnings.filterwarnings(\"ignore\")\n",
    "\n",
    "BASE = \"https://data.cdc.gov/resource/fpsi-y8tj.json\"\n",
    "\n",
    "def fetch_firearm_state(period=\"2023\", intent=\"FA_Deaths\"):\n",
    "    params = {\n",
    "        \"$select\": \"name as state, geoid, intent, period, rate, count_sup, data_as_of\",\n",
    "        \"$where\": f\"period='{period}' AND intent='{intent}'\",\n",
    "        \"$order\": \"state\",\n",
    "        \"$limit\": 50000\n",
    "    }\n",
    "    r = requests.get(BASE, params=params, timeout=60)\n",
    "    r.raise_for_status()\n",
    "    df = pd.DataFrame(r.json())\n",
    "    if not df.empty and \"rate\" in df.columns:\n",
    "        df[\"rate\"] = pd.to_numeric(df[\"rate\"], errors=\"coerce\")\n",
    "    return df\n",
    "\n",
    "# All firearm deaths by state for 2023\n",
    "df_all = fetch_firearm_state(period=\"2023\", intent=\"FA_Deaths\")\n",
    "\n",
    "# Obtain Homicide and Suicde Rates\n",
    "df_homicide = fetch_firearm_state(period=\"2023\", intent=\"FA_Homicide\")\n",
    "df_suicide = fetch_firearm_state(period=\"2023\", intent=\"FA_Suicide\")\n",
    "\n",
    "# Combinne each query\n",
    "combined = (\n",
    "    df_all.merge(df_homicide[[\"state\",\"rate\"]].rename(columns={\"rate\":\"fa_homicide_rate\"}), on=\"state\", how=\"left\")\n",
    "          .merge(df_suicide[[\"state\",\"rate\"]].rename(columns={\"rate\":\"fa_suicide_rate\"}), on=\"state\", how=\"left\")\n",
    ")\n",
    "\n",
    "combined.to_csv(\"firearm_mortality_by_state_2023.csv\", index=False)\n",
    "\n",
    "combined.head()\n"
   ]
  },
  {
   "cell_type": "markdown",
   "id": "46217589",
   "metadata": {},
   "source": [
    "## Obtain Gun Laws Rating from World Population Review\n",
    "\n",
    "The data was downloaded from the website as a CSV and will be joined with out primary CDC dataset."
   ]
  },
  {
   "cell_type": "code",
   "execution_count": 12,
   "id": "b6cc3fb1",
   "metadata": {},
   "outputs": [
    {
     "name": "stdout",
     "output_type": "stream",
     "text": [
      "No grade found for: ['District of Columbia']\n"
     ]
    },
    {
     "data": {
      "text/html": [
       "<div>\n",
       "<style scoped>\n",
       "    .dataframe tbody tr th:only-of-type {\n",
       "        vertical-align: middle;\n",
       "    }\n",
       "\n",
       "    .dataframe tbody tr th {\n",
       "        vertical-align: top;\n",
       "    }\n",
       "\n",
       "    .dataframe thead th {\n",
       "        text-align: right;\n",
       "    }\n",
       "</style>\n",
       "<table border=\"1\" class=\"dataframe\">\n",
       "  <thead>\n",
       "    <tr style=\"text-align: right;\">\n",
       "      <th></th>\n",
       "      <th>state</th>\n",
       "      <th>geoid</th>\n",
       "      <th>intent</th>\n",
       "      <th>period</th>\n",
       "      <th>rate</th>\n",
       "      <th>count_sup</th>\n",
       "      <th>data_as_of</th>\n",
       "      <th>fa_homicide_rate</th>\n",
       "      <th>fa_suicide_rate</th>\n",
       "      <th>StrictestGunLawsGiffordGrade_2024</th>\n",
       "    </tr>\n",
       "  </thead>\n",
       "  <tbody>\n",
       "    <tr>\n",
       "      <th>0</th>\n",
       "      <td>Alabama</td>\n",
       "      <td>01</td>\n",
       "      <td>FA_Deaths</td>\n",
       "      <td>2023</td>\n",
       "      <td>25.3</td>\n",
       "      <td>1292</td>\n",
       "      <td>2025-09-05T00:00:00.000</td>\n",
       "      <td>12.4</td>\n",
       "      <td>12.1</td>\n",
       "      <td>F</td>\n",
       "    </tr>\n",
       "    <tr>\n",
       "      <th>1</th>\n",
       "      <td>Alaska</td>\n",
       "      <td>02</td>\n",
       "      <td>FA_Deaths</td>\n",
       "      <td>2023</td>\n",
       "      <td>24.0</td>\n",
       "      <td>176</td>\n",
       "      <td>2025-09-05T00:00:00.000</td>\n",
       "      <td>6.4</td>\n",
       "      <td>16.4</td>\n",
       "      <td>F</td>\n",
       "    </tr>\n",
       "    <tr>\n",
       "      <th>2</th>\n",
       "      <td>Arizona</td>\n",
       "      <td>04</td>\n",
       "      <td>FA_Deaths</td>\n",
       "      <td>2023</td>\n",
       "      <td>19.1</td>\n",
       "      <td>1419</td>\n",
       "      <td>2025-09-05T00:00:00.000</td>\n",
       "      <td>5.5</td>\n",
       "      <td>12.8</td>\n",
       "      <td>F</td>\n",
       "    </tr>\n",
       "    <tr>\n",
       "      <th>3</th>\n",
       "      <td>Arkansas</td>\n",
       "      <td>05</td>\n",
       "      <td>FA_Deaths</td>\n",
       "      <td>2023</td>\n",
       "      <td>21.9</td>\n",
       "      <td>671</td>\n",
       "      <td>2025-09-05T00:00:00.000</td>\n",
       "      <td>8.6</td>\n",
       "      <td>12.8</td>\n",
       "      <td>F</td>\n",
       "    </tr>\n",
       "    <tr>\n",
       "      <th>4</th>\n",
       "      <td>California</td>\n",
       "      <td>06</td>\n",
       "      <td>FA_Deaths</td>\n",
       "      <td>2023</td>\n",
       "      <td>8.2</td>\n",
       "      <td>3209</td>\n",
       "      <td>2025-09-05T00:00:00.000</td>\n",
       "      <td>3.7</td>\n",
       "      <td>4.2</td>\n",
       "      <td>A</td>\n",
       "    </tr>\n",
       "  </tbody>\n",
       "</table>\n",
       "</div>"
      ],
      "text/plain": [
       "        state geoid     intent period  rate count_sup  \\\n",
       "0     Alabama    01  FA_Deaths   2023  25.3      1292   \n",
       "1      Alaska    02  FA_Deaths   2023  24.0       176   \n",
       "2     Arizona    04  FA_Deaths   2023  19.1      1419   \n",
       "3    Arkansas    05  FA_Deaths   2023  21.9       671   \n",
       "4  California    06  FA_Deaths   2023   8.2      3209   \n",
       "\n",
       "                data_as_of  fa_homicide_rate  fa_suicide_rate  \\\n",
       "0  2025-09-05T00:00:00.000              12.4             12.1   \n",
       "1  2025-09-05T00:00:00.000               6.4             16.4   \n",
       "2  2025-09-05T00:00:00.000               5.5             12.8   \n",
       "3  2025-09-05T00:00:00.000               8.6             12.8   \n",
       "4  2025-09-05T00:00:00.000               3.7              4.2   \n",
       "\n",
       "  StrictestGunLawsGiffordGrade_2024  \n",
       "0                                 F  \n",
       "1                                 F  \n",
       "2                                 F  \n",
       "3                                 F  \n",
       "4                                 A  "
      ]
     },
     "execution_count": 12,
     "metadata": {},
     "output_type": "execute_result"
    }
   ],
   "source": [
    "df_laws = pd.read_csv(\"strictest-gun-laws-by-state-2025.csv\")\n",
    "\n",
    "# If you have different spellings, normalize IN PLACE without creating a key column\n",
    "combined[\"state\"] = combined[\"state\"].str.strip().replace({\"Washington, D.C.\": \"District of Columbia\"})\n",
    "df_laws[\"state\"] = df_laws[\"state\"].str.strip().replace({\"Washington, D.C.\": \"District of Columbia\"})\n",
    "\n",
    "# Keep only the grade column from df_laws, then merge on 'state'\n",
    "laws_keep = df_laws[[\"state\", \"StrictestGunLawsGiffordGrade_2024\"]].drop_duplicates(\"state\")\n",
    "\n",
    "merged = combined.merge(laws_keep, on=\"state\", how=\"left\")\n",
    "\n",
    "# Optional: see which states did not match\n",
    "missing = sorted(set(merged[\"state\"]) - set(laws_keep[\"state\"]))\n",
    "if missing:\n",
    "    print(\"No grade found for:\", missing)\n",
    "\n",
    "merged.head()"
   ]
  },
  {
   "cell_type": "markdown",
   "id": "d398f95e",
   "metadata": {},
   "source": [
    "## Map Gun Law Grade to Likert Scale\n",
    "\n",
    "Essentially we will xtract a clean letter grade like A, A-, A+, B, B+, B-, ..., F to become a category of our 5-Point Likert Scale"
   ]
  },
  {
   "cell_type": "code",
   "execution_count": 13,
   "id": "3fa6ad87",
   "metadata": {},
   "outputs": [
    {
     "name": "stdout",
     "output_type": "stream",
     "text": [
      "Unmapped grades:\n",
      "                  state original\n",
      "8  District of Columbia      NaN\n"
     ]
    },
    {
     "data": {
      "text/html": [
       "<div>\n",
       "<style scoped>\n",
       "    .dataframe tbody tr th:only-of-type {\n",
       "        vertical-align: middle;\n",
       "    }\n",
       "\n",
       "    .dataframe tbody tr th {\n",
       "        vertical-align: top;\n",
       "    }\n",
       "\n",
       "    .dataframe thead th {\n",
       "        text-align: right;\n",
       "    }\n",
       "</style>\n",
       "<table border=\"1\" class=\"dataframe\">\n",
       "  <thead>\n",
       "    <tr style=\"text-align: right;\">\n",
       "      <th></th>\n",
       "      <th>state</th>\n",
       "      <th>geoid</th>\n",
       "      <th>intent</th>\n",
       "      <th>period</th>\n",
       "      <th>rate</th>\n",
       "      <th>count_sup</th>\n",
       "      <th>data_as_of</th>\n",
       "      <th>fa_homicide_rate</th>\n",
       "      <th>fa_suicide_rate</th>\n",
       "      <th>gun_laws</th>\n",
       "    </tr>\n",
       "  </thead>\n",
       "  <tbody>\n",
       "    <tr>\n",
       "      <th>0</th>\n",
       "      <td>Alabama</td>\n",
       "      <td>01</td>\n",
       "      <td>FA_Deaths</td>\n",
       "      <td>2023</td>\n",
       "      <td>25.3</td>\n",
       "      <td>1292</td>\n",
       "      <td>2025-09-05T00:00:00.000</td>\n",
       "      <td>12.4</td>\n",
       "      <td>12.1</td>\n",
       "      <td>Very Weak</td>\n",
       "    </tr>\n",
       "    <tr>\n",
       "      <th>1</th>\n",
       "      <td>Alaska</td>\n",
       "      <td>02</td>\n",
       "      <td>FA_Deaths</td>\n",
       "      <td>2023</td>\n",
       "      <td>24.0</td>\n",
       "      <td>176</td>\n",
       "      <td>2025-09-05T00:00:00.000</td>\n",
       "      <td>6.4</td>\n",
       "      <td>16.4</td>\n",
       "      <td>Very Weak</td>\n",
       "    </tr>\n",
       "    <tr>\n",
       "      <th>2</th>\n",
       "      <td>Arizona</td>\n",
       "      <td>04</td>\n",
       "      <td>FA_Deaths</td>\n",
       "      <td>2023</td>\n",
       "      <td>19.1</td>\n",
       "      <td>1419</td>\n",
       "      <td>2025-09-05T00:00:00.000</td>\n",
       "      <td>5.5</td>\n",
       "      <td>12.8</td>\n",
       "      <td>Very Weak</td>\n",
       "    </tr>\n",
       "    <tr>\n",
       "      <th>3</th>\n",
       "      <td>Arkansas</td>\n",
       "      <td>05</td>\n",
       "      <td>FA_Deaths</td>\n",
       "      <td>2023</td>\n",
       "      <td>21.9</td>\n",
       "      <td>671</td>\n",
       "      <td>2025-09-05T00:00:00.000</td>\n",
       "      <td>8.6</td>\n",
       "      <td>12.8</td>\n",
       "      <td>Very Weak</td>\n",
       "    </tr>\n",
       "    <tr>\n",
       "      <th>4</th>\n",
       "      <td>California</td>\n",
       "      <td>06</td>\n",
       "      <td>FA_Deaths</td>\n",
       "      <td>2023</td>\n",
       "      <td>8.2</td>\n",
       "      <td>3209</td>\n",
       "      <td>2025-09-05T00:00:00.000</td>\n",
       "      <td>3.7</td>\n",
       "      <td>4.2</td>\n",
       "      <td>Very Strong</td>\n",
       "    </tr>\n",
       "  </tbody>\n",
       "</table>\n",
       "</div>"
      ],
      "text/plain": [
       "        state geoid     intent period  rate count_sup  \\\n",
       "0     Alabama    01  FA_Deaths   2023  25.3      1292   \n",
       "1      Alaska    02  FA_Deaths   2023  24.0       176   \n",
       "2     Arizona    04  FA_Deaths   2023  19.1      1419   \n",
       "3    Arkansas    05  FA_Deaths   2023  21.9       671   \n",
       "4  California    06  FA_Deaths   2023   8.2      3209   \n",
       "\n",
       "                data_as_of  fa_homicide_rate  fa_suicide_rate     gun_laws  \n",
       "0  2025-09-05T00:00:00.000              12.4             12.1    Very Weak  \n",
       "1  2025-09-05T00:00:00.000               6.4             16.4    Very Weak  \n",
       "2  2025-09-05T00:00:00.000               5.5             12.8    Very Weak  \n",
       "3  2025-09-05T00:00:00.000               8.6             12.8    Very Weak  \n",
       "4  2025-09-05T00:00:00.000               3.7              4.2  Very Strong  "
      ]
     },
     "execution_count": 13,
     "metadata": {},
     "output_type": "execute_result"
    }
   ],
   "source": [
    "g = (\n",
    "    merged[\"StrictestGunLawsGiffordGrade_2024\"]\n",
    "      .astype(str).str.upper().str.strip()\n",
    "      .str.extract(r'(A\\+|A\\-|A|B\\+|B\\-|B|C\\+|C\\-|C|D\\+|D\\-|D|F)')[0]\n",
    "      .where(merged[\"StrictestGunLawsGiffordGrade_2024\"].notna())\n",
    ")\n",
    "\n",
    "grade_to_likert = {\n",
    "    \"A+\": \"Very Strong\", \"A\": \"Very Strong\", \"A-\": \"Very Strong\",\n",
    "    \"B+\": \"Strong\", \"B\": \"Strong\", \"B-\": \"Strong\",\n",
    "    \"C+\": \"Neutral\", \"C\": \"Neutral\", \"C-\": \"Neutral\",\n",
    "    \"D+\": \"Weak\", \"D\": \"Weak\", \"D-\": \"Weak\",\n",
    "    \"F\": \"Very Weak\",\n",
    "}\n",
    "\n",
    "merged[\"StrictestGunLawsGiffordGrade_2024\"] = g.map(grade_to_likert)\n",
    "\n",
    "likert_order = [\"Very Weak\", \"Weak\", \"Neutral\", \"Strong\", \"Very Strong\"]\n",
    "cat = pd.CategoricalDtype(categories=likert_order, ordered=True)\n",
    "merged[\"StrictestGunLawsGiffordGrade_2024\"] = merged[\"StrictestGunLawsGiffordGrade_2024\"].astype(cat)\n",
    "\n",
    "unmapped = merged[merged[\"StrictestGunLawsGiffordGrade_2024\"].isna()]\n",
    "if not unmapped.empty:\n",
    "    print(\"Unmapped grades:\")\n",
    "    print(unmapped[[\"state\"]].assign(original=merged[\"StrictestGunLawsGiffordGrade_2024\"]))\n",
    "\n",
    "merged = merged.rename(columns={'StrictestGunLawsGiffordGrade_2024':'gun_laws'})\n",
    "\n",
    "merged.head()"
   ]
  },
  {
   "cell_type": "markdown",
   "id": "8ddcda37",
   "metadata": {},
   "source": [
    "## Export Data as CSV"
   ]
  },
  {
   "cell_type": "code",
   "execution_count": 14,
   "id": "599750ac",
   "metadata": {},
   "outputs": [],
   "source": [
    "merged.to_csv(\"gun_data.csv\")"
   ]
  },
  {
   "cell_type": "markdown",
   "id": "af707793",
   "metadata": {},
   "source": [
    "## Comparing Each State's Gun Laws and Corresponding Firearm Mortality Rate (Per 100,000 Persons)\n",
    "\n",
    "This visualization was developed by adapting a matrix-style layout inspired by The New York Times, in which each state is represented by an equally sized cell. The grid is color-coded according to the relative strength of firearm legislation, enabling a comparative assessment across states. Each cell is labeled with the state abbreviation and its corresponding firearm mortality rate.\n",
    "It was created using Plotly, marking my initial attempts of this library. With assistance from Google AI, an interactive heatmap was constructed featuring hover tooltips that reveal additional contextual information. These tooltips enable a more detailed exploration of the data, including subcategories such as homicide and suicide rates.\n",
    "\n",
    "**Data Visulaization Ideas**\n",
    "\n",
    "- [New York Times](https://archive.nytimes.com/www.nytimes.com/interactive/2013/06/26/us/scotus-gay-marriage.html)\n",
    "- [Github](https://github.com/kristw/gridmap-layout-usa?tab=readme-ov-file)"
   ]
  },
  {
   "cell_type": "markdown",
   "id": "f247f783",
   "metadata": {},
   "source": [
    "When examining the map, it becomes evident that states with stricter gun laws are generally concentrated along the eastern and western coastlines. Overall, the firearm mortality rate for these states tends to range between 4 and 15 deaths per 100,000 persons. In contrast, many southern states exhibit more lenient firearm regulations and correspondingly higher death rates, typically between 15 and 28 per 100,000.\n",
    "These patterns suggest that, in general, stronger gun laws are associated with lower firearm mortality. However, there are notable exceptions. For example, Texas (TX) reports a firearm death rate of approximately 15 per 100,000, which is substantially lower than that of several other southern states, such as Alabama (AL) reporting a firearm death rate of approximately 25 per 100,000."
   ]
  },
  {
   "cell_type": "code",
   "execution_count": 15,
   "id": "d436d09a",
   "metadata": {},
   "outputs": [
    {
     "data": {
      "application/vnd.plotly.v1+json": {
       "config": {
        "plotlyServerURL": "https://plot.ly"
       },
       "data": [
        {
         "customdata": [
          [
           25.3,
           12.4,
           12.1,
           "Very Weak"
          ],
          [
           24,
           6.4,
           16.4,
           "Very Weak"
          ],
          [
           19.1,
           5.5,
           12.8,
           "Very Weak"
          ],
          [
           21.9,
           8.6,
           12.8,
           "Very Weak"
          ],
          [
           18.8,
           8.1,
           10.1,
           "Very Weak"
          ],
          [
           18.1,
           1.7,
           15.5,
           "Very Weak"
          ],
          [
           10.6,
           2.3,
           8.3,
           "Very Weak"
          ],
          [
           16.2,
           4.7,
           10.9,
           "Very Weak"
          ],
          [
           18.6,
           5.7,
           12,
           "Very Weak"
          ],
          [
           27.6,
           16.1,
           10.6,
           "Very Weak"
          ],
          [
           28.7,
           16.8,
           11,
           "Very Weak"
          ],
          [
           21.4,
           8.5,
           12,
           "Very Weak"
          ],
          [
           21.8,
           2.6,
           18.2,
           "Very Weak"
          ],
          [
           13.1,
           2.2,
           10.8,
           "Very Weak"
          ],
          [
           20.1,
           5.5,
           14.1,
           "Very Weak"
          ],
          [
           19,
           8.4,
           9.9,
           "Very Weak"
          ],
          [
           12.2,
           1.2,
           9.7,
           "Very Weak"
          ],
          [
           22.3,
           9.4,
           12.3,
           "Very Weak"
          ],
          [
           15,
           5.6,
           8.8,
           "Very Weak"
          ],
          [
           14.3,
           1.8,
           12.1,
           "Very Weak"
          ],
          [
           17.8,
           3.5,
           13.8,
           "Very Weak"
          ],
          [
           22.3,
           1.7,
           19.9,
           "Very Weak"
          ]
         ],
         "hovertemplate": "<b>%{hovertext}</b><br><br>Gun Laws=Very Weak<br>Gun Death Rate=%{customdata[0]}<br>Homicide Rate=%{customdata[1]}<br>Suicide Rate=%{customdata[2]}<extra></extra>",
         "hovertext": [
          "Alabama",
          "Alaska",
          "Arizona",
          "Arkansas",
          "Georgia",
          "Idaho",
          "Iowa",
          "Kansas",
          "Kentucky",
          "Louisiana",
          "Mississippi",
          "Missouri",
          "Montana",
          "North Dakota",
          "Oklahoma",
          "South Carolina",
          "South Dakota",
          "Tennessee",
          "Texas",
          "Utah",
          "West Virginia",
          "Wyoming"
         ],
         "legendgroup": "Very Weak",
         "marker": {
          "color": "#AEC6CF",
          "line": {
           "color": "white",
           "width": 1
          },
          "size": 40,
          "symbol": "square"
         },
         "mode": "markers",
         "name": "Very Weak",
         "orientation": "v",
         "showlegend": true,
         "type": "scatter",
         "x": {
          "bdata": "BgACBQcCBQQGBAUFAgMECAQGAwIHAw==",
          "dtype": "i1"
         },
         "xaxis": "x",
         "y": {
          "bdata": "+gD7+/r9/fz8+vr8/v77+v77+vz8/Q==",
          "dtype": "i1"
         },
         "yaxis": "y"
        },
        {
         "customdata": [
          [
           18.3,
           6.4,
           11,
           "Weak"
          ],
          [
           10.2,
           1,
           8.7,
           "Weak"
          ],
          [
           15,
           5.9,
           8.8,
           "Weak"
          ]
         ],
         "hovertemplate": "<b>%{hovertext}</b><br><br>Gun Laws=Weak<br>Gun Death Rate=%{customdata[0]}<br>Homicide Rate=%{customdata[1]}<br>Suicide Rate=%{customdata[2]}<extra></extra>",
         "hovertext": [
          "Indiana",
          "New Hampshire",
          "Ohio"
         ],
         "legendgroup": "Weak",
         "marker": {
          "color": "#BFD4DB",
          "line": {
           "color": "white",
           "width": 1
          },
          "size": 40,
          "symbol": "square"
         },
         "mode": "markers",
         "name": "Weak",
         "orientation": "v",
         "showlegend": true,
         "type": "scatter",
         "x": {
          "bdata": "BwoI",
          "dtype": "i1"
         },
         "xaxis": "x",
         "y": {
          "bdata": "/f/9",
          "dtype": "i1"
         },
         "yaxis": "y"
        },
        {
         "customdata": [
          [
           14.4,
           4.7,
           9.3,
           "Neutral"
          ],
          [
           14.3,
           2.6,
           11.3,
           "Neutral"
          ],
          [
           10.8,
           1.7,
           8.3,
           "Neutral"
          ],
          [
           16.6,
           6.7,
           9.2,
           "Neutral"
          ],
          [
           12.9,
           4,
           8.5,
           "Neutral"
          ]
         ],
         "hovertemplate": "<b>%{hovertext}</b><br><br>Gun Laws=Neutral<br>Gun Death Rate=%{customdata[0]}<br>Homicide Rate=%{customdata[1]}<br>Suicide Rate=%{customdata[2]}<extra></extra>",
         "hovertext": [
          "Florida",
          "Maine",
          "Nebraska",
          "North Carolina",
          "Wisconsin"
         ],
         "legendgroup": "Neutral",
         "marker": {
          "color": "#EBEBEB",
          "line": {
           "color": "white",
           "width": 1
          },
          "size": 40,
          "symbol": "square"
         },
         "mode": "markers",
         "name": "Neutral",
         "orientation": "v",
         "showlegend": true,
         "type": "scatter",
         "x": {
          "bdata": "BwsECAY=",
          "dtype": "i1"
         },
         "xaxis": "x",
         "y": {
          "bdata": "+QD9+/4=",
          "dtype": "i1"
         },
         "yaxis": "y"
        },
        {
         "customdata": [
          [
           13.8,
           5.2,
           8.3,
           "Strong"
          ],
          [
           9.1,
           2.2,
           6.6,
           "Strong"
          ],
          [
           19.3,
           5.8,
           13.1,
           "Strong"
          ],
          [
           25.1,
           10.3,
           13.4,
           "Strong"
          ],
          [
           13.9,
           5.3,
           8.3,
           "Strong"
          ],
          [
           12.8,
           2.2,
           10.5,
           "Strong"
          ],
          [
           14.2,
           5.4,
           8.4,
           "Strong"
          ]
         ],
         "hovertemplate": "<b>%{hovertext}</b><br><br>Gun Laws=Strong<br>Gun Death Rate=%{customdata[0]}<br>Homicide Rate=%{customdata[1]}<br>Suicide Rate=%{customdata[2]}<extra></extra>",
         "hovertext": [
          "Michigan",
          "Minnesota",
          "Nevada",
          "New Mexico",
          "Pennsylvania",
          "Vermont",
          "Virginia"
         ],
         "legendgroup": "Strong",
         "marker": {
          "color": "#FFDFBF",
          "line": {
           "color": "white",
           "width": 1
          },
          "size": 40,
          "symbol": "square"
         },
         "mode": "markers",
         "name": "Strong",
         "orientation": "v",
         "showlegend": true,
         "type": "scatter",
         "x": {
          "bdata": "BwUBAwkJBw==",
          "dtype": "i1"
         },
         "xaxis": "x",
         "y": {
          "bdata": "/v78+/3/+w==",
          "dtype": "i1"
         },
         "yaxis": "y"
        },
        {
         "customdata": [
          [
           8.2,
           3.7,
           4.2,
           "Very Strong"
          ],
          [
           17.3,
           4.4,
           12.3,
           "Very Strong"
          ],
          [
           6.2,
           2.9,
           3.1,
           "Very Strong"
          ],
          [
           12,
           4.2,
           7.4,
           "Very Strong"
          ],
          [
           5.1,
           1.4,
           3.5,
           "Very Strong"
          ],
          [
           13.5,
           7.7,
           5.5,
           "Very Strong"
          ],
          [
           11.9,
           7.5,
           4.3,
           "Very Strong"
          ],
          [
           3.9,
           1.7,
           2.1,
           "Very Strong"
          ],
          [
           4.6,
           2.2,
           2.3,
           "Very Strong"
          ],
          [
           4.8,
           2.2,
           2.5,
           "Very Strong"
          ],
          [
           15.2,
           3.2,
           11.6,
           "Very Strong"
          ],
          [
           5.3,
           1.6,
           3.5,
           "Very Strong"
          ],
          [
           13.5,
           4.1,
           8.9,
           "Very Strong"
          ]
         ],
         "hovertemplate": "<b>%{hovertext}</b><br><br>Gun Laws=Very Strong<br>Gun Death Rate=%{customdata[0]}<br>Homicide Rate=%{customdata[1]}<br>Suicide Rate=%{customdata[2]}<extra></extra>",
         "hovertext": [
          "California",
          "Colorado",
          "Connecticut",
          "Delaware",
          "Hawaii",
          "Illinois",
          "Maryland",
          "Massachusetts",
          "New Jersey",
          "New York",
          "Oregon",
          "Rhode Island",
          "Washington"
         ],
         "legendgroup": "Very Strong",
         "marker": {
          "color": "#FFB347",
          "line": {
           "color": "white",
           "width": 1
          },
          "size": 40,
          "symbol": "square"
         },
         "mode": "markers",
         "name": "Very Strong",
         "orientation": "v",
         "showlegend": true,
         "type": "scatter",
         "x": {
          "bdata": "AAMKCgAGCQsKCQELAQ==",
          "dtype": "i1"
         },
         "xaxis": "x",
         "y": {
          "bdata": "/Pz+/Pn9/P/9/v3+/g==",
          "dtype": "i1"
         },
         "yaxis": "y"
        }
       ],
       "layout": {
        "annotations": [
         {
          "font": {
           "size": 10
          },
          "showarrow": false,
          "text": "AL<br>25.3",
          "x": 6,
          "y": -6
         },
         {
          "font": {
           "size": 10
          },
          "showarrow": false,
          "text": "AK<br>24.0",
          "x": 0,
          "y": 0
         },
         {
          "font": {
           "size": 10
          },
          "showarrow": false,
          "text": "AZ<br>19.1",
          "x": 2,
          "y": -5
         },
         {
          "font": {
           "size": 10
          },
          "showarrow": false,
          "text": "AR<br>21.9",
          "x": 5,
          "y": -5
         },
         {
          "font": {
           "size": 10
          },
          "showarrow": false,
          "text": "CA<br>8.2",
          "x": 0,
          "y": -4
         },
         {
          "font": {
           "size": 10
          },
          "showarrow": false,
          "text": "CO<br>17.3",
          "x": 3,
          "y": -4
         },
         {
          "font": {
           "size": 10
          },
          "showarrow": false,
          "text": "CT<br>6.2",
          "x": 10,
          "y": -2
         },
         {
          "font": {
           "size": 10
          },
          "showarrow": false,
          "text": "DE<br>12.0",
          "x": 10,
          "y": -4
         },
         {
          "font": {
           "size": 10
          },
          "showarrow": false,
          "text": "DC<br>33.1",
          "x": 8,
          "y": -4
         },
         {
          "font": {
           "size": 10
          },
          "showarrow": false,
          "text": "FL<br>14.4",
          "x": 7,
          "y": -7
         },
         {
          "font": {
           "size": 10
          },
          "showarrow": false,
          "text": "GA<br>18.8",
          "x": 7,
          "y": -6
         },
         {
          "font": {
           "size": 10
          },
          "showarrow": false,
          "text": "HI<br>5.1",
          "x": 0,
          "y": -7
         },
         {
          "font": {
           "size": 10
          },
          "showarrow": false,
          "text": "ID<br>18.1",
          "x": 2,
          "y": -3
         },
         {
          "font": {
           "size": 10
          },
          "showarrow": false,
          "text": "IL<br>13.5",
          "x": 6,
          "y": -3
         },
         {
          "font": {
           "size": 10
          },
          "showarrow": false,
          "text": "IN<br>18.3",
          "x": 7,
          "y": -3
         },
         {
          "font": {
           "size": 10
          },
          "showarrow": false,
          "text": "IA<br>10.6",
          "x": 5,
          "y": -3
         },
         {
          "font": {
           "size": 10
          },
          "showarrow": false,
          "text": "KS<br>16.2",
          "x": 4,
          "y": -4
         },
         {
          "font": {
           "size": 10
          },
          "showarrow": false,
          "text": "KY<br>18.6",
          "x": 6,
          "y": -4
         },
         {
          "font": {
           "size": 10
          },
          "showarrow": false,
          "text": "LA<br>27.6",
          "x": 4,
          "y": -6
         },
         {
          "font": {
           "size": 10
          },
          "showarrow": false,
          "text": "ME<br>14.3",
          "x": 11,
          "y": 0
         },
         {
          "font": {
           "size": 10
          },
          "showarrow": false,
          "text": "MD<br>11.9",
          "x": 9,
          "y": -4
         },
         {
          "font": {
           "size": 10
          },
          "showarrow": false,
          "text": "MA<br>3.9",
          "x": 11,
          "y": -1
         },
         {
          "font": {
           "size": 10
          },
          "showarrow": false,
          "text": "MI<br>13.8",
          "x": 7,
          "y": -2
         },
         {
          "font": {
           "size": 10
          },
          "showarrow": false,
          "text": "MN<br>9.1",
          "x": 5,
          "y": -2
         },
         {
          "font": {
           "size": 10
          },
          "showarrow": false,
          "text": "MS<br>28.7",
          "x": 5,
          "y": -6
         },
         {
          "font": {
           "size": 10
          },
          "showarrow": false,
          "text": "MO<br>21.4",
          "x": 5,
          "y": -4
         },
         {
          "font": {
           "size": 10
          },
          "showarrow": false,
          "text": "MT<br>21.8",
          "x": 2,
          "y": -2
         },
         {
          "font": {
           "size": 10
          },
          "showarrow": false,
          "text": "NE<br>10.8",
          "x": 4,
          "y": -3
         },
         {
          "font": {
           "size": 10
          },
          "showarrow": false,
          "text": "NV<br>19.3",
          "x": 1,
          "y": -4
         },
         {
          "font": {
           "size": 10
          },
          "showarrow": false,
          "text": "NH<br>10.2",
          "x": 10,
          "y": -1
         },
         {
          "font": {
           "size": 10
          },
          "showarrow": false,
          "text": "NJ<br>4.6",
          "x": 10,
          "y": -3
         },
         {
          "font": {
           "size": 10
          },
          "showarrow": false,
          "text": "NM<br>25.1",
          "x": 3,
          "y": -5
         },
         {
          "font": {
           "size": 10
          },
          "showarrow": false,
          "text": "NY<br>4.8",
          "x": 9,
          "y": -2
         },
         {
          "font": {
           "size": 10
          },
          "showarrow": false,
          "text": "NC<br>16.6",
          "x": 8,
          "y": -5
         },
         {
          "font": {
           "size": 10
          },
          "showarrow": false,
          "text": "ND<br>13.1",
          "x": 3,
          "y": -2
         },
         {
          "font": {
           "size": 10
          },
          "showarrow": false,
          "text": "OH<br>15.0",
          "x": 8,
          "y": -3
         },
         {
          "font": {
           "size": 10
          },
          "showarrow": false,
          "text": "OK<br>20.1",
          "x": 4,
          "y": -5
         },
         {
          "font": {
           "size": 10
          },
          "showarrow": false,
          "text": "OR<br>15.2",
          "x": 1,
          "y": -3
         },
         {
          "font": {
           "size": 10
          },
          "showarrow": false,
          "text": "PA<br>13.9",
          "x": 9,
          "y": -3
         },
         {
          "font": {
           "size": 10
          },
          "showarrow": false,
          "text": "RI<br>5.3",
          "x": 11,
          "y": -2
         },
         {
          "font": {
           "size": 10
          },
          "showarrow": false,
          "text": "SC<br>19.0",
          "x": 8,
          "y": -6
         },
         {
          "font": {
           "size": 10
          },
          "showarrow": false,
          "text": "SD<br>12.2",
          "x": 4,
          "y": -2
         },
         {
          "font": {
           "size": 10
          },
          "showarrow": false,
          "text": "TN<br>22.3",
          "x": 6,
          "y": -5
         },
         {
          "font": {
           "size": 10
          },
          "showarrow": false,
          "text": "TX<br>15.0",
          "x": 3,
          "y": -6
         },
         {
          "font": {
           "size": 10
          },
          "showarrow": false,
          "text": "UT<br>14.3",
          "x": 2,
          "y": -4
         },
         {
          "font": {
           "size": 10
          },
          "showarrow": false,
          "text": "VT<br>12.8",
          "x": 9,
          "y": -1
         },
         {
          "font": {
           "size": 10
          },
          "showarrow": false,
          "text": "VA<br>14.2",
          "x": 7,
          "y": -5
         },
         {
          "font": {
           "size": 10
          },
          "showarrow": false,
          "text": "WA<br>13.5",
          "x": 1,
          "y": -2
         },
         {
          "font": {
           "size": 10
          },
          "showarrow": false,
          "text": "WV<br>17.8",
          "x": 7,
          "y": -4
         },
         {
          "font": {
           "size": 10
          },
          "showarrow": false,
          "text": "WI<br>12.9",
          "x": 6,
          "y": -2
         },
         {
          "font": {
           "size": 10
          },
          "showarrow": false,
          "text": "WY<br>22.3",
          "x": 3,
          "y": -3
         }
        ],
        "legend": {
         "title": {
          "text": "Gun Laws Strength"
         },
         "tracegroupgap": 0
        },
        "margin": {
         "b": 5,
         "l": 5,
         "r": 5,
         "t": 5
        },
        "plot_bgcolor": "white",
        "template": {
         "data": {
          "bar": [
           {
            "error_x": {
             "color": "#2a3f5f"
            },
            "error_y": {
             "color": "#2a3f5f"
            },
            "marker": {
             "line": {
              "color": "#E5ECF6",
              "width": 0.5
             },
             "pattern": {
              "fillmode": "overlay",
              "size": 10,
              "solidity": 0.2
             }
            },
            "type": "bar"
           }
          ],
          "barpolar": [
           {
            "marker": {
             "line": {
              "color": "#E5ECF6",
              "width": 0.5
             },
             "pattern": {
              "fillmode": "overlay",
              "size": 10,
              "solidity": 0.2
             }
            },
            "type": "barpolar"
           }
          ],
          "carpet": [
           {
            "aaxis": {
             "endlinecolor": "#2a3f5f",
             "gridcolor": "white",
             "linecolor": "white",
             "minorgridcolor": "white",
             "startlinecolor": "#2a3f5f"
            },
            "baxis": {
             "endlinecolor": "#2a3f5f",
             "gridcolor": "white",
             "linecolor": "white",
             "minorgridcolor": "white",
             "startlinecolor": "#2a3f5f"
            },
            "type": "carpet"
           }
          ],
          "choropleth": [
           {
            "colorbar": {
             "outlinewidth": 0,
             "ticks": ""
            },
            "type": "choropleth"
           }
          ],
          "contour": [
           {
            "colorbar": {
             "outlinewidth": 0,
             "ticks": ""
            },
            "colorscale": [
             [
              0,
              "#0d0887"
             ],
             [
              0.1111111111111111,
              "#46039f"
             ],
             [
              0.2222222222222222,
              "#7201a8"
             ],
             [
              0.3333333333333333,
              "#9c179e"
             ],
             [
              0.4444444444444444,
              "#bd3786"
             ],
             [
              0.5555555555555556,
              "#d8576b"
             ],
             [
              0.6666666666666666,
              "#ed7953"
             ],
             [
              0.7777777777777778,
              "#fb9f3a"
             ],
             [
              0.8888888888888888,
              "#fdca26"
             ],
             [
              1,
              "#f0f921"
             ]
            ],
            "type": "contour"
           }
          ],
          "contourcarpet": [
           {
            "colorbar": {
             "outlinewidth": 0,
             "ticks": ""
            },
            "type": "contourcarpet"
           }
          ],
          "heatmap": [
           {
            "colorbar": {
             "outlinewidth": 0,
             "ticks": ""
            },
            "colorscale": [
             [
              0,
              "#0d0887"
             ],
             [
              0.1111111111111111,
              "#46039f"
             ],
             [
              0.2222222222222222,
              "#7201a8"
             ],
             [
              0.3333333333333333,
              "#9c179e"
             ],
             [
              0.4444444444444444,
              "#bd3786"
             ],
             [
              0.5555555555555556,
              "#d8576b"
             ],
             [
              0.6666666666666666,
              "#ed7953"
             ],
             [
              0.7777777777777778,
              "#fb9f3a"
             ],
             [
              0.8888888888888888,
              "#fdca26"
             ],
             [
              1,
              "#f0f921"
             ]
            ],
            "type": "heatmap"
           }
          ],
          "histogram": [
           {
            "marker": {
             "pattern": {
              "fillmode": "overlay",
              "size": 10,
              "solidity": 0.2
             }
            },
            "type": "histogram"
           }
          ],
          "histogram2d": [
           {
            "colorbar": {
             "outlinewidth": 0,
             "ticks": ""
            },
            "colorscale": [
             [
              0,
              "#0d0887"
             ],
             [
              0.1111111111111111,
              "#46039f"
             ],
             [
              0.2222222222222222,
              "#7201a8"
             ],
             [
              0.3333333333333333,
              "#9c179e"
             ],
             [
              0.4444444444444444,
              "#bd3786"
             ],
             [
              0.5555555555555556,
              "#d8576b"
             ],
             [
              0.6666666666666666,
              "#ed7953"
             ],
             [
              0.7777777777777778,
              "#fb9f3a"
             ],
             [
              0.8888888888888888,
              "#fdca26"
             ],
             [
              1,
              "#f0f921"
             ]
            ],
            "type": "histogram2d"
           }
          ],
          "histogram2dcontour": [
           {
            "colorbar": {
             "outlinewidth": 0,
             "ticks": ""
            },
            "colorscale": [
             [
              0,
              "#0d0887"
             ],
             [
              0.1111111111111111,
              "#46039f"
             ],
             [
              0.2222222222222222,
              "#7201a8"
             ],
             [
              0.3333333333333333,
              "#9c179e"
             ],
             [
              0.4444444444444444,
              "#bd3786"
             ],
             [
              0.5555555555555556,
              "#d8576b"
             ],
             [
              0.6666666666666666,
              "#ed7953"
             ],
             [
              0.7777777777777778,
              "#fb9f3a"
             ],
             [
              0.8888888888888888,
              "#fdca26"
             ],
             [
              1,
              "#f0f921"
             ]
            ],
            "type": "histogram2dcontour"
           }
          ],
          "mesh3d": [
           {
            "colorbar": {
             "outlinewidth": 0,
             "ticks": ""
            },
            "type": "mesh3d"
           }
          ],
          "parcoords": [
           {
            "line": {
             "colorbar": {
              "outlinewidth": 0,
              "ticks": ""
             }
            },
            "type": "parcoords"
           }
          ],
          "pie": [
           {
            "automargin": true,
            "type": "pie"
           }
          ],
          "scatter": [
           {
            "fillpattern": {
             "fillmode": "overlay",
             "size": 10,
             "solidity": 0.2
            },
            "type": "scatter"
           }
          ],
          "scatter3d": [
           {
            "line": {
             "colorbar": {
              "outlinewidth": 0,
              "ticks": ""
             }
            },
            "marker": {
             "colorbar": {
              "outlinewidth": 0,
              "ticks": ""
             }
            },
            "type": "scatter3d"
           }
          ],
          "scattercarpet": [
           {
            "marker": {
             "colorbar": {
              "outlinewidth": 0,
              "ticks": ""
             }
            },
            "type": "scattercarpet"
           }
          ],
          "scattergeo": [
           {
            "marker": {
             "colorbar": {
              "outlinewidth": 0,
              "ticks": ""
             }
            },
            "type": "scattergeo"
           }
          ],
          "scattergl": [
           {
            "marker": {
             "colorbar": {
              "outlinewidth": 0,
              "ticks": ""
             }
            },
            "type": "scattergl"
           }
          ],
          "scattermap": [
           {
            "marker": {
             "colorbar": {
              "outlinewidth": 0,
              "ticks": ""
             }
            },
            "type": "scattermap"
           }
          ],
          "scattermapbox": [
           {
            "marker": {
             "colorbar": {
              "outlinewidth": 0,
              "ticks": ""
             }
            },
            "type": "scattermapbox"
           }
          ],
          "scatterpolar": [
           {
            "marker": {
             "colorbar": {
              "outlinewidth": 0,
              "ticks": ""
             }
            },
            "type": "scatterpolar"
           }
          ],
          "scatterpolargl": [
           {
            "marker": {
             "colorbar": {
              "outlinewidth": 0,
              "ticks": ""
             }
            },
            "type": "scatterpolargl"
           }
          ],
          "scatterternary": [
           {
            "marker": {
             "colorbar": {
              "outlinewidth": 0,
              "ticks": ""
             }
            },
            "type": "scatterternary"
           }
          ],
          "surface": [
           {
            "colorbar": {
             "outlinewidth": 0,
             "ticks": ""
            },
            "colorscale": [
             [
              0,
              "#0d0887"
             ],
             [
              0.1111111111111111,
              "#46039f"
             ],
             [
              0.2222222222222222,
              "#7201a8"
             ],
             [
              0.3333333333333333,
              "#9c179e"
             ],
             [
              0.4444444444444444,
              "#bd3786"
             ],
             [
              0.5555555555555556,
              "#d8576b"
             ],
             [
              0.6666666666666666,
              "#ed7953"
             ],
             [
              0.7777777777777778,
              "#fb9f3a"
             ],
             [
              0.8888888888888888,
              "#fdca26"
             ],
             [
              1,
              "#f0f921"
             ]
            ],
            "type": "surface"
           }
          ],
          "table": [
           {
            "cells": {
             "fill": {
              "color": "#EBF0F8"
             },
             "line": {
              "color": "white"
             }
            },
            "header": {
             "fill": {
              "color": "#C8D4E3"
             },
             "line": {
              "color": "white"
             }
            },
            "type": "table"
           }
          ]
         },
         "layout": {
          "annotationdefaults": {
           "arrowcolor": "#2a3f5f",
           "arrowhead": 0,
           "arrowwidth": 1
          },
          "autotypenumbers": "strict",
          "coloraxis": {
           "colorbar": {
            "outlinewidth": 0,
            "ticks": ""
           }
          },
          "colorscale": {
           "diverging": [
            [
             0,
             "#8e0152"
            ],
            [
             0.1,
             "#c51b7d"
            ],
            [
             0.2,
             "#de77ae"
            ],
            [
             0.3,
             "#f1b6da"
            ],
            [
             0.4,
             "#fde0ef"
            ],
            [
             0.5,
             "#f7f7f7"
            ],
            [
             0.6,
             "#e6f5d0"
            ],
            [
             0.7,
             "#b8e186"
            ],
            [
             0.8,
             "#7fbc41"
            ],
            [
             0.9,
             "#4d9221"
            ],
            [
             1,
             "#276419"
            ]
           ],
           "sequential": [
            [
             0,
             "#0d0887"
            ],
            [
             0.1111111111111111,
             "#46039f"
            ],
            [
             0.2222222222222222,
             "#7201a8"
            ],
            [
             0.3333333333333333,
             "#9c179e"
            ],
            [
             0.4444444444444444,
             "#bd3786"
            ],
            [
             0.5555555555555556,
             "#d8576b"
            ],
            [
             0.6666666666666666,
             "#ed7953"
            ],
            [
             0.7777777777777778,
             "#fb9f3a"
            ],
            [
             0.8888888888888888,
             "#fdca26"
            ],
            [
             1,
             "#f0f921"
            ]
           ],
           "sequentialminus": [
            [
             0,
             "#0d0887"
            ],
            [
             0.1111111111111111,
             "#46039f"
            ],
            [
             0.2222222222222222,
             "#7201a8"
            ],
            [
             0.3333333333333333,
             "#9c179e"
            ],
            [
             0.4444444444444444,
             "#bd3786"
            ],
            [
             0.5555555555555556,
             "#d8576b"
            ],
            [
             0.6666666666666666,
             "#ed7953"
            ],
            [
             0.7777777777777778,
             "#fb9f3a"
            ],
            [
             0.8888888888888888,
             "#fdca26"
            ],
            [
             1,
             "#f0f921"
            ]
           ]
          },
          "colorway": [
           "#636efa",
           "#EF553B",
           "#00cc96",
           "#ab63fa",
           "#FFA15A",
           "#19d3f3",
           "#FF6692",
           "#B6E880",
           "#FF97FF",
           "#FECB52"
          ],
          "font": {
           "color": "#2a3f5f"
          },
          "geo": {
           "bgcolor": "white",
           "lakecolor": "white",
           "landcolor": "#E5ECF6",
           "showlakes": true,
           "showland": true,
           "subunitcolor": "white"
          },
          "hoverlabel": {
           "align": "left"
          },
          "hovermode": "closest",
          "mapbox": {
           "style": "light"
          },
          "paper_bgcolor": "white",
          "plot_bgcolor": "#E5ECF6",
          "polar": {
           "angularaxis": {
            "gridcolor": "white",
            "linecolor": "white",
            "ticks": ""
           },
           "bgcolor": "#E5ECF6",
           "radialaxis": {
            "gridcolor": "white",
            "linecolor": "white",
            "ticks": ""
           }
          },
          "scene": {
           "xaxis": {
            "backgroundcolor": "#E5ECF6",
            "gridcolor": "white",
            "gridwidth": 2,
            "linecolor": "white",
            "showbackground": true,
            "ticks": "",
            "zerolinecolor": "white"
           },
           "yaxis": {
            "backgroundcolor": "#E5ECF6",
            "gridcolor": "white",
            "gridwidth": 2,
            "linecolor": "white",
            "showbackground": true,
            "ticks": "",
            "zerolinecolor": "white"
           },
           "zaxis": {
            "backgroundcolor": "#E5ECF6",
            "gridcolor": "white",
            "gridwidth": 2,
            "linecolor": "white",
            "showbackground": true,
            "ticks": "",
            "zerolinecolor": "white"
           }
          },
          "shapedefaults": {
           "line": {
            "color": "#2a3f5f"
           }
          },
          "ternary": {
           "aaxis": {
            "gridcolor": "white",
            "linecolor": "white",
            "ticks": ""
           },
           "baxis": {
            "gridcolor": "white",
            "linecolor": "white",
            "ticks": ""
           },
           "bgcolor": "#E5ECF6",
           "caxis": {
            "gridcolor": "white",
            "linecolor": "white",
            "ticks": ""
           }
          },
          "title": {
           "x": 0.05
          },
          "xaxis": {
           "automargin": true,
           "gridcolor": "white",
           "linecolor": "white",
           "ticks": "",
           "title": {
            "standoff": 15
           },
           "zerolinecolor": "white",
           "zerolinewidth": 2
          },
          "yaxis": {
           "automargin": true,
           "gridcolor": "white",
           "linecolor": "white",
           "ticks": "",
           "title": {
            "standoff": 15
           },
           "zerolinecolor": "white",
           "zerolinewidth": 2
          }
         }
        },
        "xaxis": {
         "anchor": "y",
         "domain": [
          0,
          1
         ],
         "title": {
          "text": "x"
         },
         "visible": false
        },
        "yaxis": {
         "anchor": "x",
         "domain": [
          0,
          1
         ],
         "scaleanchor": "x",
         "scaleratio": 1,
         "title": {
          "text": "y"
         },
         "visible": false
        }
       }
      }
     },
     "metadata": {},
     "output_type": "display_data"
    }
   ],
   "source": [
    "import plotly.express as px\n",
    "\n",
    "# state name to USPS code\n",
    "name_to_code = {\n",
    "    'Alabama':'AL','Alaska':'AK','Arizona':'AZ','Arkansas':'AR','California':'CA','Colorado':'CO',\n",
    "    'Connecticut':'CT','Delaware':'DE','District of Columbia':'DC','Florida':'FL','Georgia':'GA',\n",
    "    'Hawaii':'HI','Idaho':'ID','Illinois':'IL','Indiana':'IN','Iowa':'IA','Kansas':'KS','Kentucky':'KY',\n",
    "    'Louisiana':'LA','Maine':'ME','Maryland':'MD','Massachusetts':'MA','Michigan':'MI','Minnesota':'MN',\n",
    "    'Mississippi':'MS','Missouri':'MO','Montana':'MT','Nebraska':'NE','Nevada':'NV','New Hampshire':'NH',\n",
    "    'New Jersey':'NJ','New Mexico':'NM','New York':'NY','North Carolina':'NC','North Dakota':'ND',\n",
    "    'Ohio':'OH','Oklahoma':'OK','Oregon':'OR','Pennsylvania':'PA','Rhode Island':'RI','South Carolina':'SC',\n",
    "    'South Dakota':'SD','Tennessee':'TN','Texas':'TX','Utah':'UT','Vermont':'VT','Virginia':'VA',\n",
    "    'Washington':'WA','West Virginia':'WV','Wisconsin':'WI','Wyoming':'WY'\n",
    "}\n",
    "\n",
    "merged[\"state_code\"] = merged[\"state\"].map(name_to_code)\n",
    "\n",
    "df = merged.copy()\n",
    "\n",
    "df[\"rate\"] = pd.to_numeric(df[\"rate\"], errors=\"coerce\")\n",
    "\n",
    "df[\"likert\"] = df[\"gun_laws\"]\n",
    "\n",
    "# Define ordered Likert levels so the legend sorts logically\n",
    "order = [\"Very Weak\", \"Weak\", \"Neutral\", \"Strong\", \"Very Strong\"]\n",
    "df[\"Gun Laws\"] = pd.Categorical(df[\"likert\"], categories=order, ordered=True)\n",
    "\n",
    "# Tiled US grid positions\n",
    "nyt_states = pd.read_csv(\"https://raw.githubusercontent.com/kristw/gridmap-layout-usa/refs/heads/master/dist/gridmap-layout-usa.csv\")\n",
    "\n",
    "# Merge by state code\n",
    "df2 = df.merge(nyt_states, left_on=\"state_code\", right_on=\"key\", how=\"left\")\n",
    "\n",
    "df2[\"y\"] = df2[\"y\"] * -1\n",
    "\n",
    "# Safety check for any states missing a grid placement\n",
    "missing = df2[df2[\"x\"].isna()]\n",
    "if not missing.empty:\n",
    "    print(\"Warning: missing grid placement for:\", sorted(missing[\"state_code\"].unique().tolist()))\n",
    "    \n",
    "likert_colors = [\"#AEC6CF\", \"#BFD4DB\", \"#EBEBEB\", \"#FFDFBF\", \"#FFB347\"]\n",
    "\n",
    "# Build the figure\n",
    "fig = px.scatter(\n",
    "    df2, x=\"x\", y=\"y\",\n",
    "    color=\"Gun Laws\",\n",
    "    hover_name=\"state\",\n",
    "    hover_data={\n",
    "        \"Gun Death Rate\": df2[\"rate\"],\n",
    "        \"Homicide Rate\": df2[\"fa_homicide_rate\"],\n",
    "        \"Suicide Rate\": df2[\"fa_suicide_rate\"],\n",
    "        \"gun_laws\": False,\n",
    "        \"x\": False, \"y\": False, \"x\": False, \"y\": False\n",
    "    },\n",
    "    category_orders={\"Gun Laws\": order},\n",
    "    color_discrete_sequence=likert_colors\n",
    ")\n",
    "\n",
    "# Square tiles\n",
    "fig.update_traces(marker=dict(symbol=\"square\", size=40, line=dict(color=\"white\", width=1)))\n",
    "\n",
    "# Add tile labels: state code and rate\n",
    "for _, r in df2.dropna(subset=[\"x\",\"y\"]).iterrows():\n",
    "    fig.add_annotation(\n",
    "        x=r[\"x\"], y=r[\"y\"],\n",
    "        text=f\"{r['state_code']}<br>{r['rate']:.1f}\" if pd.notna(r[\"rate\"]) else f\"{r['state_code']}\",\n",
    "        showarrow=False,\n",
    "        font=dict(size=10)\n",
    "    )\n",
    "\n",
    "# Style\n",
    "fig.update_xaxes(visible=False)\n",
    "fig.update_yaxes(visible=False, scaleanchor=\"x\", scaleratio=1)\n",
    "fig.update_layout(\n",
    "    plot_bgcolor=\"white\",\n",
    "    margin=dict(l=5, r=5, t=5, b=5),\n",
    "    legend_title_text=\"Gun Laws Strength\"\n",
    ")\n"
   ]
  },
  {
   "cell_type": "markdown",
   "id": "9d5d095e",
   "metadata": {},
   "source": [
    "## Firearm Fataility vs Gun Laws Strength\n",
    "\n",
    "To better understand the relationship between the strength of gun laws and firearm mortality, a boxplot was used to illustrate the distribution of firearm death rates across varying levels of legislative strictness. The visualization reveals a general downward trend, indicating that states with stricter gun laws tend to have lower firearm death rates.\n",
    "An exception to this pattern is New Mexico, which, despite having relatively strong firearm regulations, exhibits an unusually high firearm death rate of approximately 25 per 100,000 persons."
   ]
  },
  {
   "cell_type": "code",
   "execution_count": 16,
   "id": "adc83f9a",
   "metadata": {},
   "outputs": [
    {
     "data": {
      "image/png": "[encoded data removed]",
      "text/plain": [
       "<Figure size 800x600 with 1 Axes>"
      ]
     },
     "metadata": {},
     "output_type": "display_data"
    }
   ],
   "source": [
    "import seaborn as sns\n",
    "import matplotlib.pyplot as plt\n",
    "\n",
    "order = [\"Very Weak\", \"Weak\", \"Neutral\", \"Strong\", \"Very Strong\"]\n",
    "palette = sns.color_palette(likert_colors, n_colors=len(order)) \n",
    "plt.figure(figsize=(8, 6))\n",
    "ax = sns.boxplot(\n",
    "    data=merged,\n",
    "    x=\"gun_laws\",\n",
    "    y=\"rate\",\n",
    "    order=order,\n",
    "    palette=palette\n",
    ")\n",
    "sns.despine()\n",
    "plt.xlabel(\"Gun Laws Strength\")\n",
    "plt.ylabel(\"Firearm Fatality Rate (Per 100K)\")\n",
    "plt.title(\"Firearm Fatality Rate (Per 100K) by Gun Law Strength\")\n",
    "plt.xticks(rotation=0)\n",
    "\n",
    "# --- Identify and label outliers ---\n",
    "for i, level in enumerate(order):\n",
    "    subset = merged[merged[\"gun_laws\"] == level]\n",
    "    q1 = subset[\"rate\"].quantile(0.25)\n",
    "    q3 = subset[\"rate\"].quantile(0.75)\n",
    "    iqr = q3 - q1\n",
    "    lower = q1 - 1.5 * iqr\n",
    "    upper = q3 + 1.5 * iqr\n",
    "\n",
    "    # Filter outliers\n",
    "    outliers = subset[(subset[\"rate\"] < lower) | (subset[\"rate\"] > upper)]\n",
    "\n",
    "    # Label each outlier\n",
    "    for _, row in outliers.iterrows():\n",
    "        ax.text(\n",
    "            x=i, \n",
    "            y=row[\"rate\"], \n",
    "            s=row[\"state\"],  # assumes you have a 'state' column\n",
    "            ha=\"center\", \n",
    "            va=\"bottom\",\n",
    "            fontsize=8,\n",
    "            color=\"black\",\n",
    "            rotation=30\n",
    "        )\n",
    "\n",
    "plt.tight_layout()\n",
    "plt.show()\n"
   ]
  }
 ],
 "metadata": {
  "kernelspec": {
   "display_name": "Python 3",
   "language": "python",
   "name": "python3"
  },
  "language_info": {
   "codemirror_mode": {
    "name": "ipython",
    "version": 3
   },
   "file_extension": ".py",
   "mimetype": "text/x-python",
   "name": "python",
   "nbconvert_exporter": "python",
   "pygments_lexer": "ipython3",
   "version": "3.9.6"
  }
 },
 "nbformat": 4,
 "nbformat_minor": 5
}
