{
 "cells": [
  {
   "cell_type": "markdown",
   "id": "08e1f3b3",
   "metadata": {},
   "source": [
    "[CDC Firearm Mortality](https://www.cdc.gov/nchs/state-stats/deaths/firearms.html?CDC_AAref_Val=https://www.cdc.gov/nchs/pressroom/sosmap/firearm_mortality/firearm.htm)"
   ]
  },
  {
   "cell_type": "code",
   "execution_count": 159,
   "id": "89ec3cd6",
   "metadata": {},
   "outputs": [
    {
     "name": "stdout",
     "output_type": "stream",
     "text": [
      "All firearm deaths, 2023:\n",
      "        state geoid     intent period  rate count_sup               data_as_of\n",
      "0     Alabama    01  FA_Deaths   2023  25.3      1292  2025-09-05T00:00:00.000\n",
      "1      Alaska    02  FA_Deaths   2023  24.0       176  2025-09-05T00:00:00.000\n",
      "2     Arizona    04  FA_Deaths   2023  19.1      1419  2025-09-05T00:00:00.000\n",
      "3    Arkansas    05  FA_Deaths   2023  21.9       671  2025-09-05T00:00:00.000\n",
      "4  California    06  FA_Deaths   2023   8.2      3209  2025-09-05T00:00:00.000 \n",
      "Rows: 51\n",
      "\n",
      "Combined firearm mortality by state (all, homicide, suicide):\n",
      "        state geoid     intent period  rate count_sup  \\\n",
      "0     Alabama    01  FA_Deaths   2023  25.3      1292   \n",
      "1      Alaska    02  FA_Deaths   2023  24.0       176   \n",
      "2     Arizona    04  FA_Deaths   2023  19.1      1419   \n",
      "3    Arkansas    05  FA_Deaths   2023  21.9       671   \n",
      "4  California    06  FA_Deaths   2023   8.2      3209   \n",
      "\n",
      "                data_as_of  fa_homicide_rate  fa_suicide_rate  \n",
      "0  2025-09-05T00:00:00.000              12.4             12.1  \n",
      "1  2025-09-05T00:00:00.000               6.4             16.4  \n",
      "2  2025-09-05T00:00:00.000               5.5             12.8  \n",
      "3  2025-09-05T00:00:00.000               8.6             12.8  \n",
      "4  2025-09-05T00:00:00.000               3.7              4.2  \n"
     ]
    }
   ],
   "source": [
    "import requests\n",
    "import pandas as pd\n",
    "import numpy as np\n",
    "\n",
    "BASE = \"https://data.cdc.gov/resource/fpsi-y8tj.json\"\n",
    "\n",
    "def fetch_firearm_state(period=\"2023\", intent=\"FA_Deaths\"):\n",
    "    params = {\n",
    "        \"$select\": \"name as state, geoid, intent, period, rate, count_sup, data_as_of\",\n",
    "        \"$where\": f\"period='{period}' AND intent='{intent}'\",\n",
    "        \"$order\": \"state\",\n",
    "        \"$limit\": 50000\n",
    "    }\n",
    "    r = requests.get(BASE, params=params, timeout=60)\n",
    "    r.raise_for_status()\n",
    "    df = pd.DataFrame(r.json())\n",
    "    if not df.empty and \"rate\" in df.columns:\n",
    "        df[\"rate\"] = pd.to_numeric(df[\"rate\"], errors=\"coerce\")\n",
    "    return df\n",
    "\n",
    "# All firearm deaths by state for 2023\n",
    "df_all = fetch_firearm_state(period=\"2023\", intent=\"FA_Deaths\")\n",
    "print(\"All firearm deaths, 2023:\")\n",
    "print(df_all.head(), \"\\nRows:\", len(df_all))\n",
    "\n",
    "# Obtain Homicide and Suicde Rates\n",
    "df_homicide = fetch_firearm_state(period=\"2023\", intent=\"FA_Homicide\")\n",
    "df_suicide = fetch_firearm_state(period=\"2023\", intent=\"FA_Suicide\")\n",
    "\n",
    "# Combinne each query\n",
    "combined = (\n",
    "    df_all.merge(df_homicide[[\"state\",\"rate\"]].rename(columns={\"rate\":\"fa_homicide_rate\"}), on=\"state\", how=\"left\")\n",
    "          .merge(df_suicide[[\"state\",\"rate\"]].rename(columns={\"rate\":\"fa_suicide_rate\"}), on=\"state\", how=\"left\")\n",
    ")\n",
    "print(\"\\nCombined firearm mortality by state (all, homicide, suicide):\")\n",
    "print(combined.head())\n",
    "\n",
    "combined.to_csv(\"firearm_mortality_by_state_2023.csv\", index=False)\n"
   ]
  },
  {
   "cell_type": "markdown",
   "id": "1daff46e",
   "metadata": {},
   "source": [
    "[World Population Review](https://worldpopulationreview.com/state-rankings/strictest-gun-laws-by-state)"
   ]
  },
  {
   "cell_type": "code",
   "execution_count": 160,
   "id": "b6cc3fb1",
   "metadata": {},
   "outputs": [],
   "source": [
    "df_laws = pd.read_csv(\"strictest-gun-laws-by-state-2025.csv\")"
   ]
  },
  {
   "cell_type": "code",
   "execution_count": 161,
   "id": "e826d8af",
   "metadata": {},
   "outputs": [
    {
     "name": "stdout",
     "output_type": "stream",
     "text": [
      "No grade found for: ['District of Columbia']\n"
     ]
    },
    {
     "data": {
      "text/html": [
       "<div>\n",
       "<style scoped>\n",
       "    .dataframe tbody tr th:only-of-type {\n",
       "        vertical-align: middle;\n",
       "    }\n",
       "\n",
       "    .dataframe tbody tr th {\n",
       "        vertical-align: top;\n",
       "    }\n",
       "\n",
       "    .dataframe thead th {\n",
       "        text-align: right;\n",
       "    }\n",
       "</style>\n",
       "<table border=\"1\" class=\"dataframe\">\n",
       "  <thead>\n",
       "    <tr style=\"text-align: right;\">\n",
       "      <th></th>\n",
       "      <th>state</th>\n",
       "      <th>geoid</th>\n",
       "      <th>intent</th>\n",
       "      <th>period</th>\n",
       "      <th>rate</th>\n",
       "      <th>count_sup</th>\n",
       "      <th>data_as_of</th>\n",
       "      <th>fa_homicide_rate</th>\n",
       "      <th>fa_suicide_rate</th>\n",
       "      <th>StrictestGunLawsGiffordGrade_2024</th>\n",
       "    </tr>\n",
       "  </thead>\n",
       "  <tbody>\n",
       "    <tr>\n",
       "      <th>0</th>\n",
       "      <td>Alabama</td>\n",
       "      <td>01</td>\n",
       "      <td>FA_Deaths</td>\n",
       "      <td>2023</td>\n",
       "      <td>25.3</td>\n",
       "      <td>1292</td>\n",
       "      <td>2025-09-05T00:00:00.000</td>\n",
       "      <td>12.4</td>\n",
       "      <td>12.1</td>\n",
       "      <td>F</td>\n",
       "    </tr>\n",
       "    <tr>\n",
       "      <th>1</th>\n",
       "      <td>Alaska</td>\n",
       "      <td>02</td>\n",
       "      <td>FA_Deaths</td>\n",
       "      <td>2023</td>\n",
       "      <td>24.0</td>\n",
       "      <td>176</td>\n",
       "      <td>2025-09-05T00:00:00.000</td>\n",
       "      <td>6.4</td>\n",
       "      <td>16.4</td>\n",
       "      <td>F</td>\n",
       "    </tr>\n",
       "    <tr>\n",
       "      <th>2</th>\n",
       "      <td>Arizona</td>\n",
       "      <td>04</td>\n",
       "      <td>FA_Deaths</td>\n",
       "      <td>2023</td>\n",
       "      <td>19.1</td>\n",
       "      <td>1419</td>\n",
       "      <td>2025-09-05T00:00:00.000</td>\n",
       "      <td>5.5</td>\n",
       "      <td>12.8</td>\n",
       "      <td>F</td>\n",
       "    </tr>\n",
       "    <tr>\n",
       "      <th>3</th>\n",
       "      <td>Arkansas</td>\n",
       "      <td>05</td>\n",
       "      <td>FA_Deaths</td>\n",
       "      <td>2023</td>\n",
       "      <td>21.9</td>\n",
       "      <td>671</td>\n",
       "      <td>2025-09-05T00:00:00.000</td>\n",
       "      <td>8.6</td>\n",
       "      <td>12.8</td>\n",
       "      <td>F</td>\n",
       "    </tr>\n",
       "    <tr>\n",
       "      <th>4</th>\n",
       "      <td>California</td>\n",
       "      <td>06</td>\n",
       "      <td>FA_Deaths</td>\n",
       "      <td>2023</td>\n",
       "      <td>8.2</td>\n",
       "      <td>3209</td>\n",
       "      <td>2025-09-05T00:00:00.000</td>\n",
       "      <td>3.7</td>\n",
       "      <td>4.2</td>\n",
       "      <td>A</td>\n",
       "    </tr>\n",
       "  </tbody>\n",
       "</table>\n",
       "</div>"
      ],
      "text/plain": [
       "        state geoid     intent period  rate count_sup  \\\n",
       "0     Alabama    01  FA_Deaths   2023  25.3      1292   \n",
       "1      Alaska    02  FA_Deaths   2023  24.0       176   \n",
       "2     Arizona    04  FA_Deaths   2023  19.1      1419   \n",
       "3    Arkansas    05  FA_Deaths   2023  21.9       671   \n",
       "4  California    06  FA_Deaths   2023   8.2      3209   \n",
       "\n",
       "                data_as_of  fa_homicide_rate  fa_suicide_rate  \\\n",
       "0  2025-09-05T00:00:00.000              12.4             12.1   \n",
       "1  2025-09-05T00:00:00.000               6.4             16.4   \n",
       "2  2025-09-05T00:00:00.000               5.5             12.8   \n",
       "3  2025-09-05T00:00:00.000               8.6             12.8   \n",
       "4  2025-09-05T00:00:00.000               3.7              4.2   \n",
       "\n",
       "  StrictestGunLawsGiffordGrade_2024  \n",
       "0                                 F  \n",
       "1                                 F  \n",
       "2                                 F  \n",
       "3                                 F  \n",
       "4                                 A  "
      ]
     },
     "execution_count": 161,
     "metadata": {},
     "output_type": "execute_result"
    }
   ],
   "source": [
    "# If you have different spellings, normalize IN PLACE without creating a key column\n",
    "combined[\"state\"] = combined[\"state\"].str.strip().replace({\"Washington, D.C.\": \"District of Columbia\"})\n",
    "df_laws[\"state\"] = df_laws[\"state\"].str.strip().replace({\"Washington, D.C.\": \"District of Columbia\"})\n",
    "\n",
    "# Keep only the grade column from df_laws, then merge on 'state'\n",
    "laws_keep = df_laws[[\"state\", \"StrictestGunLawsGiffordGrade_2024\"]].drop_duplicates(\"state\")\n",
    "\n",
    "merged = combined.merge(laws_keep, on=\"state\", how=\"left\")\n",
    "\n",
    "# Optional: see which states did not match\n",
    "missing = sorted(set(merged[\"state\"]) - set(laws_keep[\"state\"]))\n",
    "if missing:\n",
    "    print(\"No grade found for:\", missing)\n",
    "\n",
    "merged.head()"
   ]
  },
  {
   "cell_type": "code",
   "execution_count": 162,
   "id": "3fa6ad87",
   "metadata": {},
   "outputs": [],
   "source": [
    "# normalize and extract a clean letter grade like A, A-, A+, B, B+, B-, ..., F\n",
    "g = (\n",
    "    merged[\"StrictestGunLawsGiffordGrade_2024\"]\n",
    "      .astype(str).str.upper().str.strip()\n",
    "      .str.extract(r'(A\\+|A\\-|A|B\\+|B\\-|B|C\\+|C\\-|C|D\\+|D\\-|D|F)')[0]\n",
    ")\n",
    "\n",
    "grade_to_likert = {\n",
    "    \"A+\": \"Very Strong\", \"A\": \"Very Strong\", \"A-\": \"Very Strong\",\n",
    "    \"B+\": \"Strong\", \"B\": \"Strong\", \"B-\": \"Strong\",\n",
    "    \"C+\": \"Neutral\", \"C\": \"Neutral\", \"C-\": \"Neutral\",\n",
    "    \"D+\": \"Weak\", \"D\": \"Weak\", \"D-\": \"Weak\",\n",
    "    \"F\": \"Very Weak\",\n",
    "}\n",
    "\n",
    "merged[\"StrictestGunLawsGiffordGrade_2024\"] = g.map(grade_to_likert)\n",
    "\n",
    "likert_order = [\"Very Weak\", \"Weak\", \"Neutral\", \"Strong\", \"Very Strong\"]\n",
    "cat = pd.CategoricalDtype(categories=likert_order, ordered=True)\n",
    "merged[\"StrictestGunLawsGiffordGrade_2024\"] = merged[\"StrictestGunLawsGiffordGrade_2024\"].astype(cat)\n",
    "\n",
    "unmapped = merged[merged[\"StrictestGunLawsGiffordGrade_2024\"].isna()]\n",
    "if not unmapped.empty:\n",
    "    print(\"Unmapped grades found in StrictestGunLawsGiffordGrade_2024:\")\n",
    "    print(unmapped[[\"state\"]].assign(original=merged[\"StrictestGunLawsGiffordGrade_2024\"]))"
   ]
  },
  {
   "cell_type": "code",
   "execution_count": 163,
   "id": "7f1bad16",
   "metadata": {},
   "outputs": [],
   "source": [
    "merged = merged.rename(columns={'StrictestGunLawsGiffordGrade_2024':'gun_laws'})"
   ]
  },
  {
   "cell_type": "code",
   "execution_count": 164,
   "id": "599750ac",
   "metadata": {},
   "outputs": [],
   "source": [
    "merged.to_csv(\"gun_data.csv\")"
   ]
  },
  {
   "cell_type": "code",
   "execution_count": 165,
   "id": "1d2562ce",
   "metadata": {},
   "outputs": [
    {
     "data": {
      "text/html": [
       "<div>\n",
       "<style scoped>\n",
       "    .dataframe tbody tr th:only-of-type {\n",
       "        vertical-align: middle;\n",
       "    }\n",
       "\n",
       "    .dataframe tbody tr th {\n",
       "        vertical-align: top;\n",
       "    }\n",
       "\n",
       "    .dataframe thead th {\n",
       "        text-align: right;\n",
       "    }\n",
       "</style>\n",
       "<table border=\"1\" class=\"dataframe\">\n",
       "  <thead>\n",
       "    <tr style=\"text-align: right;\">\n",
       "      <th></th>\n",
       "      <th>state</th>\n",
       "      <th>geoid</th>\n",
       "      <th>intent</th>\n",
       "      <th>period</th>\n",
       "      <th>rate</th>\n",
       "      <th>count_sup</th>\n",
       "      <th>data_as_of</th>\n",
       "      <th>fa_homicide_rate</th>\n",
       "      <th>fa_suicide_rate</th>\n",
       "      <th>gun_laws</th>\n",
       "    </tr>\n",
       "  </thead>\n",
       "  <tbody>\n",
       "    <tr>\n",
       "      <th>0</th>\n",
       "      <td>Alabama</td>\n",
       "      <td>01</td>\n",
       "      <td>FA_Deaths</td>\n",
       "      <td>2023</td>\n",
       "      <td>25.3</td>\n",
       "      <td>1292</td>\n",
       "      <td>2025-09-05T00:00:00.000</td>\n",
       "      <td>12.4</td>\n",
       "      <td>12.1</td>\n",
       "      <td>Very Weak</td>\n",
       "    </tr>\n",
       "    <tr>\n",
       "      <th>1</th>\n",
       "      <td>Alaska</td>\n",
       "      <td>02</td>\n",
       "      <td>FA_Deaths</td>\n",
       "      <td>2023</td>\n",
       "      <td>24.0</td>\n",
       "      <td>176</td>\n",
       "      <td>2025-09-05T00:00:00.000</td>\n",
       "      <td>6.4</td>\n",
       "      <td>16.4</td>\n",
       "      <td>Very Weak</td>\n",
       "    </tr>\n",
       "    <tr>\n",
       "      <th>2</th>\n",
       "      <td>Arizona</td>\n",
       "      <td>04</td>\n",
       "      <td>FA_Deaths</td>\n",
       "      <td>2023</td>\n",
       "      <td>19.1</td>\n",
       "      <td>1419</td>\n",
       "      <td>2025-09-05T00:00:00.000</td>\n",
       "      <td>5.5</td>\n",
       "      <td>12.8</td>\n",
       "      <td>Very Weak</td>\n",
       "    </tr>\n",
       "    <tr>\n",
       "      <th>3</th>\n",
       "      <td>Arkansas</td>\n",
       "      <td>05</td>\n",
       "      <td>FA_Deaths</td>\n",
       "      <td>2023</td>\n",
       "      <td>21.9</td>\n",
       "      <td>671</td>\n",
       "      <td>2025-09-05T00:00:00.000</td>\n",
       "      <td>8.6</td>\n",
       "      <td>12.8</td>\n",
       "      <td>Very Weak</td>\n",
       "    </tr>\n",
       "    <tr>\n",
       "      <th>4</th>\n",
       "      <td>California</td>\n",
       "      <td>06</td>\n",
       "      <td>FA_Deaths</td>\n",
       "      <td>2023</td>\n",
       "      <td>8.2</td>\n",
       "      <td>3209</td>\n",
       "      <td>2025-09-05T00:00:00.000</td>\n",
       "      <td>3.7</td>\n",
       "      <td>4.2</td>\n",
       "      <td>Very Strong</td>\n",
       "    </tr>\n",
       "    <tr>\n",
       "      <th>5</th>\n",
       "      <td>Colorado</td>\n",
       "      <td>08</td>\n",
       "      <td>FA_Deaths</td>\n",
       "      <td>2023</td>\n",
       "      <td>17.3</td>\n",
       "      <td>1019</td>\n",
       "      <td>2025-09-05T00:00:00.000</td>\n",
       "      <td>4.4</td>\n",
       "      <td>12.3</td>\n",
       "      <td>Very Strong</td>\n",
       "    </tr>\n",
       "    <tr>\n",
       "      <th>6</th>\n",
       "      <td>Connecticut</td>\n",
       "      <td>09</td>\n",
       "      <td>FA_Deaths</td>\n",
       "      <td>2023</td>\n",
       "      <td>6.2</td>\n",
       "      <td>225</td>\n",
       "      <td>2025-09-05T00:00:00.000</td>\n",
       "      <td>2.9</td>\n",
       "      <td>3.1</td>\n",
       "      <td>Very Strong</td>\n",
       "    </tr>\n",
       "    <tr>\n",
       "      <th>7</th>\n",
       "      <td>Delaware</td>\n",
       "      <td>10</td>\n",
       "      <td>FA_Deaths</td>\n",
       "      <td>2023</td>\n",
       "      <td>12.0</td>\n",
       "      <td>124</td>\n",
       "      <td>2025-09-05T00:00:00.000</td>\n",
       "      <td>4.2</td>\n",
       "      <td>7.4</td>\n",
       "      <td>Very Strong</td>\n",
       "    </tr>\n",
       "    <tr>\n",
       "      <th>8</th>\n",
       "      <td>District of Columbia</td>\n",
       "      <td>11</td>\n",
       "      <td>FA_Deaths</td>\n",
       "      <td>2023</td>\n",
       "      <td>33.1</td>\n",
       "      <td>225</td>\n",
       "      <td>2025-09-05T00:00:00.000</td>\n",
       "      <td>31.1</td>\n",
       "      <td>1.5</td>\n",
       "      <td>Very Strong</td>\n",
       "    </tr>\n",
       "    <tr>\n",
       "      <th>9</th>\n",
       "      <td>Florida</td>\n",
       "      <td>12</td>\n",
       "      <td>FA_Deaths</td>\n",
       "      <td>2023</td>\n",
       "      <td>14.4</td>\n",
       "      <td>3253</td>\n",
       "      <td>2025-09-05T00:00:00.000</td>\n",
       "      <td>4.7</td>\n",
       "      <td>9.3</td>\n",
       "      <td>Neutral</td>\n",
       "    </tr>\n",
       "    <tr>\n",
       "      <th>10</th>\n",
       "      <td>Georgia</td>\n",
       "      <td>13</td>\n",
       "      <td>FA_Deaths</td>\n",
       "      <td>2023</td>\n",
       "      <td>18.8</td>\n",
       "      <td>2070</td>\n",
       "      <td>2025-09-05T00:00:00.000</td>\n",
       "      <td>8.1</td>\n",
       "      <td>10.1</td>\n",
       "      <td>Very Weak</td>\n",
       "    </tr>\n",
       "    <tr>\n",
       "      <th>11</th>\n",
       "      <td>Hawaii</td>\n",
       "      <td>15</td>\n",
       "      <td>FA_Deaths</td>\n",
       "      <td>2023</td>\n",
       "      <td>5.1</td>\n",
       "      <td>73</td>\n",
       "      <td>2025-09-05T00:00:00.000</td>\n",
       "      <td>1.4</td>\n",
       "      <td>3.5</td>\n",
       "      <td>Very Strong</td>\n",
       "    </tr>\n",
       "    <tr>\n",
       "      <th>12</th>\n",
       "      <td>Idaho</td>\n",
       "      <td>16</td>\n",
       "      <td>FA_Deaths</td>\n",
       "      <td>2023</td>\n",
       "      <td>18.1</td>\n",
       "      <td>356</td>\n",
       "      <td>2025-09-05T00:00:00.000</td>\n",
       "      <td>1.7</td>\n",
       "      <td>15.5</td>\n",
       "      <td>Very Weak</td>\n",
       "    </tr>\n",
       "    <tr>\n",
       "      <th>13</th>\n",
       "      <td>Illinois</td>\n",
       "      <td>17</td>\n",
       "      <td>FA_Deaths</td>\n",
       "      <td>2023</td>\n",
       "      <td>13.5</td>\n",
       "      <td>1691</td>\n",
       "      <td>2025-09-05T00:00:00.000</td>\n",
       "      <td>7.7</td>\n",
       "      <td>5.5</td>\n",
       "      <td>Very Strong</td>\n",
       "    </tr>\n",
       "    <tr>\n",
       "      <th>14</th>\n",
       "      <td>Indiana</td>\n",
       "      <td>18</td>\n",
       "      <td>FA_Deaths</td>\n",
       "      <td>2023</td>\n",
       "      <td>18.3</td>\n",
       "      <td>1258</td>\n",
       "      <td>2025-09-05T00:00:00.000</td>\n",
       "      <td>6.4</td>\n",
       "      <td>11.0</td>\n",
       "      <td>Weak</td>\n",
       "    </tr>\n",
       "    <tr>\n",
       "      <th>15</th>\n",
       "      <td>Iowa</td>\n",
       "      <td>19</td>\n",
       "      <td>FA_Deaths</td>\n",
       "      <td>2023</td>\n",
       "      <td>10.6</td>\n",
       "      <td>341</td>\n",
       "      <td>2025-09-05T00:00:00.000</td>\n",
       "      <td>2.3</td>\n",
       "      <td>8.3</td>\n",
       "      <td>Very Weak</td>\n",
       "    </tr>\n",
       "    <tr>\n",
       "      <th>16</th>\n",
       "      <td>Kansas</td>\n",
       "      <td>20</td>\n",
       "      <td>FA_Deaths</td>\n",
       "      <td>2023</td>\n",
       "      <td>16.2</td>\n",
       "      <td>475</td>\n",
       "      <td>2025-09-05T00:00:00.000</td>\n",
       "      <td>4.7</td>\n",
       "      <td>10.9</td>\n",
       "      <td>Very Weak</td>\n",
       "    </tr>\n",
       "    <tr>\n",
       "      <th>17</th>\n",
       "      <td>Kentucky</td>\n",
       "      <td>21</td>\n",
       "      <td>FA_Deaths</td>\n",
       "      <td>2023</td>\n",
       "      <td>18.6</td>\n",
       "      <td>841</td>\n",
       "      <td>2025-09-05T00:00:00.000</td>\n",
       "      <td>5.7</td>\n",
       "      <td>12.0</td>\n",
       "      <td>Very Weak</td>\n",
       "    </tr>\n",
       "    <tr>\n",
       "      <th>18</th>\n",
       "      <td>Louisiana</td>\n",
       "      <td>22</td>\n",
       "      <td>FA_Deaths</td>\n",
       "      <td>2023</td>\n",
       "      <td>27.6</td>\n",
       "      <td>1261</td>\n",
       "      <td>2025-09-05T00:00:00.000</td>\n",
       "      <td>16.1</td>\n",
       "      <td>10.6</td>\n",
       "      <td>Very Weak</td>\n",
       "    </tr>\n",
       "    <tr>\n",
       "      <th>19</th>\n",
       "      <td>Maine</td>\n",
       "      <td>23</td>\n",
       "      <td>FA_Deaths</td>\n",
       "      <td>2023</td>\n",
       "      <td>14.3</td>\n",
       "      <td>200</td>\n",
       "      <td>2025-09-05T00:00:00.000</td>\n",
       "      <td>2.6</td>\n",
       "      <td>11.3</td>\n",
       "      <td>Neutral</td>\n",
       "    </tr>\n",
       "    <tr>\n",
       "      <th>20</th>\n",
       "      <td>Maryland</td>\n",
       "      <td>24</td>\n",
       "      <td>FA_Deaths</td>\n",
       "      <td>2023</td>\n",
       "      <td>11.9</td>\n",
       "      <td>737</td>\n",
       "      <td>2025-09-05T00:00:00.000</td>\n",
       "      <td>7.5</td>\n",
       "      <td>4.3</td>\n",
       "      <td>Very Strong</td>\n",
       "    </tr>\n",
       "    <tr>\n",
       "      <th>21</th>\n",
       "      <td>Massachusetts</td>\n",
       "      <td>25</td>\n",
       "      <td>FA_Deaths</td>\n",
       "      <td>2023</td>\n",
       "      <td>3.9</td>\n",
       "      <td>270</td>\n",
       "      <td>2025-09-05T00:00:00.000</td>\n",
       "      <td>1.7</td>\n",
       "      <td>2.1</td>\n",
       "      <td>Very Strong</td>\n",
       "    </tr>\n",
       "    <tr>\n",
       "      <th>22</th>\n",
       "      <td>Michigan</td>\n",
       "      <td>26</td>\n",
       "      <td>FA_Deaths</td>\n",
       "      <td>2023</td>\n",
       "      <td>13.8</td>\n",
       "      <td>1384</td>\n",
       "      <td>2025-09-05T00:00:00.000</td>\n",
       "      <td>5.2</td>\n",
       "      <td>8.3</td>\n",
       "      <td>Strong</td>\n",
       "    </tr>\n",
       "    <tr>\n",
       "      <th>23</th>\n",
       "      <td>Minnesota</td>\n",
       "      <td>27</td>\n",
       "      <td>FA_Deaths</td>\n",
       "      <td>2023</td>\n",
       "      <td>9.1</td>\n",
       "      <td>525</td>\n",
       "      <td>2025-09-05T00:00:00.000</td>\n",
       "      <td>2.2</td>\n",
       "      <td>6.6</td>\n",
       "      <td>Strong</td>\n",
       "    </tr>\n",
       "    <tr>\n",
       "      <th>24</th>\n",
       "      <td>Mississippi</td>\n",
       "      <td>28</td>\n",
       "      <td>FA_Deaths</td>\n",
       "      <td>2023</td>\n",
       "      <td>28.7</td>\n",
       "      <td>844</td>\n",
       "      <td>2025-09-05T00:00:00.000</td>\n",
       "      <td>16.8</td>\n",
       "      <td>11.0</td>\n",
       "      <td>Very Weak</td>\n",
       "    </tr>\n",
       "    <tr>\n",
       "      <th>25</th>\n",
       "      <td>Missouri</td>\n",
       "      <td>29</td>\n",
       "      <td>FA_Deaths</td>\n",
       "      <td>2023</td>\n",
       "      <td>21.4</td>\n",
       "      <td>1324</td>\n",
       "      <td>2025-09-05T00:00:00.000</td>\n",
       "      <td>8.5</td>\n",
       "      <td>12.0</td>\n",
       "      <td>Very Weak</td>\n",
       "    </tr>\n",
       "    <tr>\n",
       "      <th>26</th>\n",
       "      <td>Montana</td>\n",
       "      <td>30</td>\n",
       "      <td>FA_Deaths</td>\n",
       "      <td>2023</td>\n",
       "      <td>21.8</td>\n",
       "      <td>247</td>\n",
       "      <td>2025-09-05T00:00:00.000</td>\n",
       "      <td>2.6</td>\n",
       "      <td>18.2</td>\n",
       "      <td>Very Weak</td>\n",
       "    </tr>\n",
       "    <tr>\n",
       "      <th>27</th>\n",
       "      <td>Nebraska</td>\n",
       "      <td>31</td>\n",
       "      <td>FA_Deaths</td>\n",
       "      <td>2023</td>\n",
       "      <td>10.8</td>\n",
       "      <td>213</td>\n",
       "      <td>2025-09-05T00:00:00.000</td>\n",
       "      <td>1.7</td>\n",
       "      <td>8.3</td>\n",
       "      <td>Neutral</td>\n",
       "    </tr>\n",
       "    <tr>\n",
       "      <th>28</th>\n",
       "      <td>Nevada</td>\n",
       "      <td>32</td>\n",
       "      <td>FA_Deaths</td>\n",
       "      <td>2023</td>\n",
       "      <td>19.3</td>\n",
       "      <td>616</td>\n",
       "      <td>2025-09-05T00:00:00.000</td>\n",
       "      <td>5.8</td>\n",
       "      <td>13.1</td>\n",
       "      <td>Strong</td>\n",
       "    </tr>\n",
       "    <tr>\n",
       "      <th>29</th>\n",
       "      <td>New Hampshire</td>\n",
       "      <td>33</td>\n",
       "      <td>FA_Deaths</td>\n",
       "      <td>2023</td>\n",
       "      <td>10.2</td>\n",
       "      <td>143</td>\n",
       "      <td>2025-09-05T00:00:00.000</td>\n",
       "      <td>1.0</td>\n",
       "      <td>8.7</td>\n",
       "      <td>Weak</td>\n",
       "    </tr>\n",
       "    <tr>\n",
       "      <th>30</th>\n",
       "      <td>New Jersey</td>\n",
       "      <td>34</td>\n",
       "      <td>FA_Deaths</td>\n",
       "      <td>2023</td>\n",
       "      <td>4.6</td>\n",
       "      <td>430</td>\n",
       "      <td>2025-09-05T00:00:00.000</td>\n",
       "      <td>2.2</td>\n",
       "      <td>2.3</td>\n",
       "      <td>Very Strong</td>\n",
       "    </tr>\n",
       "    <tr>\n",
       "      <th>31</th>\n",
       "      <td>New Mexico</td>\n",
       "      <td>35</td>\n",
       "      <td>FA_Deaths</td>\n",
       "      <td>2023</td>\n",
       "      <td>25.1</td>\n",
       "      <td>530</td>\n",
       "      <td>2025-09-05T00:00:00.000</td>\n",
       "      <td>10.3</td>\n",
       "      <td>13.4</td>\n",
       "      <td>Strong</td>\n",
       "    </tr>\n",
       "    <tr>\n",
       "      <th>32</th>\n",
       "      <td>New York</td>\n",
       "      <td>36</td>\n",
       "      <td>FA_Deaths</td>\n",
       "      <td>2023</td>\n",
       "      <td>4.8</td>\n",
       "      <td>943</td>\n",
       "      <td>2025-09-05T00:00:00.000</td>\n",
       "      <td>2.2</td>\n",
       "      <td>2.5</td>\n",
       "      <td>Very Strong</td>\n",
       "    </tr>\n",
       "    <tr>\n",
       "      <th>33</th>\n",
       "      <td>North Carolina</td>\n",
       "      <td>37</td>\n",
       "      <td>FA_Deaths</td>\n",
       "      <td>2023</td>\n",
       "      <td>16.6</td>\n",
       "      <td>1803</td>\n",
       "      <td>2025-09-05T00:00:00.000</td>\n",
       "      <td>6.7</td>\n",
       "      <td>9.2</td>\n",
       "      <td>Neutral</td>\n",
       "    </tr>\n",
       "    <tr>\n",
       "      <th>34</th>\n",
       "      <td>North Dakota</td>\n",
       "      <td>38</td>\n",
       "      <td>FA_Deaths</td>\n",
       "      <td>2023</td>\n",
       "      <td>13.1</td>\n",
       "      <td>103</td>\n",
       "      <td>2025-09-05T00:00:00.000</td>\n",
       "      <td>2.2</td>\n",
       "      <td>10.8</td>\n",
       "      <td>Very Weak</td>\n",
       "    </tr>\n",
       "    <tr>\n",
       "      <th>35</th>\n",
       "      <td>Ohio</td>\n",
       "      <td>39</td>\n",
       "      <td>FA_Deaths</td>\n",
       "      <td>2023</td>\n",
       "      <td>15.0</td>\n",
       "      <td>1768</td>\n",
       "      <td>2025-09-05T00:00:00.000</td>\n",
       "      <td>5.9</td>\n",
       "      <td>8.8</td>\n",
       "      <td>Weak</td>\n",
       "    </tr>\n",
       "    <tr>\n",
       "      <th>36</th>\n",
       "      <td>Oklahoma</td>\n",
       "      <td>40</td>\n",
       "      <td>FA_Deaths</td>\n",
       "      <td>2023</td>\n",
       "      <td>20.1</td>\n",
       "      <td>814</td>\n",
       "      <td>2025-09-05T00:00:00.000</td>\n",
       "      <td>5.5</td>\n",
       "      <td>14.1</td>\n",
       "      <td>Very Weak</td>\n",
       "    </tr>\n",
       "    <tr>\n",
       "      <th>37</th>\n",
       "      <td>Oregon</td>\n",
       "      <td>41</td>\n",
       "      <td>FA_Deaths</td>\n",
       "      <td>2023</td>\n",
       "      <td>15.2</td>\n",
       "      <td>642</td>\n",
       "      <td>2025-09-05T00:00:00.000</td>\n",
       "      <td>3.2</td>\n",
       "      <td>11.6</td>\n",
       "      <td>Very Strong</td>\n",
       "    </tr>\n",
       "    <tr>\n",
       "      <th>38</th>\n",
       "      <td>Pennsylvania</td>\n",
       "      <td>42</td>\n",
       "      <td>FA_Deaths</td>\n",
       "      <td>2023</td>\n",
       "      <td>13.9</td>\n",
       "      <td>1807</td>\n",
       "      <td>2025-09-05T00:00:00.000</td>\n",
       "      <td>5.3</td>\n",
       "      <td>8.3</td>\n",
       "      <td>Strong</td>\n",
       "    </tr>\n",
       "    <tr>\n",
       "      <th>39</th>\n",
       "      <td>Rhode Island</td>\n",
       "      <td>44</td>\n",
       "      <td>FA_Deaths</td>\n",
       "      <td>2023</td>\n",
       "      <td>5.3</td>\n",
       "      <td>58</td>\n",
       "      <td>2025-09-05T00:00:00.000</td>\n",
       "      <td>1.6</td>\n",
       "      <td>3.5</td>\n",
       "      <td>Very Strong</td>\n",
       "    </tr>\n",
       "    <tr>\n",
       "      <th>40</th>\n",
       "      <td>South Carolina</td>\n",
       "      <td>45</td>\n",
       "      <td>FA_Deaths</td>\n",
       "      <td>2023</td>\n",
       "      <td>19.0</td>\n",
       "      <td>1019</td>\n",
       "      <td>2025-09-05T00:00:00.000</td>\n",
       "      <td>8.4</td>\n",
       "      <td>9.9</td>\n",
       "      <td>Very Weak</td>\n",
       "    </tr>\n",
       "    <tr>\n",
       "      <th>41</th>\n",
       "      <td>South Dakota</td>\n",
       "      <td>46</td>\n",
       "      <td>FA_Deaths</td>\n",
       "      <td>2023</td>\n",
       "      <td>12.2</td>\n",
       "      <td>112</td>\n",
       "      <td>2025-09-05T00:00:00.000</td>\n",
       "      <td>1.2</td>\n",
       "      <td>9.7</td>\n",
       "      <td>Very Weak</td>\n",
       "    </tr>\n",
       "    <tr>\n",
       "      <th>42</th>\n",
       "      <td>Tennessee</td>\n",
       "      <td>47</td>\n",
       "      <td>FA_Deaths</td>\n",
       "      <td>2023</td>\n",
       "      <td>22.3</td>\n",
       "      <td>1587</td>\n",
       "      <td>2025-09-05T00:00:00.000</td>\n",
       "      <td>9.4</td>\n",
       "      <td>12.3</td>\n",
       "      <td>Very Weak</td>\n",
       "    </tr>\n",
       "    <tr>\n",
       "      <th>43</th>\n",
       "      <td>Texas</td>\n",
       "      <td>48</td>\n",
       "      <td>FA_Deaths</td>\n",
       "      <td>2023</td>\n",
       "      <td>15.0</td>\n",
       "      <td>4561</td>\n",
       "      <td>2025-09-05T00:00:00.000</td>\n",
       "      <td>5.6</td>\n",
       "      <td>8.8</td>\n",
       "      <td>Very Weak</td>\n",
       "    </tr>\n",
       "    <tr>\n",
       "      <th>44</th>\n",
       "      <td>Utah</td>\n",
       "      <td>49</td>\n",
       "      <td>FA_Deaths</td>\n",
       "      <td>2023</td>\n",
       "      <td>14.3</td>\n",
       "      <td>489</td>\n",
       "      <td>2025-09-05T00:00:00.000</td>\n",
       "      <td>1.8</td>\n",
       "      <td>12.1</td>\n",
       "      <td>Very Weak</td>\n",
       "    </tr>\n",
       "    <tr>\n",
       "      <th>45</th>\n",
       "      <td>Vermont</td>\n",
       "      <td>50</td>\n",
       "      <td>FA_Deaths</td>\n",
       "      <td>2023</td>\n",
       "      <td>12.8</td>\n",
       "      <td>83</td>\n",
       "      <td>2025-09-05T00:00:00.000</td>\n",
       "      <td>2.2</td>\n",
       "      <td>10.5</td>\n",
       "      <td>Strong</td>\n",
       "    </tr>\n",
       "    <tr>\n",
       "      <th>46</th>\n",
       "      <td>Virginia</td>\n",
       "      <td>51</td>\n",
       "      <td>FA_Deaths</td>\n",
       "      <td>2023</td>\n",
       "      <td>14.2</td>\n",
       "      <td>1237</td>\n",
       "      <td>2025-09-05T00:00:00.000</td>\n",
       "      <td>5.4</td>\n",
       "      <td>8.4</td>\n",
       "      <td>Strong</td>\n",
       "    </tr>\n",
       "    <tr>\n",
       "      <th>47</th>\n",
       "      <td>Washington</td>\n",
       "      <td>53</td>\n",
       "      <td>FA_Deaths</td>\n",
       "      <td>2023</td>\n",
       "      <td>13.5</td>\n",
       "      <td>1053</td>\n",
       "      <td>2025-09-05T00:00:00.000</td>\n",
       "      <td>4.1</td>\n",
       "      <td>8.9</td>\n",
       "      <td>Very Strong</td>\n",
       "    </tr>\n",
       "    <tr>\n",
       "      <th>48</th>\n",
       "      <td>West Virginia</td>\n",
       "      <td>54</td>\n",
       "      <td>FA_Deaths</td>\n",
       "      <td>2023</td>\n",
       "      <td>17.8</td>\n",
       "      <td>315</td>\n",
       "      <td>2025-09-05T00:00:00.000</td>\n",
       "      <td>3.5</td>\n",
       "      <td>13.8</td>\n",
       "      <td>Very Weak</td>\n",
       "    </tr>\n",
       "    <tr>\n",
       "      <th>49</th>\n",
       "      <td>Wisconsin</td>\n",
       "      <td>55</td>\n",
       "      <td>FA_Deaths</td>\n",
       "      <td>2023</td>\n",
       "      <td>12.9</td>\n",
       "      <td>762</td>\n",
       "      <td>2025-09-05T00:00:00.000</td>\n",
       "      <td>4.0</td>\n",
       "      <td>8.5</td>\n",
       "      <td>Neutral</td>\n",
       "    </tr>\n",
       "    <tr>\n",
       "      <th>50</th>\n",
       "      <td>Wyoming</td>\n",
       "      <td>56</td>\n",
       "      <td>FA_Deaths</td>\n",
       "      <td>2023</td>\n",
       "      <td>22.3</td>\n",
       "      <td>130</td>\n",
       "      <td>2025-09-05T00:00:00.000</td>\n",
       "      <td>1.7</td>\n",
       "      <td>19.9</td>\n",
       "      <td>Very Weak</td>\n",
       "    </tr>\n",
       "  </tbody>\n",
       "</table>\n",
       "</div>"
      ],
      "text/plain": [
       "                   state geoid     intent period  rate count_sup  \\\n",
       "0                Alabama    01  FA_Deaths   2023  25.3      1292   \n",
       "1                 Alaska    02  FA_Deaths   2023  24.0       176   \n",
       "2                Arizona    04  FA_Deaths   2023  19.1      1419   \n",
       "3               Arkansas    05  FA_Deaths   2023  21.9       671   \n",
       "4             California    06  FA_Deaths   2023   8.2      3209   \n",
       "5               Colorado    08  FA_Deaths   2023  17.3      1019   \n",
       "6            Connecticut    09  FA_Deaths   2023   6.2       225   \n",
       "7               Delaware    10  FA_Deaths   2023  12.0       124   \n",
       "8   District of Columbia    11  FA_Deaths   2023  33.1       225   \n",
       "9                Florida    12  FA_Deaths   2023  14.4      3253   \n",
       "10               Georgia    13  FA_Deaths   2023  18.8      2070   \n",
       "11                Hawaii    15  FA_Deaths   2023   5.1        73   \n",
       "12                 Idaho    16  FA_Deaths   2023  18.1       356   \n",
       "13              Illinois    17  FA_Deaths   2023  13.5      1691   \n",
       "14               Indiana    18  FA_Deaths   2023  18.3      1258   \n",
       "15                  Iowa    19  FA_Deaths   2023  10.6       341   \n",
       "16                Kansas    20  FA_Deaths   2023  16.2       475   \n",
       "17              Kentucky    21  FA_Deaths   2023  18.6       841   \n",
       "18             Louisiana    22  FA_Deaths   2023  27.6      1261   \n",
       "19                 Maine    23  FA_Deaths   2023  14.3       200   \n",
       "20              Maryland    24  FA_Deaths   2023  11.9       737   \n",
       "21         Massachusetts    25  FA_Deaths   2023   3.9       270   \n",
       "22              Michigan    26  FA_Deaths   2023  13.8      1384   \n",
       "23             Minnesota    27  FA_Deaths   2023   9.1       525   \n",
       "24           Mississippi    28  FA_Deaths   2023  28.7       844   \n",
       "25              Missouri    29  FA_Deaths   2023  21.4      1324   \n",
       "26               Montana    30  FA_Deaths   2023  21.8       247   \n",
       "27              Nebraska    31  FA_Deaths   2023  10.8       213   \n",
       "28                Nevada    32  FA_Deaths   2023  19.3       616   \n",
       "29         New Hampshire    33  FA_Deaths   2023  10.2       143   \n",
       "30            New Jersey    34  FA_Deaths   2023   4.6       430   \n",
       "31            New Mexico    35  FA_Deaths   2023  25.1       530   \n",
       "32              New York    36  FA_Deaths   2023   4.8       943   \n",
       "33        North Carolina    37  FA_Deaths   2023  16.6      1803   \n",
       "34          North Dakota    38  FA_Deaths   2023  13.1       103   \n",
       "35                  Ohio    39  FA_Deaths   2023  15.0      1768   \n",
       "36              Oklahoma    40  FA_Deaths   2023  20.1       814   \n",
       "37                Oregon    41  FA_Deaths   2023  15.2       642   \n",
       "38          Pennsylvania    42  FA_Deaths   2023  13.9      1807   \n",
       "39          Rhode Island    44  FA_Deaths   2023   5.3        58   \n",
       "40        South Carolina    45  FA_Deaths   2023  19.0      1019   \n",
       "41          South Dakota    46  FA_Deaths   2023  12.2       112   \n",
       "42             Tennessee    47  FA_Deaths   2023  22.3      1587   \n",
       "43                 Texas    48  FA_Deaths   2023  15.0      4561   \n",
       "44                  Utah    49  FA_Deaths   2023  14.3       489   \n",
       "45               Vermont    50  FA_Deaths   2023  12.8        83   \n",
       "46              Virginia    51  FA_Deaths   2023  14.2      1237   \n",
       "47            Washington    53  FA_Deaths   2023  13.5      1053   \n",
       "48         West Virginia    54  FA_Deaths   2023  17.8       315   \n",
       "49             Wisconsin    55  FA_Deaths   2023  12.9       762   \n",
       "50               Wyoming    56  FA_Deaths   2023  22.3       130   \n",
       "\n",
       "                 data_as_of  fa_homicide_rate  fa_suicide_rate     gun_laws  \n",
       "0   2025-09-05T00:00:00.000              12.4             12.1    Very Weak  \n",
       "1   2025-09-05T00:00:00.000               6.4             16.4    Very Weak  \n",
       "2   2025-09-05T00:00:00.000               5.5             12.8    Very Weak  \n",
       "3   2025-09-05T00:00:00.000               8.6             12.8    Very Weak  \n",
       "4   2025-09-05T00:00:00.000               3.7              4.2  Very Strong  \n",
       "5   2025-09-05T00:00:00.000               4.4             12.3  Very Strong  \n",
       "6   2025-09-05T00:00:00.000               2.9              3.1  Very Strong  \n",
       "7   2025-09-05T00:00:00.000               4.2              7.4  Very Strong  \n",
       "8   2025-09-05T00:00:00.000              31.1              1.5  Very Strong  \n",
       "9   2025-09-05T00:00:00.000               4.7              9.3      Neutral  \n",
       "10  2025-09-05T00:00:00.000               8.1             10.1    Very Weak  \n",
       "11  2025-09-05T00:00:00.000               1.4              3.5  Very Strong  \n",
       "12  2025-09-05T00:00:00.000               1.7             15.5    Very Weak  \n",
       "13  2025-09-05T00:00:00.000               7.7              5.5  Very Strong  \n",
       "14  2025-09-05T00:00:00.000               6.4             11.0         Weak  \n",
       "15  2025-09-05T00:00:00.000               2.3              8.3    Very Weak  \n",
       "16  2025-09-05T00:00:00.000               4.7             10.9    Very Weak  \n",
       "17  2025-09-05T00:00:00.000               5.7             12.0    Very Weak  \n",
       "18  2025-09-05T00:00:00.000              16.1             10.6    Very Weak  \n",
       "19  2025-09-05T00:00:00.000               2.6             11.3      Neutral  \n",
       "20  2025-09-05T00:00:00.000               7.5              4.3  Very Strong  \n",
       "21  2025-09-05T00:00:00.000               1.7              2.1  Very Strong  \n",
       "22  2025-09-05T00:00:00.000               5.2              8.3       Strong  \n",
       "23  2025-09-05T00:00:00.000               2.2              6.6       Strong  \n",
       "24  2025-09-05T00:00:00.000              16.8             11.0    Very Weak  \n",
       "25  2025-09-05T00:00:00.000               8.5             12.0    Very Weak  \n",
       "26  2025-09-05T00:00:00.000               2.6             18.2    Very Weak  \n",
       "27  2025-09-05T00:00:00.000               1.7              8.3      Neutral  \n",
       "28  2025-09-05T00:00:00.000               5.8             13.1       Strong  \n",
       "29  2025-09-05T00:00:00.000               1.0              8.7         Weak  \n",
       "30  2025-09-05T00:00:00.000               2.2              2.3  Very Strong  \n",
       "31  2025-09-05T00:00:00.000              10.3             13.4       Strong  \n",
       "32  2025-09-05T00:00:00.000               2.2              2.5  Very Strong  \n",
       "33  2025-09-05T00:00:00.000               6.7              9.2      Neutral  \n",
       "34  2025-09-05T00:00:00.000               2.2             10.8    Very Weak  \n",
       "35  2025-09-05T00:00:00.000               5.9              8.8         Weak  \n",
       "36  2025-09-05T00:00:00.000               5.5             14.1    Very Weak  \n",
       "37  2025-09-05T00:00:00.000               3.2             11.6  Very Strong  \n",
       "38  2025-09-05T00:00:00.000               5.3              8.3       Strong  \n",
       "39  2025-09-05T00:00:00.000               1.6              3.5  Very Strong  \n",
       "40  2025-09-05T00:00:00.000               8.4              9.9    Very Weak  \n",
       "41  2025-09-05T00:00:00.000               1.2              9.7    Very Weak  \n",
       "42  2025-09-05T00:00:00.000               9.4             12.3    Very Weak  \n",
       "43  2025-09-05T00:00:00.000               5.6              8.8    Very Weak  \n",
       "44  2025-09-05T00:00:00.000               1.8             12.1    Very Weak  \n",
       "45  2025-09-05T00:00:00.000               2.2             10.5       Strong  \n",
       "46  2025-09-05T00:00:00.000               5.4              8.4       Strong  \n",
       "47  2025-09-05T00:00:00.000               4.1              8.9  Very Strong  \n",
       "48  2025-09-05T00:00:00.000               3.5             13.8    Very Weak  \n",
       "49  2025-09-05T00:00:00.000               4.0              8.5      Neutral  \n",
       "50  2025-09-05T00:00:00.000               1.7             19.9    Very Weak  "
      ]
     },
     "execution_count": 165,
     "metadata": {},
     "output_type": "execute_result"
    }
   ],
   "source": [
    "merged"
   ]
  },
  {
   "cell_type": "code",
   "execution_count": 166,
   "id": "832a34c2",
   "metadata": {},
   "outputs": [
    {
     "data": {
      "application/vnd.plotly.v1+json": {
       "config": {
        "plotlyServerURL": "https://plot.ly"
       },
       "data": [
        {
         "coloraxis": "coloraxis",
         "geo": "geo5",
         "hovertemplate": "gun_laws=Very Weak<br>state_code=%{location}<br>rate=%{z}<extra></extra>",
         "locationmode": "USA-states",
         "locations": [
          "AL",
          "AK",
          "AZ",
          "AR",
          "GA",
          "ID",
          "IA",
          "KS",
          "KY",
          "LA",
          "MS",
          "MO",
          "MT",
          "ND",
          "OK",
          "SC",
          "SD",
          "TN",
          "TX",
          "UT",
          "WV",
          "WY"
         ],
         "name": "",
         "type": "choropleth",
         "z": {
          "bdata": "zczMzMxMOUAAAAAAAAA4QJqZmZmZGTNAZmZmZmbmNUDNzMzMzMwyQJqZmZmZGTJAMzMzMzMzJUAzMzMzMzMwQJqZmZmZmTJAmpmZmZmZO0AzMzMzM7M8QGZmZmZmZjVAzczMzMzMNUAzMzMzMzMqQJqZmZmZGTRAAAAAAAAAM0BmZmZmZmYoQM3MzMzMTDZAAAAAAAAALkCamZmZmZksQM3MzMzMzDFAzczMzMxMNkA=",
          "dtype": "f8"
         }
        },
        {
         "coloraxis": "coloraxis",
         "geo": "geo6",
         "hovertemplate": "gun_laws=Weak<br>state_code=%{location}<br>rate=%{z}<extra></extra>",
         "locationmode": "USA-states",
         "locations": [
          "IN",
          "NH",
          "OH"
         ],
         "name": "",
         "type": "choropleth",
         "z": {
          "bdata": "zczMzMxMMkBmZmZmZmYkQAAAAAAAAC5A",
          "dtype": "f8"
         }
        },
        {
         "coloraxis": "coloraxis",
         "geo": "geo3",
         "hovertemplate": "gun_laws=Neutral<br>state_code=%{location}<br>rate=%{z}<extra></extra>",
         "locationmode": "USA-states",
         "locations": [
          "FL",
          "ME",
          "NE",
          "NC",
          "WI"
         ],
         "name": "",
         "type": "choropleth",
         "z": {
          "bdata": "zczMzMzMLECamZmZmZksQJqZmZmZmSVAmpmZmZmZMEDNzMzMzMwpQA==",
          "dtype": "f8"
         }
        },
        {
         "coloraxis": "coloraxis",
         "geo": "geo4",
         "hovertemplate": "gun_laws=Strong<br>state_code=%{location}<br>rate=%{z}<extra></extra>",
         "locationmode": "USA-states",
         "locations": [
          "MI",
          "MN",
          "NV",
          "NM",
          "PA",
          "VT",
          "VA"
         ],
         "name": "",
         "type": "choropleth",
         "z": {
          "bdata": "mpmZmZmZK0AzMzMzMzMiQM3MzMzMTDNAmpmZmZkZOUDNzMzMzMwrQJqZmZmZmSlAZmZmZmZmLEA=",
          "dtype": "f8"
         }
        },
        {
         "coloraxis": "coloraxis",
         "geo": "geo",
         "hovertemplate": "gun_laws=Very Strong<br>state_code=%{location}<br>rate=%{z}<extra></extra>",
         "locationmode": "USA-states",
         "locations": [
          "CA",
          "CO",
          "CT",
          "DE",
          "DC",
          "HI",
          "IL",
          "MD",
          "MA",
          "NJ",
          "NY",
          "OR",
          "RI",
          "WA"
         ],
         "name": "",
         "type": "choropleth",
         "z": {
          "bdata": "ZmZmZmZmIEDNzMzMzEwxQM3MzMzMzBhAAAAAAAAAKEDNzMzMzIxAQGZmZmZmZhRAAAAAAAAAK0DNzMzMzMwnQDMzMzMzMw9AZmZmZmZmEkAzMzMzMzMTQGZmZmZmZi5AMzMzMzMzFUAAAAAAAAArQA==",
          "dtype": "f8"
         }
        }
       ],
       "layout": {
        "annotations": [
         {
          "font": {},
          "showarrow": false,
          "text": "gun_laws=Very Strong",
          "x": 0.245,
          "xanchor": "center",
          "xref": "paper",
          "y": 0.2866666666666666,
          "yanchor": "bottom",
          "yref": "paper"
         },
         {
          "font": {},
          "showarrow": false,
          "text": "gun_laws=Neutral",
          "x": 0.245,
          "xanchor": "center",
          "xref": "paper",
          "y": 0.6433333333333333,
          "yanchor": "bottom",
          "yref": "paper"
         },
         {
          "font": {},
          "showarrow": false,
          "text": "gun_laws=Strong",
          "x": 0.755,
          "xanchor": "center",
          "xref": "paper",
          "y": 0.6433333333333333,
          "yanchor": "bottom",
          "yref": "paper"
         },
         {
          "font": {},
          "showarrow": false,
          "text": "gun_laws=Very Weak",
          "x": 0.245,
          "xanchor": "center",
          "xref": "paper",
          "y": 0.9999999999999999,
          "yanchor": "bottom",
          "yref": "paper"
         },
         {
          "font": {},
          "showarrow": false,
          "text": "gun_laws=Weak",
          "x": 0.755,
          "xanchor": "center",
          "xref": "paper",
          "y": 0.9999999999999999,
          "yanchor": "bottom",
          "yref": "paper"
         }
        ],
        "coloraxis": {
         "colorbar": {
          "title": {
           "text": "rate"
          }
         },
         "colorscale": [
          [
           0,
           "rgb(5,48,97)"
          ],
          [
           0.1,
           "rgb(33,102,172)"
          ],
          [
           0.2,
           "rgb(67,147,195)"
          ],
          [
           0.3,
           "rgb(146,197,222)"
          ],
          [
           0.4,
           "rgb(209,229,240)"
          ],
          [
           0.5,
           "rgb(247,247,247)"
          ],
          [
           0.6,
           "rgb(253,219,199)"
          ],
          [
           0.7,
           "rgb(244,165,130)"
          ],
          [
           0.8,
           "rgb(214,96,77)"
          ],
          [
           0.9,
           "rgb(178,24,43)"
          ],
          [
           1,
           "rgb(103,0,31)"
          ]
         ]
        },
        "geo": {
         "center": {},
         "domain": {
          "x": [
           0,
           0.49
          ],
          "y": [
           0,
           0.2866666666666666
          ]
         },
         "scope": "usa"
        },
        "geo2": {
         "center": {},
         "domain": {
          "x": [
           0.51,
           1
          ],
          "y": [
           0,
           0.2866666666666666
          ]
         },
         "scope": "usa"
        },
        "geo3": {
         "center": {},
         "domain": {
          "x": [
           0,
           0.49
          ],
          "y": [
           0.35666666666666663,
           0.6433333333333333
          ]
         },
         "scope": "usa"
        },
        "geo4": {
         "center": {},
         "domain": {
          "x": [
           0.51,
           1
          ],
          "y": [
           0.35666666666666663,
           0.6433333333333333
          ]
         },
         "scope": "usa"
        },
        "geo5": {
         "center": {},
         "domain": {
          "x": [
           0,
           0.49
          ],
          "y": [
           0.7133333333333333,
           0.9999999999999999
          ]
         },
         "scope": "usa"
        },
        "geo6": {
         "center": {},
         "domain": {
          "x": [
           0.51,
           1
          ],
          "y": [
           0.7133333333333333,
           0.9999999999999999
          ]
         },
         "scope": "usa"
        },
        "legend": {
         "tracegroupgap": 0
        },
        "template": {
         "data": {
          "bar": [
           {
            "error_x": {
             "color": "#2a3f5f"
            },
            "error_y": {
             "color": "#2a3f5f"
            },
            "marker": {
             "line": {
              "color": "#E5ECF6",
              "width": 0.5
             },
             "pattern": {
              "fillmode": "overlay",
              "size": 10,
              "solidity": 0.2
             }
            },
            "type": "bar"
           }
          ],
          "barpolar": [
           {
            "marker": {
             "line": {
              "color": "#E5ECF6",
              "width": 0.5
             },
             "pattern": {
              "fillmode": "overlay",
              "size": 10,
              "solidity": 0.2
             }
            },
            "type": "barpolar"
           }
          ],
          "carpet": [
           {
            "aaxis": {
             "endlinecolor": "#2a3f5f",
             "gridcolor": "white",
             "linecolor": "white",
             "minorgridcolor": "white",
             "startlinecolor": "#2a3f5f"
            },
            "baxis": {
             "endlinecolor": "#2a3f5f",
             "gridcolor": "white",
             "linecolor": "white",
             "minorgridcolor": "white",
             "startlinecolor": "#2a3f5f"
            },
            "type": "carpet"
           }
          ],
          "choropleth": [
           {
            "colorbar": {
             "outlinewidth": 0,
             "ticks": ""
            },
            "type": "choropleth"
           }
          ],
          "contour": [
           {
            "colorbar": {
             "outlinewidth": 0,
             "ticks": ""
            },
            "colorscale": [
             [
              0,
              "#0d0887"
             ],
             [
              0.1111111111111111,
              "#46039f"
             ],
             [
              0.2222222222222222,
              "#7201a8"
             ],
             [
              0.3333333333333333,
              "#9c179e"
             ],
             [
              0.4444444444444444,
              "#bd3786"
             ],
             [
              0.5555555555555556,
              "#d8576b"
             ],
             [
              0.6666666666666666,
              "#ed7953"
             ],
             [
              0.7777777777777778,
              "#fb9f3a"
             ],
             [
              0.8888888888888888,
              "#fdca26"
             ],
             [
              1,
              "#f0f921"
             ]
            ],
            "type": "contour"
           }
          ],
          "contourcarpet": [
           {
            "colorbar": {
             "outlinewidth": 0,
             "ticks": ""
            },
            "type": "contourcarpet"
           }
          ],
          "heatmap": [
           {
            "colorbar": {
             "outlinewidth": 0,
             "ticks": ""
            },
            "colorscale": [
             [
              0,
              "#0d0887"
             ],
             [
              0.1111111111111111,
              "#46039f"
             ],
             [
              0.2222222222222222,
              "#7201a8"
             ],
             [
              0.3333333333333333,
              "#9c179e"
             ],
             [
              0.4444444444444444,
              "#bd3786"
             ],
             [
              0.5555555555555556,
              "#d8576b"
             ],
             [
              0.6666666666666666,
              "#ed7953"
             ],
             [
              0.7777777777777778,
              "#fb9f3a"
             ],
             [
              0.8888888888888888,
              "#fdca26"
             ],
             [
              1,
              "#f0f921"
             ]
            ],
            "type": "heatmap"
           }
          ],
          "histogram": [
           {
            "marker": {
             "pattern": {
              "fillmode": "overlay",
              "size": 10,
              "solidity": 0.2
             }
            },
            "type": "histogram"
           }
          ],
          "histogram2d": [
           {
            "colorbar": {
             "outlinewidth": 0,
             "ticks": ""
            },
            "colorscale": [
             [
              0,
              "#0d0887"
             ],
             [
              0.1111111111111111,
              "#46039f"
             ],
             [
              0.2222222222222222,
              "#7201a8"
             ],
             [
              0.3333333333333333,
              "#9c179e"
             ],
             [
              0.4444444444444444,
              "#bd3786"
             ],
             [
              0.5555555555555556,
              "#d8576b"
             ],
             [
              0.6666666666666666,
              "#ed7953"
             ],
             [
              0.7777777777777778,
              "#fb9f3a"
             ],
             [
              0.8888888888888888,
              "#fdca26"
             ],
             [
              1,
              "#f0f921"
             ]
            ],
            "type": "histogram2d"
           }
          ],
          "histogram2dcontour": [
           {
            "colorbar": {
             "outlinewidth": 0,
             "ticks": ""
            },
            "colorscale": [
             [
              0,
              "#0d0887"
             ],
             [
              0.1111111111111111,
              "#46039f"
             ],
             [
              0.2222222222222222,
              "#7201a8"
             ],
             [
              0.3333333333333333,
              "#9c179e"
             ],
             [
              0.4444444444444444,
              "#bd3786"
             ],
             [
              0.5555555555555556,
              "#d8576b"
             ],
             [
              0.6666666666666666,
              "#ed7953"
             ],
             [
              0.7777777777777778,
              "#fb9f3a"
             ],
             [
              0.8888888888888888,
              "#fdca26"
             ],
             [
              1,
              "#f0f921"
             ]
            ],
            "type": "histogram2dcontour"
           }
          ],
          "mesh3d": [
           {
            "colorbar": {
             "outlinewidth": 0,
             "ticks": ""
            },
            "type": "mesh3d"
           }
          ],
          "parcoords": [
           {
            "line": {
             "colorbar": {
              "outlinewidth": 0,
              "ticks": ""
             }
            },
            "type": "parcoords"
           }
          ],
          "pie": [
           {
            "automargin": true,
            "type": "pie"
           }
          ],
          "scatter": [
           {
            "fillpattern": {
             "fillmode": "overlay",
             "size": 10,
             "solidity": 0.2
            },
            "type": "scatter"
           }
          ],
          "scatter3d": [
           {
            "line": {
             "colorbar": {
              "outlinewidth": 0,
              "ticks": ""
             }
            },
            "marker": {
             "colorbar": {
              "outlinewidth": 0,
              "ticks": ""
             }
            },
            "type": "scatter3d"
           }
          ],
          "scattercarpet": [
           {
            "marker": {
             "colorbar": {
              "outlinewidth": 0,
              "ticks": ""
             }
            },
            "type": "scattercarpet"
           }
          ],
          "scattergeo": [
           {
            "marker": {
             "colorbar": {
              "outlinewidth": 0,
              "ticks": ""
             }
            },
            "type": "scattergeo"
           }
          ],
          "scattergl": [
           {
            "marker": {
             "colorbar": {
              "outlinewidth": 0,
              "ticks": ""
             }
            },
            "type": "scattergl"
           }
          ],
          "scattermap": [
           {
            "marker": {
             "colorbar": {
              "outlinewidth": 0,
              "ticks": ""
             }
            },
            "type": "scattermap"
           }
          ],
          "scattermapbox": [
           {
            "marker": {
             "colorbar": {
              "outlinewidth": 0,
              "ticks": ""
             }
            },
            "type": "scattermapbox"
           }
          ],
          "scatterpolar": [
           {
            "marker": {
             "colorbar": {
              "outlinewidth": 0,
              "ticks": ""
             }
            },
            "type": "scatterpolar"
           }
          ],
          "scatterpolargl": [
           {
            "marker": {
             "colorbar": {
              "outlinewidth": 0,
              "ticks": ""
             }
            },
            "type": "scatterpolargl"
           }
          ],
          "scatterternary": [
           {
            "marker": {
             "colorbar": {
              "outlinewidth": 0,
              "ticks": ""
             }
            },
            "type": "scatterternary"
           }
          ],
          "surface": [
           {
            "colorbar": {
             "outlinewidth": 0,
             "ticks": ""
            },
            "colorscale": [
             [
              0,
              "#0d0887"
             ],
             [
              0.1111111111111111,
              "#46039f"
             ],
             [
              0.2222222222222222,
              "#7201a8"
             ],
             [
              0.3333333333333333,
              "#9c179e"
             ],
             [
              0.4444444444444444,
              "#bd3786"
             ],
             [
              0.5555555555555556,
              "#d8576b"
             ],
             [
              0.6666666666666666,
              "#ed7953"
             ],
             [
              0.7777777777777778,
              "#fb9f3a"
             ],
             [
              0.8888888888888888,
              "#fdca26"
             ],
             [
              1,
              "#f0f921"
             ]
            ],
            "type": "surface"
           }
          ],
          "table": [
           {
            "cells": {
             "fill": {
              "color": "#EBF0F8"
             },
             "line": {
              "color": "white"
             }
            },
            "header": {
             "fill": {
              "color": "#C8D4E3"
             },
             "line": {
              "color": "white"
             }
            },
            "type": "table"
           }
          ]
         },
         "layout": {
          "annotationdefaults": {
           "arrowcolor": "#2a3f5f",
           "arrowhead": 0,
           "arrowwidth": 1
          },
          "autotypenumbers": "strict",
          "coloraxis": {
           "colorbar": {
            "outlinewidth": 0,
            "ticks": ""
           }
          },
          "colorscale": {
           "diverging": [
            [
             0,
             "#8e0152"
            ],
            [
             0.1,
             "#c51b7d"
            ],
            [
             0.2,
             "#de77ae"
            ],
            [
             0.3,
             "#f1b6da"
            ],
            [
             0.4,
             "#fde0ef"
            ],
            [
             0.5,
             "#f7f7f7"
            ],
            [
             0.6,
             "#e6f5d0"
            ],
            [
             0.7,
             "#b8e186"
            ],
            [
             0.8,
             "#7fbc41"
            ],
            [
             0.9,
             "#4d9221"
            ],
            [
             1,
             "#276419"
            ]
           ],
           "sequential": [
            [
             0,
             "#0d0887"
            ],
            [
             0.1111111111111111,
             "#46039f"
            ],
            [
             0.2222222222222222,
             "#7201a8"
            ],
            [
             0.3333333333333333,
             "#9c179e"
            ],
            [
             0.4444444444444444,
             "#bd3786"
            ],
            [
             0.5555555555555556,
             "#d8576b"
            ],
            [
             0.6666666666666666,
             "#ed7953"
            ],
            [
             0.7777777777777778,
             "#fb9f3a"
            ],
            [
             0.8888888888888888,
             "#fdca26"
            ],
            [
             1,
             "#f0f921"
            ]
           ],
           "sequentialminus": [
            [
             0,
             "#0d0887"
            ],
            [
             0.1111111111111111,
             "#46039f"
            ],
            [
             0.2222222222222222,
             "#7201a8"
            ],
            [
             0.3333333333333333,
             "#9c179e"
            ],
            [
             0.4444444444444444,
             "#bd3786"
            ],
            [
             0.5555555555555556,
             "#d8576b"
            ],
            [
             0.6666666666666666,
             "#ed7953"
            ],
            [
             0.7777777777777778,
             "#fb9f3a"
            ],
            [
             0.8888888888888888,
             "#fdca26"
            ],
            [
             1,
             "#f0f921"
            ]
           ]
          },
          "colorway": [
           "#636efa",
           "#EF553B",
           "#00cc96",
           "#ab63fa",
           "#FFA15A",
           "#19d3f3",
           "#FF6692",
           "#B6E880",
           "#FF97FF",
           "#FECB52"
          ],
          "font": {
           "color": "#2a3f5f"
          },
          "geo": {
           "bgcolor": "white",
           "lakecolor": "white",
           "landcolor": "#E5ECF6",
           "showlakes": true,
           "showland": true,
           "subunitcolor": "white"
          },
          "hoverlabel": {
           "align": "left"
          },
          "hovermode": "closest",
          "mapbox": {
           "style": "light"
          },
          "paper_bgcolor": "white",
          "plot_bgcolor": "#E5ECF6",
          "polar": {
           "angularaxis": {
            "gridcolor": "white",
            "linecolor": "white",
            "ticks": ""
           },
           "bgcolor": "#E5ECF6",
           "radialaxis": {
            "gridcolor": "white",
            "linecolor": "white",
            "ticks": ""
           }
          },
          "scene": {
           "xaxis": {
            "backgroundcolor": "#E5ECF6",
            "gridcolor": "white",
            "gridwidth": 2,
            "linecolor": "white",
            "showbackground": true,
            "ticks": "",
            "zerolinecolor": "white"
           },
           "yaxis": {
            "backgroundcolor": "#E5ECF6",
            "gridcolor": "white",
            "gridwidth": 2,
            "linecolor": "white",
            "showbackground": true,
            "ticks": "",
            "zerolinecolor": "white"
           },
           "zaxis": {
            "backgroundcolor": "#E5ECF6",
            "gridcolor": "white",
            "gridwidth": 2,
            "linecolor": "white",
            "showbackground": true,
            "ticks": "",
            "zerolinecolor": "white"
           }
          },
          "shapedefaults": {
           "line": {
            "color": "#2a3f5f"
           }
          },
          "ternary": {
           "aaxis": {
            "gridcolor": "white",
            "linecolor": "white",
            "ticks": ""
           },
           "baxis": {
            "gridcolor": "white",
            "linecolor": "white",
            "ticks": ""
           },
           "bgcolor": "#E5ECF6",
           "caxis": {
            "gridcolor": "white",
            "linecolor": "white",
            "ticks": ""
           }
          },
          "title": {
           "x": 0.05
          },
          "xaxis": {
           "automargin": true,
           "gridcolor": "white",
           "linecolor": "white",
           "ticks": "",
           "title": {
            "standoff": 15
           },
           "zerolinecolor": "white",
           "zerolinewidth": 2
          },
          "yaxis": {
           "automargin": true,
           "gridcolor": "white",
           "linecolor": "white",
           "ticks": "",
           "title": {
            "standoff": 15
           },
           "zerolinecolor": "white",
           "zerolinewidth": 2
          }
         }
        },
        "title": {
         "text": "Firearm Fatality Rate by Gun Law Strength (2023)"
        }
       }
      }
     },
     "metadata": {},
     "output_type": "display_data"
    }
   ],
   "source": [
    "import plotly.express as px\n",
    "\n",
    "# state name to USPS code\n",
    "name_to_code = {\n",
    "    'Alabama':'AL','Alaska':'AK','Arizona':'AZ','Arkansas':'AR','California':'CA','Colorado':'CO',\n",
    "    'Connecticut':'CT','Delaware':'DE','District of Columbia':'DC','Florida':'FL','Georgia':'GA',\n",
    "    'Hawaii':'HI','Idaho':'ID','Illinois':'IL','Indiana':'IN','Iowa':'IA','Kansas':'KS','Kentucky':'KY',\n",
    "    'Louisiana':'LA','Maine':'ME','Maryland':'MD','Massachusetts':'MA','Michigan':'MI','Minnesota':'MN',\n",
    "    'Mississippi':'MS','Missouri':'MO','Montana':'MT','Nebraska':'NE','Nevada':'NV','New Hampshire':'NH',\n",
    "    'New Jersey':'NJ','New Mexico':'NM','New York':'NY','North Carolina':'NC','North Dakota':'ND',\n",
    "    'Ohio':'OH','Oklahoma':'OK','Oregon':'OR','Pennsylvania':'PA','Rhode Island':'RI','South Carolina':'SC',\n",
    "    'South Dakota':'SD','Tennessee':'TN','Texas':'TX','Utah':'UT','Vermont':'VT','Virginia':'VA',\n",
    "    'Washington':'WA','West Virginia':'WV','Wisconsin':'WI','Wyoming':'WY'\n",
    "}\n",
    "\n",
    "merged[\"state_code\"] = merged[\"state\"].map(name_to_code)\n",
    "category_orders = {\n",
    "    \"gun_laws\": [\"Very Weak\", \"Weak\", \"Neutral\", \"Strong\", \"Very Strong\"]\n",
    "}\n",
    "\n",
    "\n",
    "fig = px.choropleth(\n",
    "    merged,\n",
    "    locations=\"state_code\",\n",
    "    locationmode=\"USA-states\",\n",
    "    color=\"rate\",\n",
    "    facet_col=\"gun_laws\",\n",
    "    facet_col_wrap=2,\n",
    "    category_orders=category_orders,\n",
    "    scope=\"usa\",\n",
    "    color_continuous_scale=\"RdBu_r\",\n",
    "    title=\"Firearm Fatality Rate by Gun Law Strength (2023)\"\n",
    ")\n",
    "fig.show()"
   ]
  },
  {
   "cell_type": "code",
   "execution_count": 167,
   "id": "d436d09a",
   "metadata": {},
   "outputs": [
    {
     "data": {
      "application/vnd.plotly.v1+json": {
       "config": {
        "plotlyServerURL": "https://plot.ly"
       },
       "data": [
        {
         "customdata": [
          [
           25.3,
           12.4,
           12.1,
           "Very Weak"
          ],
          [
           24,
           6.4,
           16.4,
           "Very Weak"
          ],
          [
           19.1,
           5.5,
           12.8,
           "Very Weak"
          ],
          [
           21.9,
           8.6,
           12.8,
           "Very Weak"
          ],
          [
           18.8,
           8.1,
           10.1,
           "Very Weak"
          ],
          [
           18.1,
           1.7,
           15.5,
           "Very Weak"
          ],
          [
           10.6,
           2.3,
           8.3,
           "Very Weak"
          ],
          [
           16.2,
           4.7,
           10.9,
           "Very Weak"
          ],
          [
           18.6,
           5.7,
           12,
           "Very Weak"
          ],
          [
           27.6,
           16.1,
           10.6,
           "Very Weak"
          ],
          [
           28.7,
           16.8,
           11,
           "Very Weak"
          ],
          [
           21.4,
           8.5,
           12,
           "Very Weak"
          ],
          [
           21.8,
           2.6,
           18.2,
           "Very Weak"
          ],
          [
           13.1,
           2.2,
           10.8,
           "Very Weak"
          ],
          [
           20.1,
           5.5,
           14.1,
           "Very Weak"
          ],
          [
           19,
           8.4,
           9.9,
           "Very Weak"
          ],
          [
           12.2,
           1.2,
           9.7,
           "Very Weak"
          ],
          [
           22.3,
           9.4,
           12.3,
           "Very Weak"
          ],
          [
           15,
           5.6,
           8.8,
           "Very Weak"
          ],
          [
           14.3,
           1.8,
           12.1,
           "Very Weak"
          ],
          [
           17.8,
           3.5,
           13.8,
           "Very Weak"
          ],
          [
           22.3,
           1.7,
           19.9,
           "Very Weak"
          ]
         ],
         "hovertemplate": "<b>%{hovertext}</b><br><br>Gun Laws=Very Weak<br>Gun Death Rate=%{customdata[0]}<br>Homicide Rate=%{customdata[1]}<br>Suicide=%{customdata[2]}<br>gun_laws=%{customdata[3]}<extra></extra>",
         "hovertext": [
          "Alabama",
          "Alaska",
          "Arizona",
          "Arkansas",
          "Georgia",
          "Idaho",
          "Iowa",
          "Kansas",
          "Kentucky",
          "Louisiana",
          "Mississippi",
          "Missouri",
          "Montana",
          "North Dakota",
          "Oklahoma",
          "South Carolina",
          "South Dakota",
          "Tennessee",
          "Texas",
          "Utah",
          "West Virginia",
          "Wyoming"
         ],
         "legendgroup": "Very Weak",
         "marker": {
          "color": "#AEC6CF",
          "line": {
           "color": "white",
           "width": 1
          },
          "size": 40,
          "symbol": "square"
         },
         "mode": "markers",
         "name": "Very Weak",
         "orientation": "v",
         "showlegend": true,
         "type": "scatter",
         "x": {
          "bdata": "BgACBQcCBQQGBAUFAgMECAQGAwIHAw==",
          "dtype": "i1"
         },
         "xaxis": "x",
         "y": {
          "bdata": "+gD7+/r9/fz8+vr8/v77+v77+vz8/Q==",
          "dtype": "i1"
         },
         "yaxis": "y"
        },
        {
         "customdata": [
          [
           18.3,
           6.4,
           11,
           "Weak"
          ],
          [
           10.2,
           1,
           8.7,
           "Weak"
          ],
          [
           15,
           5.9,
           8.8,
           "Weak"
          ]
         ],
         "hovertemplate": "<b>%{hovertext}</b><br><br>Gun Laws=Weak<br>Gun Death Rate=%{customdata[0]}<br>Homicide Rate=%{customdata[1]}<br>Suicide=%{customdata[2]}<br>gun_laws=%{customdata[3]}<extra></extra>",
         "hovertext": [
          "Indiana",
          "New Hampshire",
          "Ohio"
         ],
         "legendgroup": "Weak",
         "marker": {
          "color": "#BFD4DB",
          "line": {
           "color": "white",
           "width": 1
          },
          "size": 40,
          "symbol": "square"
         },
         "mode": "markers",
         "name": "Weak",
         "orientation": "v",
         "showlegend": true,
         "type": "scatter",
         "x": {
          "bdata": "BwoI",
          "dtype": "i1"
         },
         "xaxis": "x",
         "y": {
          "bdata": "/f/9",
          "dtype": "i1"
         },
         "yaxis": "y"
        },
        {
         "customdata": [
          [
           14.4,
           4.7,
           9.3,
           "Neutral"
          ],
          [
           14.3,
           2.6,
           11.3,
           "Neutral"
          ],
          [
           10.8,
           1.7,
           8.3,
           "Neutral"
          ],
          [
           16.6,
           6.7,
           9.2,
           "Neutral"
          ],
          [
           12.9,
           4,
           8.5,
           "Neutral"
          ]
         ],
         "hovertemplate": "<b>%{hovertext}</b><br><br>Gun Laws=Neutral<br>Gun Death Rate=%{customdata[0]}<br>Homicide Rate=%{customdata[1]}<br>Suicide=%{customdata[2]}<br>gun_laws=%{customdata[3]}<extra></extra>",
         "hovertext": [
          "Florida",
          "Maine",
          "Nebraska",
          "North Carolina",
          "Wisconsin"
         ],
         "legendgroup": "Neutral",
         "marker": {
          "color": "#EBEBEB",
          "line": {
           "color": "white",
           "width": 1
          },
          "size": 40,
          "symbol": "square"
         },
         "mode": "markers",
         "name": "Neutral",
         "orientation": "v",
         "showlegend": true,
         "type": "scatter",
         "x": {
          "bdata": "BwsECAY=",
          "dtype": "i1"
         },
         "xaxis": "x",
         "y": {
          "bdata": "+QD9+/4=",
          "dtype": "i1"
         },
         "yaxis": "y"
        },
        {
         "customdata": [
          [
           13.8,
           5.2,
           8.3,
           "Strong"
          ],
          [
           9.1,
           2.2,
           6.6,
           "Strong"
          ],
          [
           19.3,
           5.8,
           13.1,
           "Strong"
          ],
          [
           25.1,
           10.3,
           13.4,
           "Strong"
          ],
          [
           13.9,
           5.3,
           8.3,
           "Strong"
          ],
          [
           12.8,
           2.2,
           10.5,
           "Strong"
          ],
          [
           14.2,
           5.4,
           8.4,
           "Strong"
          ]
         ],
         "hovertemplate": "<b>%{hovertext}</b><br><br>Gun Laws=Strong<br>Gun Death Rate=%{customdata[0]}<br>Homicide Rate=%{customdata[1]}<br>Suicide=%{customdata[2]}<br>gun_laws=%{customdata[3]}<extra></extra>",
         "hovertext": [
          "Michigan",
          "Minnesota",
          "Nevada",
          "New Mexico",
          "Pennsylvania",
          "Vermont",
          "Virginia"
         ],
         "legendgroup": "Strong",
         "marker": {
          "color": "#FFDFBF",
          "line": {
           "color": "white",
           "width": 1
          },
          "size": 40,
          "symbol": "square"
         },
         "mode": "markers",
         "name": "Strong",
         "orientation": "v",
         "showlegend": true,
         "type": "scatter",
         "x": {
          "bdata": "BwUBAwkJBw==",
          "dtype": "i1"
         },
         "xaxis": "x",
         "y": {
          "bdata": "/v78+/3/+w==",
          "dtype": "i1"
         },
         "yaxis": "y"
        },
        {
         "customdata": [
          [
           8.2,
           3.7,
           4.2,
           "Very Strong"
          ],
          [
           17.3,
           4.4,
           12.3,
           "Very Strong"
          ],
          [
           6.2,
           2.9,
           3.1,
           "Very Strong"
          ],
          [
           12,
           4.2,
           7.4,
           "Very Strong"
          ],
          [
           33.1,
           31.1,
           1.5,
           "Very Strong"
          ],
          [
           5.1,
           1.4,
           3.5,
           "Very Strong"
          ],
          [
           13.5,
           7.7,
           5.5,
           "Very Strong"
          ],
          [
           11.9,
           7.5,
           4.3,
           "Very Strong"
          ],
          [
           3.9,
           1.7,
           2.1,
           "Very Strong"
          ],
          [
           4.6,
           2.2,
           2.3,
           "Very Strong"
          ],
          [
           4.8,
           2.2,
           2.5,
           "Very Strong"
          ],
          [
           15.2,
           3.2,
           11.6,
           "Very Strong"
          ],
          [
           5.3,
           1.6,
           3.5,
           "Very Strong"
          ],
          [
           13.5,
           4.1,
           8.9,
           "Very Strong"
          ]
         ],
         "hovertemplate": "<b>%{hovertext}</b><br><br>Gun Laws=Very Strong<br>Gun Death Rate=%{customdata[0]}<br>Homicide Rate=%{customdata[1]}<br>Suicide=%{customdata[2]}<br>gun_laws=%{customdata[3]}<extra></extra>",
         "hovertext": [
          "California",
          "Colorado",
          "Connecticut",
          "Delaware",
          "District of Columbia",
          "Hawaii",
          "Illinois",
          "Maryland",
          "Massachusetts",
          "New Jersey",
          "New York",
          "Oregon",
          "Rhode Island",
          "Washington"
         ],
         "legendgroup": "Very Strong",
         "marker": {
          "color": "#FFB347",
          "line": {
           "color": "white",
           "width": 1
          },
          "size": 40,
          "symbol": "square"
         },
         "mode": "markers",
         "name": "Very Strong",
         "orientation": "v",
         "showlegend": true,
         "type": "scatter",
         "x": {
          "bdata": "AAMKCggABgkLCgkBCwE=",
          "dtype": "i1"
         },
         "xaxis": "x",
         "y": {
          "bdata": "/Pz+/Pz5/fz//f79/v4=",
          "dtype": "i1"
         },
         "yaxis": "y"
        }
       ],
       "layout": {
        "annotations": [
         {
          "font": {
           "size": 10
          },
          "showarrow": false,
          "text": "AL<br>25.3",
          "x": 6,
          "y": -6
         },
         {
          "font": {
           "size": 10
          },
          "showarrow": false,
          "text": "AK<br>24.0",
          "x": 0,
          "y": 0
         },
         {
          "font": {
           "size": 10
          },
          "showarrow": false,
          "text": "AZ<br>19.1",
          "x": 2,
          "y": -5
         },
         {
          "font": {
           "size": 10
          },
          "showarrow": false,
          "text": "AR<br>21.9",
          "x": 5,
          "y": -5
         },
         {
          "font": {
           "size": 10
          },
          "showarrow": false,
          "text": "CA<br>8.2",
          "x": 0,
          "y": -4
         },
         {
          "font": {
           "size": 10
          },
          "showarrow": false,
          "text": "CO<br>17.3",
          "x": 3,
          "y": -4
         },
         {
          "font": {
           "size": 10
          },
          "showarrow": false,
          "text": "CT<br>6.2",
          "x": 10,
          "y": -2
         },
         {
          "font": {
           "size": 10
          },
          "showarrow": false,
          "text": "DE<br>12.0",
          "x": 10,
          "y": -4
         },
         {
          "font": {
           "size": 10
          },
          "showarrow": false,
          "text": "DC<br>33.1",
          "x": 8,
          "y": -4
         },
         {
          "font": {
           "size": 10
          },
          "showarrow": false,
          "text": "FL<br>14.4",
          "x": 7,
          "y": -7
         },
         {
          "font": {
           "size": 10
          },
          "showarrow": false,
          "text": "GA<br>18.8",
          "x": 7,
          "y": -6
         },
         {
          "font": {
           "size": 10
          },
          "showarrow": false,
          "text": "HI<br>5.1",
          "x": 0,
          "y": -7
         },
         {
          "font": {
           "size": 10
          },
          "showarrow": false,
          "text": "ID<br>18.1",
          "x": 2,
          "y": -3
         },
         {
          "font": {
           "size": 10
          },
          "showarrow": false,
          "text": "IL<br>13.5",
          "x": 6,
          "y": -3
         },
         {
          "font": {
           "size": 10
          },
          "showarrow": false,
          "text": "IN<br>18.3",
          "x": 7,
          "y": -3
         },
         {
          "font": {
           "size": 10
          },
          "showarrow": false,
          "text": "IA<br>10.6",
          "x": 5,
          "y": -3
         },
         {
          "font": {
           "size": 10
          },
          "showarrow": false,
          "text": "KS<br>16.2",
          "x": 4,
          "y": -4
         },
         {
          "font": {
           "size": 10
          },
          "showarrow": false,
          "text": "KY<br>18.6",
          "x": 6,
          "y": -4
         },
         {
          "font": {
           "size": 10
          },
          "showarrow": false,
          "text": "LA<br>27.6",
          "x": 4,
          "y": -6
         },
         {
          "font": {
           "size": 10
          },
          "showarrow": false,
          "text": "ME<br>14.3",
          "x": 11,
          "y": 0
         },
         {
          "font": {
           "size": 10
          },
          "showarrow": false,
          "text": "MD<br>11.9",
          "x": 9,
          "y": -4
         },
         {
          "font": {
           "size": 10
          },
          "showarrow": false,
          "text": "MA<br>3.9",
          "x": 11,
          "y": -1
         },
         {
          "font": {
           "size": 10
          },
          "showarrow": false,
          "text": "MI<br>13.8",
          "x": 7,
          "y": -2
         },
         {
          "font": {
           "size": 10
          },
          "showarrow": false,
          "text": "MN<br>9.1",
          "x": 5,
          "y": -2
         },
         {
          "font": {
           "size": 10
          },
          "showarrow": false,
          "text": "MS<br>28.7",
          "x": 5,
          "y": -6
         },
         {
          "font": {
           "size": 10
          },
          "showarrow": false,
          "text": "MO<br>21.4",
          "x": 5,
          "y": -4
         },
         {
          "font": {
           "size": 10
          },
          "showarrow": false,
          "text": "MT<br>21.8",
          "x": 2,
          "y": -2
         },
         {
          "font": {
           "size": 10
          },
          "showarrow": false,
          "text": "NE<br>10.8",
          "x": 4,
          "y": -3
         },
         {
          "font": {
           "size": 10
          },
          "showarrow": false,
          "text": "NV<br>19.3",
          "x": 1,
          "y": -4
         },
         {
          "font": {
           "size": 10
          },
          "showarrow": false,
          "text": "NH<br>10.2",
          "x": 10,
          "y": -1
         },
         {
          "font": {
           "size": 10
          },
          "showarrow": false,
          "text": "NJ<br>4.6",
          "x": 10,
          "y": -3
         },
         {
          "font": {
           "size": 10
          },
          "showarrow": false,
          "text": "NM<br>25.1",
          "x": 3,
          "y": -5
         },
         {
          "font": {
           "size": 10
          },
          "showarrow": false,
          "text": "NY<br>4.8",
          "x": 9,
          "y": -2
         },
         {
          "font": {
           "size": 10
          },
          "showarrow": false,
          "text": "NC<br>16.6",
          "x": 8,
          "y": -5
         },
         {
          "font": {
           "size": 10
          },
          "showarrow": false,
          "text": "ND<br>13.1",
          "x": 3,
          "y": -2
         },
         {
          "font": {
           "size": 10
          },
          "showarrow": false,
          "text": "OH<br>15.0",
          "x": 8,
          "y": -3
         },
         {
          "font": {
           "size": 10
          },
          "showarrow": false,
          "text": "OK<br>20.1",
          "x": 4,
          "y": -5
         },
         {
          "font": {
           "size": 10
          },
          "showarrow": false,
          "text": "OR<br>15.2",
          "x": 1,
          "y": -3
         },
         {
          "font": {
           "size": 10
          },
          "showarrow": false,
          "text": "PA<br>13.9",
          "x": 9,
          "y": -3
         },
         {
          "font": {
           "size": 10
          },
          "showarrow": false,
          "text": "RI<br>5.3",
          "x": 11,
          "y": -2
         },
         {
          "font": {
           "size": 10
          },
          "showarrow": false,
          "text": "SC<br>19.0",
          "x": 8,
          "y": -6
         },
         {
          "font": {
           "size": 10
          },
          "showarrow": false,
          "text": "SD<br>12.2",
          "x": 4,
          "y": -2
         },
         {
          "font": {
           "size": 10
          },
          "showarrow": false,
          "text": "TN<br>22.3",
          "x": 6,
          "y": -5
         },
         {
          "font": {
           "size": 10
          },
          "showarrow": false,
          "text": "TX<br>15.0",
          "x": 3,
          "y": -6
         },
         {
          "font": {
           "size": 10
          },
          "showarrow": false,
          "text": "UT<br>14.3",
          "x": 2,
          "y": -4
         },
         {
          "font": {
           "size": 10
          },
          "showarrow": false,
          "text": "VT<br>12.8",
          "x": 9,
          "y": -1
         },
         {
          "font": {
           "size": 10
          },
          "showarrow": false,
          "text": "VA<br>14.2",
          "x": 7,
          "y": -5
         },
         {
          "font": {
           "size": 10
          },
          "showarrow": false,
          "text": "WA<br>13.5",
          "x": 1,
          "y": -2
         },
         {
          "font": {
           "size": 10
          },
          "showarrow": false,
          "text": "WV<br>17.8",
          "x": 7,
          "y": -4
         },
         {
          "font": {
           "size": 10
          },
          "showarrow": false,
          "text": "WI<br>12.9",
          "x": 6,
          "y": -2
         },
         {
          "font": {
           "size": 10
          },
          "showarrow": false,
          "text": "WY<br>22.3",
          "x": 3,
          "y": -3
         }
        ],
        "legend": {
         "title": {
          "text": "Gun Laws"
         },
         "tracegroupgap": 0
        },
        "margin": {
         "b": 5,
         "l": 5,
         "r": 5,
         "t": 5
        },
        "plot_bgcolor": "white",
        "template": {
         "data": {
          "bar": [
           {
            "error_x": {
             "color": "#2a3f5f"
            },
            "error_y": {
             "color": "#2a3f5f"
            },
            "marker": {
             "line": {
              "color": "#E5ECF6",
              "width": 0.5
             },
             "pattern": {
              "fillmode": "overlay",
              "size": 10,
              "solidity": 0.2
             }
            },
            "type": "bar"
           }
          ],
          "barpolar": [
           {
            "marker": {
             "line": {
              "color": "#E5ECF6",
              "width": 0.5
             },
             "pattern": {
              "fillmode": "overlay",
              "size": 10,
              "solidity": 0.2
             }
            },
            "type": "barpolar"
           }
          ],
          "carpet": [
           {
            "aaxis": {
             "endlinecolor": "#2a3f5f",
             "gridcolor": "white",
             "linecolor": "white",
             "minorgridcolor": "white",
             "startlinecolor": "#2a3f5f"
            },
            "baxis": {
             "endlinecolor": "#2a3f5f",
             "gridcolor": "white",
             "linecolor": "white",
             "minorgridcolor": "white",
             "startlinecolor": "#2a3f5f"
            },
            "type": "carpet"
           }
          ],
          "choropleth": [
           {
            "colorbar": {
             "outlinewidth": 0,
             "ticks": ""
            },
            "type": "choropleth"
           }
          ],
          "contour": [
           {
            "colorbar": {
             "outlinewidth": 0,
             "ticks": ""
            },
            "colorscale": [
             [
              0,
              "#0d0887"
             ],
             [
              0.1111111111111111,
              "#46039f"
             ],
             [
              0.2222222222222222,
              "#7201a8"
             ],
             [
              0.3333333333333333,
              "#9c179e"
             ],
             [
              0.4444444444444444,
              "#bd3786"
             ],
             [
              0.5555555555555556,
              "#d8576b"
             ],
             [
              0.6666666666666666,
              "#ed7953"
             ],
             [
              0.7777777777777778,
              "#fb9f3a"
             ],
             [
              0.8888888888888888,
              "#fdca26"
             ],
             [
              1,
              "#f0f921"
             ]
            ],
            "type": "contour"
           }
          ],
          "contourcarpet": [
           {
            "colorbar": {
             "outlinewidth": 0,
             "ticks": ""
            },
            "type": "contourcarpet"
           }
          ],
          "heatmap": [
           {
            "colorbar": {
             "outlinewidth": 0,
             "ticks": ""
            },
            "colorscale": [
             [
              0,
              "#0d0887"
             ],
             [
              0.1111111111111111,
              "#46039f"
             ],
             [
              0.2222222222222222,
              "#7201a8"
             ],
             [
              0.3333333333333333,
              "#9c179e"
             ],
             [
              0.4444444444444444,
              "#bd3786"
             ],
             [
              0.5555555555555556,
              "#d8576b"
             ],
             [
              0.6666666666666666,
              "#ed7953"
             ],
             [
              0.7777777777777778,
              "#fb9f3a"
             ],
             [
              0.8888888888888888,
              "#fdca26"
             ],
             [
              1,
              "#f0f921"
             ]
            ],
            "type": "heatmap"
           }
          ],
          "histogram": [
           {
            "marker": {
             "pattern": {
              "fillmode": "overlay",
              "size": 10,
              "solidity": 0.2
             }
            },
            "type": "histogram"
           }
          ],
          "histogram2d": [
           {
            "colorbar": {
             "outlinewidth": 0,
             "ticks": ""
            },
            "colorscale": [
             [
              0,
              "#0d0887"
             ],
             [
              0.1111111111111111,
              "#46039f"
             ],
             [
              0.2222222222222222,
              "#7201a8"
             ],
             [
              0.3333333333333333,
              "#9c179e"
             ],
             [
              0.4444444444444444,
              "#bd3786"
             ],
             [
              0.5555555555555556,
              "#d8576b"
             ],
             [
              0.6666666666666666,
              "#ed7953"
             ],
             [
              0.7777777777777778,
              "#fb9f3a"
             ],
             [
              0.8888888888888888,
              "#fdca26"
             ],
             [
              1,
              "#f0f921"
             ]
            ],
            "type": "histogram2d"
           }
          ],
          "histogram2dcontour": [
           {
            "colorbar": {
             "outlinewidth": 0,
             "ticks": ""
            },
            "colorscale": [
             [
              0,
              "#0d0887"
             ],
             [
              0.1111111111111111,
              "#46039f"
             ],
             [
              0.2222222222222222,
              "#7201a8"
             ],
             [
              0.3333333333333333,
              "#9c179e"
             ],
             [
              0.4444444444444444,
              "#bd3786"
             ],
             [
              0.5555555555555556,
              "#d8576b"
             ],
             [
              0.6666666666666666,
              "#ed7953"
             ],
             [
              0.7777777777777778,
              "#fb9f3a"
             ],
             [
              0.8888888888888888,
              "#fdca26"
             ],
             [
              1,
              "#f0f921"
             ]
            ],
            "type": "histogram2dcontour"
           }
          ],
          "mesh3d": [
           {
            "colorbar": {
             "outlinewidth": 0,
             "ticks": ""
            },
            "type": "mesh3d"
           }
          ],
          "parcoords": [
           {
            "line": {
             "colorbar": {
              "outlinewidth": 0,
              "ticks": ""
             }
            },
            "type": "parcoords"
           }
          ],
          "pie": [
           {
            "automargin": true,
            "type": "pie"
           }
          ],
          "scatter": [
           {
            "fillpattern": {
             "fillmode": "overlay",
             "size": 10,
             "solidity": 0.2
            },
            "type": "scatter"
           }
          ],
          "scatter3d": [
           {
            "line": {
             "colorbar": {
              "outlinewidth": 0,
              "ticks": ""
             }
            },
            "marker": {
             "colorbar": {
              "outlinewidth": 0,
              "ticks": ""
             }
            },
            "type": "scatter3d"
           }
          ],
          "scattercarpet": [
           {
            "marker": {
             "colorbar": {
              "outlinewidth": 0,
              "ticks": ""
             }
            },
            "type": "scattercarpet"
           }
          ],
          "scattergeo": [
           {
            "marker": {
             "colorbar": {
              "outlinewidth": 0,
              "ticks": ""
             }
            },
            "type": "scattergeo"
           }
          ],
          "scattergl": [
           {
            "marker": {
             "colorbar": {
              "outlinewidth": 0,
              "ticks": ""
             }
            },
            "type": "scattergl"
           }
          ],
          "scattermap": [
           {
            "marker": {
             "colorbar": {
              "outlinewidth": 0,
              "ticks": ""
             }
            },
            "type": "scattermap"
           }
          ],
          "scattermapbox": [
           {
            "marker": {
             "colorbar": {
              "outlinewidth": 0,
              "ticks": ""
             }
            },
            "type": "scattermapbox"
           }
          ],
          "scatterpolar": [
           {
            "marker": {
             "colorbar": {
              "outlinewidth": 0,
              "ticks": ""
             }
            },
            "type": "scatterpolar"
           }
          ],
          "scatterpolargl": [
           {
            "marker": {
             "colorbar": {
              "outlinewidth": 0,
              "ticks": ""
             }
            },
            "type": "scatterpolargl"
           }
          ],
          "scatterternary": [
           {
            "marker": {
             "colorbar": {
              "outlinewidth": 0,
              "ticks": ""
             }
            },
            "type": "scatterternary"
           }
          ],
          "surface": [
           {
            "colorbar": {
             "outlinewidth": 0,
             "ticks": ""
            },
            "colorscale": [
             [
              0,
              "#0d0887"
             ],
             [
              0.1111111111111111,
              "#46039f"
             ],
             [
              0.2222222222222222,
              "#7201a8"
             ],
             [
              0.3333333333333333,
              "#9c179e"
             ],
             [
              0.4444444444444444,
              "#bd3786"
             ],
             [
              0.5555555555555556,
              "#d8576b"
             ],
             [
              0.6666666666666666,
              "#ed7953"
             ],
             [
              0.7777777777777778,
              "#fb9f3a"
             ],
             [
              0.8888888888888888,
              "#fdca26"
             ],
             [
              1,
              "#f0f921"
             ]
            ],
            "type": "surface"
           }
          ],
          "table": [
           {
            "cells": {
             "fill": {
              "color": "#EBF0F8"
             },
             "line": {
              "color": "white"
             }
            },
            "header": {
             "fill": {
              "color": "#C8D4E3"
             },
             "line": {
              "color": "white"
             }
            },
            "type": "table"
           }
          ]
         },
         "layout": {
          "annotationdefaults": {
           "arrowcolor": "#2a3f5f",
           "arrowhead": 0,
           "arrowwidth": 1
          },
          "autotypenumbers": "strict",
          "coloraxis": {
           "colorbar": {
            "outlinewidth": 0,
            "ticks": ""
           }
          },
          "colorscale": {
           "diverging": [
            [
             0,
             "#8e0152"
            ],
            [
             0.1,
             "#c51b7d"
            ],
            [
             0.2,
             "#de77ae"
            ],
            [
             0.3,
             "#f1b6da"
            ],
            [
             0.4,
             "#fde0ef"
            ],
            [
             0.5,
             "#f7f7f7"
            ],
            [
             0.6,
             "#e6f5d0"
            ],
            [
             0.7,
             "#b8e186"
            ],
            [
             0.8,
             "#7fbc41"
            ],
            [
             0.9,
             "#4d9221"
            ],
            [
             1,
             "#276419"
            ]
           ],
           "sequential": [
            [
             0,
             "#0d0887"
            ],
            [
             0.1111111111111111,
             "#46039f"
            ],
            [
             0.2222222222222222,
             "#7201a8"
            ],
            [
             0.3333333333333333,
             "#9c179e"
            ],
            [
             0.4444444444444444,
             "#bd3786"
            ],
            [
             0.5555555555555556,
             "#d8576b"
            ],
            [
             0.6666666666666666,
             "#ed7953"
            ],
            [
             0.7777777777777778,
             "#fb9f3a"
            ],
            [
             0.8888888888888888,
             "#fdca26"
            ],
            [
             1,
             "#f0f921"
            ]
           ],
           "sequentialminus": [
            [
             0,
             "#0d0887"
            ],
            [
             0.1111111111111111,
             "#46039f"
            ],
            [
             0.2222222222222222,
             "#7201a8"
            ],
            [
             0.3333333333333333,
             "#9c179e"
            ],
            [
             0.4444444444444444,
             "#bd3786"
            ],
            [
             0.5555555555555556,
             "#d8576b"
            ],
            [
             0.6666666666666666,
             "#ed7953"
            ],
            [
             0.7777777777777778,
             "#fb9f3a"
            ],
            [
             0.8888888888888888,
             "#fdca26"
            ],
            [
             1,
             "#f0f921"
            ]
           ]
          },
          "colorway": [
           "#636efa",
           "#EF553B",
           "#00cc96",
           "#ab63fa",
           "#FFA15A",
           "#19d3f3",
           "#FF6692",
           "#B6E880",
           "#FF97FF",
           "#FECB52"
          ],
          "font": {
           "color": "#2a3f5f"
          },
          "geo": {
           "bgcolor": "white",
           "lakecolor": "white",
           "landcolor": "#E5ECF6",
           "showlakes": true,
           "showland": true,
           "subunitcolor": "white"
          },
          "hoverlabel": {
           "align": "left"
          },
          "hovermode": "closest",
          "mapbox": {
           "style": "light"
          },
          "paper_bgcolor": "white",
          "plot_bgcolor": "#E5ECF6",
          "polar": {
           "angularaxis": {
            "gridcolor": "white",
            "linecolor": "white",
            "ticks": ""
           },
           "bgcolor": "#E5ECF6",
           "radialaxis": {
            "gridcolor": "white",
            "linecolor": "white",
            "ticks": ""
           }
          },
          "scene": {
           "xaxis": {
            "backgroundcolor": "#E5ECF6",
            "gridcolor": "white",
            "gridwidth": 2,
            "linecolor": "white",
            "showbackground": true,
            "ticks": "",
            "zerolinecolor": "white"
           },
           "yaxis": {
            "backgroundcolor": "#E5ECF6",
            "gridcolor": "white",
            "gridwidth": 2,
            "linecolor": "white",
            "showbackground": true,
            "ticks": "",
            "zerolinecolor": "white"
           },
           "zaxis": {
            "backgroundcolor": "#E5ECF6",
            "gridcolor": "white",
            "gridwidth": 2,
            "linecolor": "white",
            "showbackground": true,
            "ticks": "",
            "zerolinecolor": "white"
           }
          },
          "shapedefaults": {
           "line": {
            "color": "#2a3f5f"
           }
          },
          "ternary": {
           "aaxis": {
            "gridcolor": "white",
            "linecolor": "white",
            "ticks": ""
           },
           "baxis": {
            "gridcolor": "white",
            "linecolor": "white",
            "ticks": ""
           },
           "bgcolor": "#E5ECF6",
           "caxis": {
            "gridcolor": "white",
            "linecolor": "white",
            "ticks": ""
           }
          },
          "title": {
           "x": 0.05
          },
          "xaxis": {
           "automargin": true,
           "gridcolor": "white",
           "linecolor": "white",
           "ticks": "",
           "title": {
            "standoff": 15
           },
           "zerolinecolor": "white",
           "zerolinewidth": 2
          },
          "yaxis": {
           "automargin": true,
           "gridcolor": "white",
           "linecolor": "white",
           "ticks": "",
           "title": {
            "standoff": 15
           },
           "zerolinecolor": "white",
           "zerolinewidth": 2
          }
         }
        },
        "xaxis": {
         "anchor": "y",
         "domain": [
          0,
          1
         ],
         "title": {
          "text": "x"
         },
         "visible": false
        },
        "yaxis": {
         "anchor": "x",
         "domain": [
          0,
          1
         ],
         "scaleanchor": "x",
         "scaleratio": 1,
         "title": {
          "text": "y"
         },
         "visible": false
        }
       }
      }
     },
     "metadata": {},
     "output_type": "display_data"
    }
   ],
   "source": [
    "import pandas as pd\n",
    "import plotly.express as px\n",
    "\n",
    "# 0) Start from your dataframe\n",
    "df = merged.copy()\n",
    "\n",
    "# 1) Make sure rate is numeric and build a Likert column from gun_laws\n",
    "df[\"rate\"] = pd.to_numeric(df[\"rate\"], errors=\"coerce\")\n",
    "\n",
    "# If you already have a likert column, skip this assignment\n",
    "df[\"likert\"] = df[\"gun_laws\"]\n",
    "\n",
    "# 2) Define ordered Likert levels so the legend sorts logically\n",
    "order = [\"Very Weak\", \"Weak\", \"Neutral\", \"Strong\", \"Very Strong\"]\n",
    "df[\"Gun Laws\"] = pd.Categorical(df[\"likert\"], categories=order, ordered=True)\n",
    "\n",
    "# 3) Tiled US grid positions\n",
    "nyt_states = pd.read_csv(\"https://raw.githubusercontent.com/kristw/gridmap-layout-usa/refs/heads/master/dist/gridmap-layout-usa.csv\")\n",
    "\n",
    "# 4) Merge by state code\n",
    "df2 = df.merge(nyt_states, left_on=\"state_code\", right_on=\"key\", how=\"left\")\n",
    "\n",
    "df2[\"y\"] = df2[\"y\"] * -1\n",
    "\n",
    "# 5) Safety check for any states missing a grid placement\n",
    "missing = df2[df2[\"x\"].isna()]\n",
    "if not missing.empty:\n",
    "    print(\"Warning: missing grid placement for:\", sorted(missing[\"state_code\"].unique().tolist()))\n",
    "    \n",
    "likert_colors = [\"#AEC6CF\", \"#BFD4DB\", \"#EBEBEB\", \"#FFDFBF\", \"#FFB347\"]\n",
    "\n",
    "# 7) Build the figure\n",
    "fig = px.scatter(\n",
    "    df2, x=\"x\", y=\"y\",\n",
    "    color=\"Gun Laws\",\n",
    "    hover_name=\"state\",\n",
    "    hover_data={\n",
    "        \"Gun Death Rate\": df2[\"rate\"],\n",
    "        \"Homicide Rate\": df2[\"fa_homicide_rate\"],\n",
    "        \"Suicide\": df2[\"fa_suicide_rate\"],\n",
    "        \"gun_laws\": True,\n",
    "        \"x\": False, \"y\": False, \"x\": False, \"y\": False\n",
    "    },\n",
    "    category_orders={\"Gun Laws\": order},\n",
    "    color_discrete_sequence=likert_colors\n",
    ")\n",
    "\n",
    "# Square tiles\n",
    "fig.update_traces(marker=dict(symbol=\"square\", size=40, line=dict(color=\"white\", width=1)))\n",
    "\n",
    "# 8) Add tile labels: state code and rate\n",
    "for _, r in df2.dropna(subset=[\"x\",\"y\"]).iterrows():\n",
    "    fig.add_annotation(\n",
    "        x=r[\"x\"], y=r[\"y\"],\n",
    "        text=f\"{r['state_code']}<br>{r['rate']:.1f}\" if pd.notna(r[\"rate\"]) else f\"{r['state_code']}\",\n",
    "        showarrow=False,\n",
    "        font=dict(size=10)\n",
    "    )\n",
    "\n",
    "# 9) Style\n",
    "fig.update_xaxes(visible=False)\n",
    "fig.update_yaxes(visible=False, scaleanchor=\"x\", scaleratio=1)\n",
    "fig.update_layout(\n",
    "    plot_bgcolor=\"white\",\n",
    "    margin=dict(l=5, r=5, t=5, b=5)\n",
    ")\n",
    "\n",
    "fig.show()\n",
    "\n"
   ]
  },
  {
   "cell_type": "code",
   "execution_count": 168,
   "id": "98882452",
   "metadata": {},
   "outputs": [
    {
     "name": "stderr",
     "output_type": "stream",
     "text": [
      "/var/folders/c3/xzrx9_vx26s_2c8n5tm5sggm0000gn/T/ipykernel_46193/3165424890.py:8: FutureWarning:\n",
      "\n",
      "\n",
      "\n",
      "Passing `palette` without assigning `hue` is deprecated and will be removed in v0.14.0. Assign the `x` variable to `hue` and set `legend=False` for the same effect.\n",
      "\n",
      "\n"
     ]
    },
    {
     "data": {
      "image/png": "[encoded data removed]",
      "text/plain": [
       "<Figure size 1000x800 with 1 Axes>"
      ]
     },
     "metadata": {},
     "output_type": "display_data"
    }
   ],
   "source": [
    "import seaborn as sns\n",
    "import matplotlib.pyplot as plt\n",
    "\n",
    "order = [\"Very Weak\", \"Weak\", \"Neutral\", \"Strong\", \"Very Strong\"]\n",
    "palette = sns.color_palette(likert_colors, n_colors=len(order))  # blue → red\n",
    "\n",
    "plt.figure(figsize=(10, 8))\n",
    "sns.boxplot(\n",
    "    data=merged,\n",
    "    x=\"gun_laws\",\n",
    "    y=\"rate\",\n",
    "    order=order,\n",
    "    palette=palette\n",
    ")\n",
    "sns.despine()\n",
    "plt.xlabel(\"Gun law strength\")\n",
    "plt.ylabel(\"Firearm fatality rate\")\n",
    "plt.title(\"Firearm Fatality Rate by Gun Law Strength\")\n",
    "plt.xticks(rotation=15)\n",
    "plt.tight_layout()\n",
    "plt.show()\n"
   ]
  }
 ],
 "metadata": {
  "kernelspec": {
   "display_name": "Python 3",
   "language": "python",
   "name": "python3"
  },
  "language_info": {
   "codemirror_mode": {
    "name": "ipython",
    "version": 3
   },
   "file_extension": ".py",
   "mimetype": "text/x-python",
   "name": "python",
   "nbconvert_exporter": "python",
   "pygments_lexer": "ipython3",
   "version": "3.9.6"
  }
 },
 "nbformat": 4,
 "nbformat_minor": 5
}
