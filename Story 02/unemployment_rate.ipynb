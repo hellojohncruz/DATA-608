{
 "cells": [
  {
   "cell_type": "code",
   "execution_count": 1,
   "id": "d75f8648",
   "metadata": {},
   "outputs": [],
   "source": [
    "import pandas as pd\n",
    "import numpy as np"
   ]
  },
  {
   "cell_type": "code",
   "execution_count": 2,
   "id": "544e65f6",
   "metadata": {},
   "outputs": [],
   "source": [
    "df = pd.read_csv(\"NROU.csv\")\n",
    "\n",
    "# Convert observation_date to datetime\n",
    "df[\"observation_date\"] = pd.to_datetime(df[\"observation_date\"])\n",
    "\n",
    "# Set index to observation_date\n",
    "df.set_index(\"observation_date\", inplace=True)\n",
    "\n",
    "# Reindex to monthly frequency\n",
    "df = df.asfreq(\"MS\")\n",
    "\n",
    "# Forward fill missing values\n",
    "df[\"NROU\"] = df[\"NROU\"].ffill()\n"
   ]
  },
  {
   "cell_type": "code",
   "execution_count": 6,
   "id": "f63cd07e",
   "metadata": {},
   "outputs": [],
   "source": [
    "df = df.reset_index()"
   ]
  },
  {
   "cell_type": "code",
   "execution_count": 7,
   "id": "34fcb999",
   "metadata": {},
   "outputs": [
    {
     "data": {
      "text/html": [
       "<div>\n",
       "<style scoped>\n",
       "    .dataframe tbody tr th:only-of-type {\n",
       "        vertical-align: middle;\n",
       "    }\n",
       "\n",
       "    .dataframe tbody tr th {\n",
       "        vertical-align: top;\n",
       "    }\n",
       "\n",
       "    .dataframe thead th {\n",
       "        text-align: right;\n",
       "    }\n",
       "</style>\n",
       "<table border=\"1\" class=\"dataframe\">\n",
       "  <thead>\n",
       "    <tr style=\"text-align: right;\">\n",
       "      <th></th>\n",
       "      <th>observation_date</th>\n",
       "      <th>NROU</th>\n",
       "    </tr>\n",
       "  </thead>\n",
       "  <tbody>\n",
       "    <tr>\n",
       "      <th>0</th>\n",
       "      <td>2000-07-01</td>\n",
       "      <td>5.081702</td>\n",
       "    </tr>\n",
       "    <tr>\n",
       "      <th>1</th>\n",
       "      <td>2000-08-01</td>\n",
       "      <td>5.081702</td>\n",
       "    </tr>\n",
       "    <tr>\n",
       "      <th>2</th>\n",
       "      <td>2000-09-01</td>\n",
       "      <td>5.081702</td>\n",
       "    </tr>\n",
       "    <tr>\n",
       "      <th>3</th>\n",
       "      <td>2000-10-01</td>\n",
       "      <td>5.074767</td>\n",
       "    </tr>\n",
       "    <tr>\n",
       "      <th>4</th>\n",
       "      <td>2000-11-01</td>\n",
       "      <td>5.074767</td>\n",
       "    </tr>\n",
       "    <tr>\n",
       "      <th>...</th>\n",
       "      <td>...</td>\n",
       "      <td>...</td>\n",
       "    </tr>\n",
       "    <tr>\n",
       "      <th>296</th>\n",
       "      <td>2025-03-01</td>\n",
       "      <td>4.320248</td>\n",
       "    </tr>\n",
       "    <tr>\n",
       "      <th>297</th>\n",
       "      <td>2025-04-01</td>\n",
       "      <td>4.318228</td>\n",
       "    </tr>\n",
       "    <tr>\n",
       "      <th>298</th>\n",
       "      <td>2025-05-01</td>\n",
       "      <td>4.318228</td>\n",
       "    </tr>\n",
       "    <tr>\n",
       "      <th>299</th>\n",
       "      <td>2025-06-01</td>\n",
       "      <td>4.318228</td>\n",
       "    </tr>\n",
       "    <tr>\n",
       "      <th>300</th>\n",
       "      <td>2025-07-01</td>\n",
       "      <td>4.315608</td>\n",
       "    </tr>\n",
       "  </tbody>\n",
       "</table>\n",
       "<p>301 rows × 2 columns</p>\n",
       "</div>"
      ],
      "text/plain": [
       "    observation_date      NROU\n",
       "0         2000-07-01  5.081702\n",
       "1         2000-08-01  5.081702\n",
       "2         2000-09-01  5.081702\n",
       "3         2000-10-01  5.074767\n",
       "4         2000-11-01  5.074767\n",
       "..               ...       ...\n",
       "296       2025-03-01  4.320248\n",
       "297       2025-04-01  4.318228\n",
       "298       2025-05-01  4.318228\n",
       "299       2025-06-01  4.318228\n",
       "300       2025-07-01  4.315608\n",
       "\n",
       "[301 rows x 2 columns]"
      ]
     },
     "execution_count": 7,
     "metadata": {},
     "output_type": "execute_result"
    }
   ],
   "source": [
    "df"
   ]
  },
  {
   "cell_type": "code",
   "execution_count": 8,
   "id": "c3e82788",
   "metadata": {},
   "outputs": [],
   "source": [
    "df.to_csv(\"NROU_adj.csv\")"
   ]
  }
 ],
 "metadata": {
  "kernelspec": {
   "display_name": "Python 3",
   "language": "python",
   "name": "python3"
  },
  "language_info": {
   "codemirror_mode": {
    "name": "ipython",
    "version": 3
   },
   "file_extension": ".py",
   "mimetype": "text/x-python",
   "name": "python",
   "nbconvert_exporter": "python",
   "pygments_lexer": "ipython3",
   "version": "3.9.6"
  }
 },
 "nbformat": 4,
 "nbformat_minor": 5
}
