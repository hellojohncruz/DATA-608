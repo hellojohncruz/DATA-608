{
 "cells": [
  {
   "cell_type": "markdown",
   "id": "62b3119b",
   "metadata": {},
   "source": [
    "## Data Practioner Title and Wages\n",
    "\n",
    "Data practioner is a generic job descriptor because we have so many different job role titles for individuals whose work activities overlap including Data Scientist, Data Engineer, Data Analyst, Business Analyst, Data Architect, etc.  \n",
    "\n",
    "### US Bureau of Labor Statistics (BLS) Job Occupational Employment and Wage Statistics (OEWS) Data\n",
    "\n",
    "The Occupational Employment and Wage Statistics (OEWS) program produces employment and wage estimates annually for approximately 830 occupations. These estimates are available for the nation as a whole, for individual states, and for metropolitan and nonmetropolitan areas; national occupational estimates for specific industries are also available.\n",
    "\n",
    "We will download state level occupational data from the BLS website. It will provide details such as state, occupational titles, hourly/annual average wages, hourly/annual median wages, and total employment counts.\n",
    "\n",
    "Our goal will be to determine how much does the average salary varies based on the role and state it resides in. \n",
    "\n",
    "[OEWS Data Source](https://www.bls.gov/oes/tables.htm)"
   ]
  },
  {
   "cell_type": "code",
   "execution_count": 1,
   "id": "ee898b9d",
   "metadata": {},
   "outputs": [],
   "source": [
    "import pandas as pd\n",
    "import numpy as np\n",
    "import janitor\n",
    "import matplotlib.pyplot as plt\n",
    "import seaborn as sns\n",
    "import plotly.express as px"
   ]
  },
  {
   "cell_type": "markdown",
   "id": "d9948bc6",
   "metadata": {},
   "source": [
    "## Import Raw Data"
   ]
  },
  {
   "cell_type": "code",
   "execution_count": 2,
   "id": "8f81743f",
   "metadata": {},
   "outputs": [
    {
     "data": {
      "text/html": [
       "<div>\n",
       "<style scoped>\n",
       "    .dataframe tbody tr th:only-of-type {\n",
       "        vertical-align: middle;\n",
       "    }\n",
       "\n",
       "    .dataframe tbody tr th {\n",
       "        vertical-align: top;\n",
       "    }\n",
       "\n",
       "    .dataframe thead th {\n",
       "        text-align: right;\n",
       "    }\n",
       "</style>\n",
       "<table border=\"1\" class=\"dataframe\">\n",
       "  <thead>\n",
       "    <tr style=\"text-align: right;\">\n",
       "      <th></th>\n",
       "      <th>area</th>\n",
       "      <th>area_title</th>\n",
       "      <th>area_type</th>\n",
       "      <th>prim_state</th>\n",
       "      <th>naics</th>\n",
       "      <th>naics_title</th>\n",
       "      <th>i_group</th>\n",
       "      <th>own_code</th>\n",
       "      <th>occ_code</th>\n",
       "      <th>occ_title</th>\n",
       "      <th>...</th>\n",
       "      <th>h_median</th>\n",
       "      <th>h_pct75</th>\n",
       "      <th>h_pct90</th>\n",
       "      <th>a_pct10</th>\n",
       "      <th>a_pct25</th>\n",
       "      <th>a_median</th>\n",
       "      <th>a_pct75</th>\n",
       "      <th>a_pct90</th>\n",
       "      <th>annual</th>\n",
       "      <th>hourly</th>\n",
       "    </tr>\n",
       "  </thead>\n",
       "  <tbody>\n",
       "    <tr>\n",
       "      <th>0</th>\n",
       "      <td>1</td>\n",
       "      <td>Alabama</td>\n",
       "      <td>2</td>\n",
       "      <td>AL</td>\n",
       "      <td>0</td>\n",
       "      <td>Cross-industry</td>\n",
       "      <td>cross-industry</td>\n",
       "      <td>1235</td>\n",
       "      <td>00-0000</td>\n",
       "      <td>All Occupations</td>\n",
       "      <td>...</td>\n",
       "      <td>21.07</td>\n",
       "      <td>30.82</td>\n",
       "      <td>47.51</td>\n",
       "      <td>23520</td>\n",
       "      <td>30660</td>\n",
       "      <td>43830</td>\n",
       "      <td>64110</td>\n",
       "      <td>98810</td>\n",
       "      <td>NaN</td>\n",
       "      <td>NaN</td>\n",
       "    </tr>\n",
       "    <tr>\n",
       "      <th>1</th>\n",
       "      <td>1</td>\n",
       "      <td>Alabama</td>\n",
       "      <td>2</td>\n",
       "      <td>AL</td>\n",
       "      <td>0</td>\n",
       "      <td>Cross-industry</td>\n",
       "      <td>cross-industry</td>\n",
       "      <td>1235</td>\n",
       "      <td>11-0000</td>\n",
       "      <td>Management Occupations</td>\n",
       "      <td>...</td>\n",
       "      <td>48.39</td>\n",
       "      <td>68.5</td>\n",
       "      <td>98.03</td>\n",
       "      <td>51100</td>\n",
       "      <td>72870</td>\n",
       "      <td>100640</td>\n",
       "      <td>142480</td>\n",
       "      <td>203900</td>\n",
       "      <td>NaN</td>\n",
       "      <td>NaN</td>\n",
       "    </tr>\n",
       "    <tr>\n",
       "      <th>2</th>\n",
       "      <td>1</td>\n",
       "      <td>Alabama</td>\n",
       "      <td>2</td>\n",
       "      <td>AL</td>\n",
       "      <td>0</td>\n",
       "      <td>Cross-industry</td>\n",
       "      <td>cross-industry</td>\n",
       "      <td>1235</td>\n",
       "      <td>11-1011</td>\n",
       "      <td>Chief Executives</td>\n",
       "      <td>...</td>\n",
       "      <td>79.04</td>\n",
       "      <td>106.69</td>\n",
       "      <td>#</td>\n",
       "      <td>104950</td>\n",
       "      <td>130950</td>\n",
       "      <td>164400</td>\n",
       "      <td>221910</td>\n",
       "      <td>#</td>\n",
       "      <td>NaN</td>\n",
       "      <td>NaN</td>\n",
       "    </tr>\n",
       "    <tr>\n",
       "      <th>3</th>\n",
       "      <td>1</td>\n",
       "      <td>Alabama</td>\n",
       "      <td>2</td>\n",
       "      <td>AL</td>\n",
       "      <td>0</td>\n",
       "      <td>Cross-industry</td>\n",
       "      <td>cross-industry</td>\n",
       "      <td>1235</td>\n",
       "      <td>11-1021</td>\n",
       "      <td>General and Operations Managers</td>\n",
       "      <td>...</td>\n",
       "      <td>51.12</td>\n",
       "      <td>78.26</td>\n",
       "      <td>#</td>\n",
       "      <td>50410</td>\n",
       "      <td>74720</td>\n",
       "      <td>106330</td>\n",
       "      <td>162780</td>\n",
       "      <td>#</td>\n",
       "      <td>NaN</td>\n",
       "      <td>NaN</td>\n",
       "    </tr>\n",
       "    <tr>\n",
       "      <th>4</th>\n",
       "      <td>1</td>\n",
       "      <td>Alabama</td>\n",
       "      <td>2</td>\n",
       "      <td>AL</td>\n",
       "      <td>0</td>\n",
       "      <td>Cross-industry</td>\n",
       "      <td>cross-industry</td>\n",
       "      <td>1235</td>\n",
       "      <td>11-1031</td>\n",
       "      <td>Legislators</td>\n",
       "      <td>...</td>\n",
       "      <td>*</td>\n",
       "      <td>*</td>\n",
       "      <td>*</td>\n",
       "      <td>18270</td>\n",
       "      <td>20950</td>\n",
       "      <td>26990</td>\n",
       "      <td>41760</td>\n",
       "      <td>63900</td>\n",
       "      <td>True</td>\n",
       "      <td>NaN</td>\n",
       "    </tr>\n",
       "  </tbody>\n",
       "</table>\n",
       "<p>5 rows × 32 columns</p>\n",
       "</div>"
      ],
      "text/plain": [
       "   area area_title  area_type prim_state  naics     naics_title  \\\n",
       "0     1    Alabama          2         AL      0  Cross-industry   \n",
       "1     1    Alabama          2         AL      0  Cross-industry   \n",
       "2     1    Alabama          2         AL      0  Cross-industry   \n",
       "3     1    Alabama          2         AL      0  Cross-industry   \n",
       "4     1    Alabama          2         AL      0  Cross-industry   \n",
       "\n",
       "          i_group  own_code occ_code                        occ_title  ...  \\\n",
       "0  cross-industry      1235  00-0000                  All Occupations  ...   \n",
       "1  cross-industry      1235  11-0000           Management Occupations  ...   \n",
       "2  cross-industry      1235  11-1011                 Chief Executives  ...   \n",
       "3  cross-industry      1235  11-1021  General and Operations Managers  ...   \n",
       "4  cross-industry      1235  11-1031                      Legislators  ...   \n",
       "\n",
       "  h_median h_pct75 h_pct90 a_pct10 a_pct25  a_median  a_pct75 a_pct90 annual  \\\n",
       "0    21.07   30.82   47.51   23520   30660     43830    64110   98810    NaN   \n",
       "1    48.39    68.5   98.03   51100   72870    100640   142480  203900    NaN   \n",
       "2    79.04  106.69       #  104950  130950    164400   221910       #    NaN   \n",
       "3    51.12   78.26       #   50410   74720    106330   162780       #    NaN   \n",
       "4        *       *       *   18270   20950     26990    41760   63900   True   \n",
       "\n",
       "  hourly  \n",
       "0    NaN  \n",
       "1    NaN  \n",
       "2    NaN  \n",
       "3    NaN  \n",
       "4    NaN  \n",
       "\n",
       "[5 rows x 32 columns]"
      ]
     },
     "execution_count": 2,
     "metadata": {},
     "output_type": "execute_result"
    }
   ],
   "source": [
    "raw_df = pd.read_excel('state_data.xlsx').clean_names()\n",
    "raw_df.head()"
   ]
  },
  {
   "cell_type": "markdown",
   "id": "650f7b4e",
   "metadata": {},
   "source": [
    "## Filter For Job Roles\n",
    "\n",
    "We will focus on occupational titles that contain the word data, as well as roles that frequently involve working with data, such as those including analyst in their title. We will avoid roles containing the term engineer, since these tend to align more closely with mechanical or electrical engineering rather than the analytical focus of our study.\n",
    "After filtering the results, most roles are data-centric, with the exception of News Analysts, Reporters, and Journalists. While it can be argued that journalism and reporting are grounded in facts and data, we will exclude these roles to better maintain focus on occupations that predominantly perform data-driven analytical work rather than communication or media-oriented tasks."
   ]
  },
  {
   "cell_type": "code",
   "execution_count": 3,
   "id": "0e10d0bd",
   "metadata": {},
   "outputs": [
    {
     "data": {
      "text/plain": [
       "array(['Management Analysts',\n",
       "       'Market Research Analysts and Marketing Specialists',\n",
       "       'Budget Analysts', 'Credit Analysts',\n",
       "       'Financial and Investment Analysts', 'Computer Systems Analysts',\n",
       "       'Information Security Analysts', 'Database Administrators',\n",
       "       'Database Architects',\n",
       "       'Software Quality Assurance Analysts and Testers',\n",
       "       'Operations Research Analysts', 'Data Scientists',\n",
       "       'News Analysts, Reporters, and Journalists', 'Data Entry Keyers'],\n",
       "      dtype=object)"
      ]
     },
     "execution_count": 3,
     "metadata": {},
     "output_type": "execute_result"
    }
   ],
   "source": [
    "data_roles = raw_df[raw_df['occ_title'].str.contains('data|analyst', case=False, na=False)]['occ_title'].unique()\n",
    "data_roles"
   ]
  },
  {
   "cell_type": "code",
   "execution_count": 4,
   "id": "44b7de44",
   "metadata": {},
   "outputs": [
    {
     "data": {
      "text/plain": [
       "array(['Management Analysts',\n",
       "       'Market Research Analysts and Marketing Specialists',\n",
       "       'Budget Analysts', 'Credit Analysts',\n",
       "       'Financial and Investment Analysts', 'Computer Systems Analysts',\n",
       "       'Information Security Analysts', 'Database Administrators',\n",
       "       'Database Architects',\n",
       "       'Software Quality Assurance Analysts and Testers',\n",
       "       'Operations Research Analysts', 'Data Scientists',\n",
       "       'Data Entry Keyers'], dtype=object)"
      ]
     },
     "execution_count": 4,
     "metadata": {},
     "output_type": "execute_result"
    }
   ],
   "source": [
    "data_roles = data_roles[data_roles != 'News Analysts, Reporters, and Journalists']\n",
    "data_roles"
   ]
  },
  {
   "cell_type": "code",
   "execution_count": 5,
   "id": "44fd43fb",
   "metadata": {},
   "outputs": [
    {
     "data": {
      "text/html": [
       "<div>\n",
       "<style scoped>\n",
       "    .dataframe tbody tr th:only-of-type {\n",
       "        vertical-align: middle;\n",
       "    }\n",
       "\n",
       "    .dataframe tbody tr th {\n",
       "        vertical-align: top;\n",
       "    }\n",
       "\n",
       "    .dataframe thead th {\n",
       "        text-align: right;\n",
       "    }\n",
       "</style>\n",
       "<table border=\"1\" class=\"dataframe\">\n",
       "  <thead>\n",
       "    <tr style=\"text-align: right;\">\n",
       "      <th></th>\n",
       "      <th>index</th>\n",
       "      <th>area_title</th>\n",
       "      <th>prim_state</th>\n",
       "      <th>occ_title</th>\n",
       "      <th>tot_emp</th>\n",
       "      <th>h_mean</th>\n",
       "      <th>a_mean</th>\n",
       "      <th>h_median</th>\n",
       "      <th>a_median</th>\n",
       "    </tr>\n",
       "  </thead>\n",
       "  <tbody>\n",
       "    <tr>\n",
       "      <th>0</th>\n",
       "      <td>46</td>\n",
       "      <td>Alabama</td>\n",
       "      <td>AL</td>\n",
       "      <td>Management Analysts</td>\n",
       "      <td>4980</td>\n",
       "      <td>53.5</td>\n",
       "      <td>111280</td>\n",
       "      <td>49.27</td>\n",
       "      <td>102480</td>\n",
       "    </tr>\n",
       "    <tr>\n",
       "      <th>1</th>\n",
       "      <td>51</td>\n",
       "      <td>Alabama</td>\n",
       "      <td>AL</td>\n",
       "      <td>Market Research Analysts and Marketing Special...</td>\n",
       "      <td>8780</td>\n",
       "      <td>32.13</td>\n",
       "      <td>66840</td>\n",
       "      <td>26.63</td>\n",
       "      <td>55390</td>\n",
       "    </tr>\n",
       "    <tr>\n",
       "      <th>2</th>\n",
       "      <td>55</td>\n",
       "      <td>Alabama</td>\n",
       "      <td>AL</td>\n",
       "      <td>Budget Analysts</td>\n",
       "      <td>940</td>\n",
       "      <td>47.93</td>\n",
       "      <td>99700</td>\n",
       "      <td>47.16</td>\n",
       "      <td>98080</td>\n",
       "    </tr>\n",
       "    <tr>\n",
       "      <th>3</th>\n",
       "      <td>56</td>\n",
       "      <td>Alabama</td>\n",
       "      <td>AL</td>\n",
       "      <td>Credit Analysts</td>\n",
       "      <td>310</td>\n",
       "      <td>49.66</td>\n",
       "      <td>103280</td>\n",
       "      <td>48.58</td>\n",
       "      <td>101050</td>\n",
       "    </tr>\n",
       "    <tr>\n",
       "      <th>4</th>\n",
       "      <td>57</td>\n",
       "      <td>Alabama</td>\n",
       "      <td>AL</td>\n",
       "      <td>Financial and Investment Analysts</td>\n",
       "      <td>2780</td>\n",
       "      <td>51.86</td>\n",
       "      <td>107880</td>\n",
       "      <td>45.51</td>\n",
       "      <td>94660</td>\n",
       "    </tr>\n",
       "  </tbody>\n",
       "</table>\n",
       "</div>"
      ],
      "text/plain": [
       "   index area_title prim_state  \\\n",
       "0     46    Alabama         AL   \n",
       "1     51    Alabama         AL   \n",
       "2     55    Alabama         AL   \n",
       "3     56    Alabama         AL   \n",
       "4     57    Alabama         AL   \n",
       "\n",
       "                                           occ_title tot_emp h_mean  a_mean  \\\n",
       "0                                Management Analysts    4980   53.5  111280   \n",
       "1  Market Research Analysts and Marketing Special...    8780  32.13   66840   \n",
       "2                                    Budget Analysts     940  47.93   99700   \n",
       "3                                    Credit Analysts     310  49.66  103280   \n",
       "4                  Financial and Investment Analysts    2780  51.86  107880   \n",
       "\n",
       "  h_median a_median  \n",
       "0    49.27   102480  \n",
       "1    26.63    55390  \n",
       "2    47.16    98080  \n",
       "3    48.58   101050  \n",
       "4    45.51    94660  "
      ]
     },
     "execution_count": 5,
     "metadata": {},
     "output_type": "execute_result"
    }
   ],
   "source": [
    "data_roles_df = raw_df[raw_df['occ_title'].isin(data_roles)]\n",
    "data_roles_df = data_roles_df[['area_title', 'prim_state', 'occ_title', 'tot_emp', 'h_mean', 'a_mean', 'h_median', 'a_median']].reset_index()\n",
    "data_roles_df.head()"
   ]
  },
  {
   "cell_type": "markdown",
   "id": "eb62a73b",
   "metadata": {},
   "source": [
    "## Clean Data\n",
    "\n",
    "We find that some data is missing for our variables, so we will replace locations of data containing non-numeric data such as **\\*\\*** with NaN values. "
   ]
  },
  {
   "cell_type": "code",
   "execution_count": 6,
   "id": "b4f3380f",
   "metadata": {},
   "outputs": [],
   "source": [
    "mask = data_roles_df.astype(str).apply(lambda col: col.str.fullmatch(r'\\*{2,}')).any(axis=1)"
   ]
  },
  {
   "cell_type": "code",
   "execution_count": 7,
   "id": "d1cf066c",
   "metadata": {},
   "outputs": [
    {
     "data": {
      "text/html": [
       "<div>\n",
       "<style scoped>\n",
       "    .dataframe tbody tr th:only-of-type {\n",
       "        vertical-align: middle;\n",
       "    }\n",
       "\n",
       "    .dataframe tbody tr th {\n",
       "        vertical-align: top;\n",
       "    }\n",
       "\n",
       "    .dataframe thead th {\n",
       "        text-align: right;\n",
       "    }\n",
       "</style>\n",
       "<table border=\"1\" class=\"dataframe\">\n",
       "  <thead>\n",
       "    <tr style=\"text-align: right;\">\n",
       "      <th></th>\n",
       "      <th>index</th>\n",
       "      <th>area_title</th>\n",
       "      <th>prim_state</th>\n",
       "      <th>occ_title</th>\n",
       "      <th>tot_emp</th>\n",
       "      <th>h_mean</th>\n",
       "      <th>a_mean</th>\n",
       "      <th>h_median</th>\n",
       "      <th>a_median</th>\n",
       "    </tr>\n",
       "  </thead>\n",
       "  <tbody>\n",
       "    <tr>\n",
       "      <th>22</th>\n",
       "      <td>809</td>\n",
       "      <td>Alaska</td>\n",
       "      <td>AK</td>\n",
       "      <td>Software Quality Assurance Analysts and Testers</td>\n",
       "      <td>**</td>\n",
       "      <td>49.17</td>\n",
       "      <td>102280</td>\n",
       "      <td>49.6</td>\n",
       "      <td>103160</td>\n",
       "    </tr>\n",
       "    <tr>\n",
       "      <th>98</th>\n",
       "      <td>5119</td>\n",
       "      <td>Delaware</td>\n",
       "      <td>DE</td>\n",
       "      <td>Database Architects</td>\n",
       "      <td>**</td>\n",
       "      <td>72.14</td>\n",
       "      <td>150060</td>\n",
       "      <td>70.4</td>\n",
       "      <td>146430</td>\n",
       "    </tr>\n",
       "    <tr>\n",
       "      <th>250</th>\n",
       "      <td>13548</td>\n",
       "      <td>Maine</td>\n",
       "      <td>ME</td>\n",
       "      <td>Financial and Investment Analysts</td>\n",
       "      <td>**</td>\n",
       "      <td>45.57</td>\n",
       "      <td>94780</td>\n",
       "      <td>44.16</td>\n",
       "      <td>91840</td>\n",
       "    </tr>\n",
       "    <tr>\n",
       "      <th>343</th>\n",
       "      <td>18777</td>\n",
       "      <td>Montana</td>\n",
       "      <td>MT</td>\n",
       "      <td>Information Security Analysts</td>\n",
       "      <td>**</td>\n",
       "      <td>47.86</td>\n",
       "      <td>99560</td>\n",
       "      <td>41.87</td>\n",
       "      <td>87100</td>\n",
       "    </tr>\n",
       "    <tr>\n",
       "      <th>542</th>\n",
       "      <td>29926</td>\n",
       "      <td>South Dakota</td>\n",
       "      <td>SD</td>\n",
       "      <td>Data Entry Keyers</td>\n",
       "      <td>**</td>\n",
       "      <td>17.98</td>\n",
       "      <td>37390</td>\n",
       "      <td>18.34</td>\n",
       "      <td>38140</td>\n",
       "    </tr>\n",
       "    <tr>\n",
       "      <th>653</th>\n",
       "      <td>36123</td>\n",
       "      <td>Wyoming</td>\n",
       "      <td>WY</td>\n",
       "      <td>Information Security Analysts</td>\n",
       "      <td>**</td>\n",
       "      <td>58.93</td>\n",
       "      <td>122570</td>\n",
       "      <td>58.31</td>\n",
       "      <td>121290</td>\n",
       "    </tr>\n",
       "    <tr>\n",
       "      <th>656</th>\n",
       "      <td>36134</td>\n",
       "      <td>Wyoming</td>\n",
       "      <td>WY</td>\n",
       "      <td>Data Scientists</td>\n",
       "      <td>**</td>\n",
       "      <td>41.1</td>\n",
       "      <td>85480</td>\n",
       "      <td>46.08</td>\n",
       "      <td>95840</td>\n",
       "    </tr>\n",
       "  </tbody>\n",
       "</table>\n",
       "</div>"
      ],
      "text/plain": [
       "     index    area_title prim_state  \\\n",
       "22     809        Alaska         AK   \n",
       "98    5119      Delaware         DE   \n",
       "250  13548         Maine         ME   \n",
       "343  18777       Montana         MT   \n",
       "542  29926  South Dakota         SD   \n",
       "653  36123       Wyoming         WY   \n",
       "656  36134       Wyoming         WY   \n",
       "\n",
       "                                           occ_title tot_emp h_mean  a_mean  \\\n",
       "22   Software Quality Assurance Analysts and Testers      **  49.17  102280   \n",
       "98                               Database Architects      **  72.14  150060   \n",
       "250                Financial and Investment Analysts      **  45.57   94780   \n",
       "343                    Information Security Analysts      **  47.86   99560   \n",
       "542                                Data Entry Keyers      **  17.98   37390   \n",
       "653                    Information Security Analysts      **  58.93  122570   \n",
       "656                                  Data Scientists      **   41.1   85480   \n",
       "\n",
       "    h_median a_median  \n",
       "22      49.6   103160  \n",
       "98      70.4   146430  \n",
       "250    44.16    91840  \n",
       "343    41.87    87100  \n",
       "542    18.34    38140  \n",
       "653    58.31   121290  \n",
       "656    46.08    95840  "
      ]
     },
     "execution_count": 7,
     "metadata": {},
     "output_type": "execute_result"
    }
   ],
   "source": [
    "data_roles_df[mask]"
   ]
  },
  {
   "cell_type": "code",
   "execution_count": 8,
   "id": "0b44a86d",
   "metadata": {},
   "outputs": [
    {
     "name": "stderr",
     "output_type": "stream",
     "text": [
      "/var/folders/c3/xzrx9_vx26s_2c8n5tm5sggm0000gn/T/ipykernel_89492/2869708294.py:1: FutureWarning: Downcasting behavior in `replace` is deprecated and will be removed in a future version. To retain the old behavior, explicitly call `result.infer_objects(copy=False)`. To opt-in to the future behavior, set `pd.set_option('future.no_silent_downcasting', True)`\n",
      "  data_roles_cleaned_df = data_roles_df.replace(r'^\\*+$', np.nan, regex=True)\n"
     ]
    }
   ],
   "source": [
    "data_roles_cleaned_df = data_roles_df.replace(r'^\\*+$', np.nan, regex=True)"
   ]
  },
  {
   "cell_type": "code",
   "execution_count": 9,
   "id": "9f942280",
   "metadata": {},
   "outputs": [
    {
     "data": {
      "text/html": [
       "<div>\n",
       "<style scoped>\n",
       "    .dataframe tbody tr th:only-of-type {\n",
       "        vertical-align: middle;\n",
       "    }\n",
       "\n",
       "    .dataframe tbody tr th {\n",
       "        vertical-align: top;\n",
       "    }\n",
       "\n",
       "    .dataframe thead th {\n",
       "        text-align: right;\n",
       "    }\n",
       "</style>\n",
       "<table border=\"1\" class=\"dataframe\">\n",
       "  <thead>\n",
       "    <tr style=\"text-align: right;\">\n",
       "      <th></th>\n",
       "      <th>index</th>\n",
       "      <th>area_title</th>\n",
       "      <th>prim_state</th>\n",
       "      <th>occ_title</th>\n",
       "      <th>tot_emp</th>\n",
       "      <th>h_mean</th>\n",
       "      <th>a_mean</th>\n",
       "      <th>h_median</th>\n",
       "      <th>a_median</th>\n",
       "    </tr>\n",
       "  </thead>\n",
       "  <tbody>\n",
       "  </tbody>\n",
       "</table>\n",
       "</div>"
      ],
      "text/plain": [
       "Empty DataFrame\n",
       "Columns: [index, area_title, prim_state, occ_title, tot_emp, h_mean, a_mean, h_median, a_median]\n",
       "Index: []"
      ]
     },
     "execution_count": 9,
     "metadata": {},
     "output_type": "execute_result"
    }
   ],
   "source": [
    "mask = data_roles_cleaned_df.astype(str).apply(lambda col: col.str.fullmatch(r'\\*{2,}')).any(axis=1)\n",
    "data_roles_cleaned_df[mask]"
   ]
  },
  {
   "cell_type": "code",
   "execution_count": 10,
   "id": "96140812",
   "metadata": {},
   "outputs": [
    {
     "data": {
      "text/plain": [
       "index           int64\n",
       "area_title     object\n",
       "prim_state     object\n",
       "occ_title      object\n",
       "tot_emp       float64\n",
       "h_mean        float64\n",
       "a_mean        float64\n",
       "h_median      float64\n",
       "a_median      float64\n",
       "dtype: object"
      ]
     },
     "execution_count": 10,
     "metadata": {},
     "output_type": "execute_result"
    }
   ],
   "source": [
    "data_roles_cleaned_df.dtypes"
   ]
  },
  {
   "cell_type": "markdown",
   "id": "d4d8d798",
   "metadata": {},
   "source": [
    "## Descriptive Stats"
   ]
  },
  {
   "cell_type": "code",
   "execution_count": 11,
   "id": "6677aa6c",
   "metadata": {},
   "outputs": [
    {
     "data": {
      "text/html": [
       "<div>\n",
       "<style scoped>\n",
       "    .dataframe tbody tr th:only-of-type {\n",
       "        vertical-align: middle;\n",
       "    }\n",
       "\n",
       "    .dataframe tbody tr th {\n",
       "        vertical-align: top;\n",
       "    }\n",
       "\n",
       "    .dataframe thead th {\n",
       "        text-align: right;\n",
       "    }\n",
       "</style>\n",
       "<table border=\"1\" class=\"dataframe\">\n",
       "  <thead>\n",
       "    <tr style=\"text-align: right;\">\n",
       "      <th></th>\n",
       "      <th>index</th>\n",
       "      <th>area_title</th>\n",
       "      <th>prim_state</th>\n",
       "      <th>occ_title</th>\n",
       "      <th>tot_emp</th>\n",
       "      <th>h_mean</th>\n",
       "      <th>a_mean</th>\n",
       "      <th>h_median</th>\n",
       "      <th>a_median</th>\n",
       "    </tr>\n",
       "  </thead>\n",
       "  <tbody>\n",
       "    <tr>\n",
       "      <th>0</th>\n",
       "      <td>46</td>\n",
       "      <td>Alabama</td>\n",
       "      <td>AL</td>\n",
       "      <td>Management Analysts</td>\n",
       "      <td>4980.0</td>\n",
       "      <td>53.50</td>\n",
       "      <td>111280.0</td>\n",
       "      <td>49.27</td>\n",
       "      <td>102480.0</td>\n",
       "    </tr>\n",
       "    <tr>\n",
       "      <th>1</th>\n",
       "      <td>51</td>\n",
       "      <td>Alabama</td>\n",
       "      <td>AL</td>\n",
       "      <td>Market Research Analysts and Marketing Special...</td>\n",
       "      <td>8780.0</td>\n",
       "      <td>32.13</td>\n",
       "      <td>66840.0</td>\n",
       "      <td>26.63</td>\n",
       "      <td>55390.0</td>\n",
       "    </tr>\n",
       "    <tr>\n",
       "      <th>2</th>\n",
       "      <td>55</td>\n",
       "      <td>Alabama</td>\n",
       "      <td>AL</td>\n",
       "      <td>Budget Analysts</td>\n",
       "      <td>940.0</td>\n",
       "      <td>47.93</td>\n",
       "      <td>99700.0</td>\n",
       "      <td>47.16</td>\n",
       "      <td>98080.0</td>\n",
       "    </tr>\n",
       "    <tr>\n",
       "      <th>3</th>\n",
       "      <td>56</td>\n",
       "      <td>Alabama</td>\n",
       "      <td>AL</td>\n",
       "      <td>Credit Analysts</td>\n",
       "      <td>310.0</td>\n",
       "      <td>49.66</td>\n",
       "      <td>103280.0</td>\n",
       "      <td>48.58</td>\n",
       "      <td>101050.0</td>\n",
       "    </tr>\n",
       "    <tr>\n",
       "      <th>4</th>\n",
       "      <td>57</td>\n",
       "      <td>Alabama</td>\n",
       "      <td>AL</td>\n",
       "      <td>Financial and Investment Analysts</td>\n",
       "      <td>2780.0</td>\n",
       "      <td>51.86</td>\n",
       "      <td>107880.0</td>\n",
       "      <td>45.51</td>\n",
       "      <td>94660.0</td>\n",
       "    </tr>\n",
       "    <tr>\n",
       "      <th>...</th>\n",
       "      <td>...</td>\n",
       "      <td>...</td>\n",
       "      <td>...</td>\n",
       "      <td>...</td>\n",
       "      <td>...</td>\n",
       "      <td>...</td>\n",
       "      <td>...</td>\n",
       "      <td>...</td>\n",
       "      <td>...</td>\n",
       "    </tr>\n",
       "    <tr>\n",
       "      <th>675</th>\n",
       "      <td>37444</td>\n",
       "      <td>Virgin Islands</td>\n",
       "      <td>VI</td>\n",
       "      <td>Market Research Analysts and Marketing Special...</td>\n",
       "      <td>120.0</td>\n",
       "      <td>23.94</td>\n",
       "      <td>49790.0</td>\n",
       "      <td>24.10</td>\n",
       "      <td>50130.0</td>\n",
       "    </tr>\n",
       "    <tr>\n",
       "      <th>676</th>\n",
       "      <td>37447</td>\n",
       "      <td>Virgin Islands</td>\n",
       "      <td>VI</td>\n",
       "      <td>Budget Analysts</td>\n",
       "      <td>70.0</td>\n",
       "      <td>31.11</td>\n",
       "      <td>64720.0</td>\n",
       "      <td>29.83</td>\n",
       "      <td>62050.0</td>\n",
       "    </tr>\n",
       "    <tr>\n",
       "      <th>677</th>\n",
       "      <td>37448</td>\n",
       "      <td>Virgin Islands</td>\n",
       "      <td>VI</td>\n",
       "      <td>Financial and Investment Analysts</td>\n",
       "      <td>40.0</td>\n",
       "      <td>40.22</td>\n",
       "      <td>83660.0</td>\n",
       "      <td>33.65</td>\n",
       "      <td>69990.0</td>\n",
       "    </tr>\n",
       "    <tr>\n",
       "      <th>678</th>\n",
       "      <td>37450</td>\n",
       "      <td>Virgin Islands</td>\n",
       "      <td>VI</td>\n",
       "      <td>Computer Systems Analysts</td>\n",
       "      <td>50.0</td>\n",
       "      <td>31.50</td>\n",
       "      <td>65530.0</td>\n",
       "      <td>27.24</td>\n",
       "      <td>56650.0</td>\n",
       "    </tr>\n",
       "    <tr>\n",
       "      <th>679</th>\n",
       "      <td>37562</td>\n",
       "      <td>Virgin Islands</td>\n",
       "      <td>VI</td>\n",
       "      <td>Data Entry Keyers</td>\n",
       "      <td>60.0</td>\n",
       "      <td>16.71</td>\n",
       "      <td>34750.0</td>\n",
       "      <td>16.86</td>\n",
       "      <td>35060.0</td>\n",
       "    </tr>\n",
       "  </tbody>\n",
       "</table>\n",
       "<p>680 rows × 9 columns</p>\n",
       "</div>"
      ],
      "text/plain": [
       "     index      area_title prim_state  \\\n",
       "0       46         Alabama         AL   \n",
       "1       51         Alabama         AL   \n",
       "2       55         Alabama         AL   \n",
       "3       56         Alabama         AL   \n",
       "4       57         Alabama         AL   \n",
       "..     ...             ...        ...   \n",
       "675  37444  Virgin Islands         VI   \n",
       "676  37447  Virgin Islands         VI   \n",
       "677  37448  Virgin Islands         VI   \n",
       "678  37450  Virgin Islands         VI   \n",
       "679  37562  Virgin Islands         VI   \n",
       "\n",
       "                                             occ_title  tot_emp  h_mean  \\\n",
       "0                                  Management Analysts   4980.0   53.50   \n",
       "1    Market Research Analysts and Marketing Special...   8780.0   32.13   \n",
       "2                                      Budget Analysts    940.0   47.93   \n",
       "3                                      Credit Analysts    310.0   49.66   \n",
       "4                    Financial and Investment Analysts   2780.0   51.86   \n",
       "..                                                 ...      ...     ...   \n",
       "675  Market Research Analysts and Marketing Special...    120.0   23.94   \n",
       "676                                    Budget Analysts     70.0   31.11   \n",
       "677                  Financial and Investment Analysts     40.0   40.22   \n",
       "678                          Computer Systems Analysts     50.0   31.50   \n",
       "679                                  Data Entry Keyers     60.0   16.71   \n",
       "\n",
       "       a_mean  h_median  a_median  \n",
       "0    111280.0     49.27  102480.0  \n",
       "1     66840.0     26.63   55390.0  \n",
       "2     99700.0     47.16   98080.0  \n",
       "3    103280.0     48.58  101050.0  \n",
       "4    107880.0     45.51   94660.0  \n",
       "..        ...       ...       ...  \n",
       "675   49790.0     24.10   50130.0  \n",
       "676   64720.0     29.83   62050.0  \n",
       "677   83660.0     33.65   69990.0  \n",
       "678   65530.0     27.24   56650.0  \n",
       "679   34750.0     16.86   35060.0  \n",
       "\n",
       "[680 rows x 9 columns]"
      ]
     },
     "execution_count": 11,
     "metadata": {},
     "output_type": "execute_result"
    }
   ],
   "source": [
    "data_roles_cleaned_df"
   ]
  },
  {
   "cell_type": "code",
   "execution_count": 12,
   "id": "1f9005c1",
   "metadata": {},
   "outputs": [
    {
     "data": {
      "text/html": [
       "<div>\n",
       "<style scoped>\n",
       "    .dataframe tbody tr th:only-of-type {\n",
       "        vertical-align: middle;\n",
       "    }\n",
       "\n",
       "    .dataframe tbody tr th {\n",
       "        vertical-align: top;\n",
       "    }\n",
       "\n",
       "    .dataframe thead th {\n",
       "        text-align: right;\n",
       "    }\n",
       "</style>\n",
       "<table border=\"1\" class=\"dataframe\">\n",
       "  <thead>\n",
       "    <tr style=\"text-align: right;\">\n",
       "      <th></th>\n",
       "      <th>occ_title</th>\n",
       "      <th>tot_emp</th>\n",
       "    </tr>\n",
       "  </thead>\n",
       "  <tbody>\n",
       "    <tr>\n",
       "      <th>0</th>\n",
       "      <td>Budget Analysts</td>\n",
       "      <td>47600.0</td>\n",
       "    </tr>\n",
       "    <tr>\n",
       "      <th>1</th>\n",
       "      <td>Computer Systems Analysts</td>\n",
       "      <td>499030.0</td>\n",
       "    </tr>\n",
       "    <tr>\n",
       "      <th>2</th>\n",
       "      <td>Credit Analysts</td>\n",
       "      <td>68100.0</td>\n",
       "    </tr>\n",
       "    <tr>\n",
       "      <th>3</th>\n",
       "      <td>Data Entry Keyers</td>\n",
       "      <td>137980.0</td>\n",
       "    </tr>\n",
       "    <tr>\n",
       "      <th>4</th>\n",
       "      <td>Data Scientists</td>\n",
       "      <td>234350.0</td>\n",
       "    </tr>\n",
       "    <tr>\n",
       "      <th>5</th>\n",
       "      <td>Database Administrators</td>\n",
       "      <td>73330.0</td>\n",
       "    </tr>\n",
       "    <tr>\n",
       "      <th>6</th>\n",
       "      <td>Database Architects</td>\n",
       "      <td>64430.0</td>\n",
       "    </tr>\n",
       "    <tr>\n",
       "      <th>7</th>\n",
       "      <td>Financial and Investment Analysts</td>\n",
       "      <td>342060.0</td>\n",
       "    </tr>\n",
       "    <tr>\n",
       "      <th>8</th>\n",
       "      <td>Information Security Analysts</td>\n",
       "      <td>179590.0</td>\n",
       "    </tr>\n",
       "    <tr>\n",
       "      <th>9</th>\n",
       "      <td>Management Analysts</td>\n",
       "      <td>897610.0</td>\n",
       "    </tr>\n",
       "    <tr>\n",
       "      <th>10</th>\n",
       "      <td>Market Research Analysts and Marketing Special...</td>\n",
       "      <td>866450.0</td>\n",
       "    </tr>\n",
       "    <tr>\n",
       "      <th>11</th>\n",
       "      <td>Operations Research Analysts</td>\n",
       "      <td>107770.0</td>\n",
       "    </tr>\n",
       "    <tr>\n",
       "      <th>12</th>\n",
       "      <td>Software Quality Assurance Analysts and Testers</td>\n",
       "      <td>197600.0</td>\n",
       "    </tr>\n",
       "  </tbody>\n",
       "</table>\n",
       "</div>"
      ],
      "text/plain": [
       "                                            occ_title   tot_emp\n",
       "0                                     Budget Analysts   47600.0\n",
       "1                           Computer Systems Analysts  499030.0\n",
       "2                                     Credit Analysts   68100.0\n",
       "3                                   Data Entry Keyers  137980.0\n",
       "4                                     Data Scientists  234350.0\n",
       "5                             Database Administrators   73330.0\n",
       "6                                 Database Architects   64430.0\n",
       "7                   Financial and Investment Analysts  342060.0\n",
       "8                       Information Security Analysts  179590.0\n",
       "9                                 Management Analysts  897610.0\n",
       "10  Market Research Analysts and Marketing Special...  866450.0\n",
       "11                       Operations Research Analysts  107770.0\n",
       "12    Software Quality Assurance Analysts and Testers  197600.0"
      ]
     },
     "execution_count": 12,
     "metadata": {},
     "output_type": "execute_result"
    }
   ],
   "source": [
    "total_emp_df = data_roles_cleaned_df.groupby('occ_title', as_index=False).agg({'tot_emp':'sum'}) \n",
    "total_emp_df"
   ]
  },
  {
   "cell_type": "markdown",
   "id": "ba164912",
   "metadata": {},
   "source": [
    "### Total Employment By Occupational Role\n",
    "\n",
    "When examining total employment counts by occupational role, we can see that the top three roles (Management Analysts, Market Research Analysts and Marketing Specialists, and Computer Systems Analysts) account for the majority of employment across the United States."
   ]
  },
  {
   "cell_type": "code",
   "execution_count": 13,
   "id": "e95b2b36",
   "metadata": {},
   "outputs": [
    {
     "data": {
      "image/png": "[encoded data removed]",
      "text/plain": [
       "<Figure size 1000x600 with 1 Axes>"
      ]
     },
     "metadata": {},
     "output_type": "display_data"
    }
   ],
   "source": [
    "import matplotlib.ticker as mticker\n",
    "\n",
    "# Sort by total employment for better readability\n",
    "total_emp_df = total_emp_df.sort_values('tot_emp', ascending=False)\n",
    "\n",
    "# Create figure\n",
    "plt.figure(figsize=(10, 6))\n",
    "sns.barplot(\n",
    "    data=total_emp_df,\n",
    "    y='occ_title',\n",
    "    x='tot_emp',\n",
    "    hue='occ_title',\n",
    "    palette='Blues_r'\n",
    ")\n",
    "\n",
    "# Format x-axis labels as K (thousands)\n",
    "ax = plt.gca()\n",
    "ax.xaxis.set_major_formatter(mticker.FuncFormatter(lambda x, _: f'{int(x/1000)}K'))\n",
    "\n",
    "# Titles and labels\n",
    "plt.title('Total Employment by Role')\n",
    "plt.xlabel('Total Employment')\n",
    "plt.ylabel('')\n",
    "plt.tight_layout()\n",
    "plt.show()"
   ]
  },
  {
   "cell_type": "code",
   "execution_count": 14,
   "id": "c16b73e3",
   "metadata": {},
   "outputs": [
    {
     "data": {
      "text/html": [
       "<div>\n",
       "<style scoped>\n",
       "    .dataframe tbody tr th:only-of-type {\n",
       "        vertical-align: middle;\n",
       "    }\n",
       "\n",
       "    .dataframe tbody tr th {\n",
       "        vertical-align: top;\n",
       "    }\n",
       "\n",
       "    .dataframe thead th {\n",
       "        text-align: right;\n",
       "    }\n",
       "</style>\n",
       "<table border=\"1\" class=\"dataframe\">\n",
       "  <thead>\n",
       "    <tr style=\"text-align: right;\">\n",
       "      <th></th>\n",
       "      <th>area_title</th>\n",
       "      <th>tot_emp</th>\n",
       "    </tr>\n",
       "  </thead>\n",
       "  <tbody>\n",
       "    <tr>\n",
       "      <th>0</th>\n",
       "      <td>Alabama</td>\n",
       "      <td>35350.0</td>\n",
       "    </tr>\n",
       "    <tr>\n",
       "      <th>1</th>\n",
       "      <td>Alaska</td>\n",
       "      <td>2680.0</td>\n",
       "    </tr>\n",
       "    <tr>\n",
       "      <th>2</th>\n",
       "      <td>Arizona</td>\n",
       "      <td>74360.0</td>\n",
       "    </tr>\n",
       "    <tr>\n",
       "      <th>3</th>\n",
       "      <td>Arkansas</td>\n",
       "      <td>19890.0</td>\n",
       "    </tr>\n",
       "    <tr>\n",
       "      <th>4</th>\n",
       "      <td>California</td>\n",
       "      <td>474250.0</td>\n",
       "    </tr>\n",
       "  </tbody>\n",
       "</table>\n",
       "</div>"
      ],
      "text/plain": [
       "   area_title   tot_emp\n",
       "0     Alabama   35350.0\n",
       "1      Alaska    2680.0\n",
       "2     Arizona   74360.0\n",
       "3    Arkansas   19890.0\n",
       "4  California  474250.0"
      ]
     },
     "execution_count": 14,
     "metadata": {},
     "output_type": "execute_result"
    }
   ],
   "source": [
    "total_state_df = data_roles_cleaned_df.groupby('area_title', as_index=False).agg({'tot_emp':'sum'})    # 'area_title', 'prim_state',\n",
    "total_state_df.head()"
   ]
  },
  {
   "cell_type": "markdown",
   "id": "f3c03584",
   "metadata": {},
   "source": [
    "### Total Employment By State\n",
    "\n",
    "When we examine the total employment counts by state, we can see that a clear majority of data roles are concentrated in **California**, while **Texas** and **New York** rank a distant second and third. This aligns with expectations, as Silicon Valley, a major hub of the technology industry and a driver of data-related roles, is located within California."
   ]
  },
  {
   "cell_type": "code",
   "execution_count": 15,
   "id": "f57f335c",
   "metadata": {},
   "outputs": [
    {
     "data": {
      "image/png": "[encoded data removed]",
      "text/plain": [
       "<Figure size 1200x800 with 1 Axes>"
      ]
     },
     "metadata": {},
     "output_type": "display_data"
    }
   ],
   "source": [
    "# Sort by total employment for better readability\n",
    "total_state_df = total_state_df.sort_values('tot_emp', ascending=False)\n",
    "\n",
    "# Create figure\n",
    "plt.figure(figsize=(12, 8))\n",
    "sns.barplot(\n",
    "    data=total_state_df,\n",
    "    y='area_title',\n",
    "    x='tot_emp',\n",
    "    hue='area_title',\n",
    "    palette='Blues_r'\n",
    ")\n",
    "\n",
    "# Format x-axis labels as K (thousands)\n",
    "ax = plt.gca()\n",
    "ax.xaxis.set_major_formatter(mticker.FuncFormatter(lambda x, _: f'{int(x/1000)}K'))\n",
    "\n",
    "# Titles and labels\n",
    "plt.title('Total Employment by State')\n",
    "plt.xlabel('Total Employment')\n",
    "plt.ylabel('')\n",
    "plt.tight_layout()\n",
    "plt.show()"
   ]
  },
  {
   "cell_type": "markdown",
   "id": "e5b936c7",
   "metadata": {},
   "source": [
    "## Average Annual Wage by Role and State\n",
    "\n",
    "We will use a heatmap to visualize the landscape of average annual wages across roles and states. We can immediately see that **Data Entry Keyers** have the lowest average wage across the entire United States. Looking further, **Database Architects** appear to have higher average salaries across multiple states, as their category frequently shows up among the top. However, since averages can be influenced by a few highly paid individuals, we should be cautious and verify this trend by examining the median values."
   ]
  },
  {
   "cell_type": "code",
   "execution_count": 16,
   "id": "c0b16ff8",
   "metadata": {},
   "outputs": [
    {
     "data": {
      "application/vnd.plotly.v1+json": {
       "config": {
        "plotlyServerURL": "https://plot.ly"
       },
       "data": [
        {
         "coloraxis": "coloraxis",
         "hovertemplate": "prim_state: %{x}<br>occ_title: %{y}<br>color: %{z}<extra></extra>",
         "name": "0",
         "type": "heatmap",
         "x": [
          "AK",
          "AL",
          "AR",
          "AZ",
          "CA",
          "CO",
          "CT",
          "DE",
          "FL",
          "GA",
          "HI",
          "IA",
          "ID",
          "IL",
          "IN",
          "KS",
          "KY",
          "LA",
          "MA",
          "MD",
          "ME",
          "MI",
          "MN",
          "MO",
          "MS",
          "MT",
          "NC",
          "ND",
          "NE",
          "NH",
          "NJ",
          "NM",
          "NV",
          "NY",
          "OH",
          "OK",
          "OR",
          "PA",
          "RI",
          "SC",
          "SD",
          "TN",
          "TX",
          "UT",
          "VA",
          "VT",
          "WA",
          "WI",
          "WV",
          "WY"
         ],
         "xaxis": "x",
         "y": [
          "Budget Analysts",
          "Computer Systems Analysts",
          "Credit Analysts",
          "Data Entry Keyers",
          "Data Scientists",
          "Database Administrators",
          "Database Architects",
          "Financial and Investment Analysts",
          "Information Security Analysts",
          "Management Analysts",
          "Market Research Analysts and Marketing Specialists",
          "Operations Research Analysts",
          "Software Quality Assurance Analysts and Testers"
         ],
         "yaxis": "y",
         "z": {
          "bdata": "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",
          "dtype": "f8",
          "shape": "13, 50"
         }
        }
       ],
       "layout": {
        "coloraxis": {
         "colorbar": {
          "title": {
           "text": "Avg. Wage ($)"
          }
         },
         "colorscale": [
          [
           0,
           "rgb(165,0,38)"
          ],
          [
           0.1,
           "rgb(215,48,39)"
          ],
          [
           0.2,
           "rgb(244,109,67)"
          ],
          [
           0.3,
           "rgb(253,174,97)"
          ],
          [
           0.4,
           "rgb(254,224,139)"
          ],
          [
           0.5,
           "rgb(255,255,191)"
          ],
          [
           0.6,
           "rgb(217,239,139)"
          ],
          [
           0.7,
           "rgb(166,217,106)"
          ],
          [
           0.8,
           "rgb(102,189,99)"
          ],
          [
           0.9,
           "rgb(26,152,80)"
          ],
          [
           1,
           "rgb(0,104,55)"
          ]
         ]
        },
        "margin": {
         "t": 60
        },
        "template": {
         "data": {
          "bar": [
           {
            "error_x": {
             "color": "#2a3f5f"
            },
            "error_y": {
             "color": "#2a3f5f"
            },
            "marker": {
             "line": {
              "color": "#E5ECF6",
              "width": 0.5
             },
             "pattern": {
              "fillmode": "overlay",
              "size": 10,
              "solidity": 0.2
             }
            },
            "type": "bar"
           }
          ],
          "barpolar": [
           {
            "marker": {
             "line": {
              "color": "#E5ECF6",
              "width": 0.5
             },
             "pattern": {
              "fillmode": "overlay",
              "size": 10,
              "solidity": 0.2
             }
            },
            "type": "barpolar"
           }
          ],
          "carpet": [
           {
            "aaxis": {
             "endlinecolor": "#2a3f5f",
             "gridcolor": "white",
             "linecolor": "white",
             "minorgridcolor": "white",
             "startlinecolor": "#2a3f5f"
            },
            "baxis": {
             "endlinecolor": "#2a3f5f",
             "gridcolor": "white",
             "linecolor": "white",
             "minorgridcolor": "white",
             "startlinecolor": "#2a3f5f"
            },
            "type": "carpet"
           }
          ],
          "choropleth": [
           {
            "colorbar": {
             "outlinewidth": 0,
             "ticks": ""
            },
            "type": "choropleth"
           }
          ],
          "contour": [
           {
            "colorbar": {
             "outlinewidth": 0,
             "ticks": ""
            },
            "colorscale": [
             [
              0,
              "#0d0887"
             ],
             [
              0.1111111111111111,
              "#46039f"
             ],
             [
              0.2222222222222222,
              "#7201a8"
             ],
             [
              0.3333333333333333,
              "#9c179e"
             ],
             [
              0.4444444444444444,
              "#bd3786"
             ],
             [
              0.5555555555555556,
              "#d8576b"
             ],
             [
              0.6666666666666666,
              "#ed7953"
             ],
             [
              0.7777777777777778,
              "#fb9f3a"
             ],
             [
              0.8888888888888888,
              "#fdca26"
             ],
             [
              1,
              "#f0f921"
             ]
            ],
            "type": "contour"
           }
          ],
          "contourcarpet": [
           {
            "colorbar": {
             "outlinewidth": 0,
             "ticks": ""
            },
            "type": "contourcarpet"
           }
          ],
          "heatmap": [
           {
            "colorbar": {
             "outlinewidth": 0,
             "ticks": ""
            },
            "colorscale": [
             [
              0,
              "#0d0887"
             ],
             [
              0.1111111111111111,
              "#46039f"
             ],
             [
              0.2222222222222222,
              "#7201a8"
             ],
             [
              0.3333333333333333,
              "#9c179e"
             ],
             [
              0.4444444444444444,
              "#bd3786"
             ],
             [
              0.5555555555555556,
              "#d8576b"
             ],
             [
              0.6666666666666666,
              "#ed7953"
             ],
             [
              0.7777777777777778,
              "#fb9f3a"
             ],
             [
              0.8888888888888888,
              "#fdca26"
             ],
             [
              1,
              "#f0f921"
             ]
            ],
            "type": "heatmap"
           }
          ],
          "histogram": [
           {
            "marker": {
             "pattern": {
              "fillmode": "overlay",
              "size": 10,
              "solidity": 0.2
             }
            },
            "type": "histogram"
           }
          ],
          "histogram2d": [
           {
            "colorbar": {
             "outlinewidth": 0,
             "ticks": ""
            },
            "colorscale": [
             [
              0,
              "#0d0887"
             ],
             [
              0.1111111111111111,
              "#46039f"
             ],
             [
              0.2222222222222222,
              "#7201a8"
             ],
             [
              0.3333333333333333,
              "#9c179e"
             ],
             [
              0.4444444444444444,
              "#bd3786"
             ],
             [
              0.5555555555555556,
              "#d8576b"
             ],
             [
              0.6666666666666666,
              "#ed7953"
             ],
             [
              0.7777777777777778,
              "#fb9f3a"
             ],
             [
              0.8888888888888888,
              "#fdca26"
             ],
             [
              1,
              "#f0f921"
             ]
            ],
            "type": "histogram2d"
           }
          ],
          "histogram2dcontour": [
           {
            "colorbar": {
             "outlinewidth": 0,
             "ticks": ""
            },
            "colorscale": [
             [
              0,
              "#0d0887"
             ],
             [
              0.1111111111111111,
              "#46039f"
             ],
             [
              0.2222222222222222,
              "#7201a8"
             ],
             [
              0.3333333333333333,
              "#9c179e"
             ],
             [
              0.4444444444444444,
              "#bd3786"
             ],
             [
              0.5555555555555556,
              "#d8576b"
             ],
             [
              0.6666666666666666,
              "#ed7953"
             ],
             [
              0.7777777777777778,
              "#fb9f3a"
             ],
             [
              0.8888888888888888,
              "#fdca26"
             ],
             [
              1,
              "#f0f921"
             ]
            ],
            "type": "histogram2dcontour"
           }
          ],
          "mesh3d": [
           {
            "colorbar": {
             "outlinewidth": 0,
             "ticks": ""
            },
            "type": "mesh3d"
           }
          ],
          "parcoords": [
           {
            "line": {
             "colorbar": {
              "outlinewidth": 0,
              "ticks": ""
             }
            },
            "type": "parcoords"
           }
          ],
          "pie": [
           {
            "automargin": true,
            "type": "pie"
           }
          ],
          "scatter": [
           {
            "fillpattern": {
             "fillmode": "overlay",
             "size": 10,
             "solidity": 0.2
            },
            "type": "scatter"
           }
          ],
          "scatter3d": [
           {
            "line": {
             "colorbar": {
              "outlinewidth": 0,
              "ticks": ""
             }
            },
            "marker": {
             "colorbar": {
              "outlinewidth": 0,
              "ticks": ""
             }
            },
            "type": "scatter3d"
           }
          ],
          "scattercarpet": [
           {
            "marker": {
             "colorbar": {
              "outlinewidth": 0,
              "ticks": ""
             }
            },
            "type": "scattercarpet"
           }
          ],
          "scattergeo": [
           {
            "marker": {
             "colorbar": {
              "outlinewidth": 0,
              "ticks": ""
             }
            },
            "type": "scattergeo"
           }
          ],
          "scattergl": [
           {
            "marker": {
             "colorbar": {
              "outlinewidth": 0,
              "ticks": ""
             }
            },
            "type": "scattergl"
           }
          ],
          "scattermap": [
           {
            "marker": {
             "colorbar": {
              "outlinewidth": 0,
              "ticks": ""
             }
            },
            "type": "scattermap"
           }
          ],
          "scattermapbox": [
           {
            "marker": {
             "colorbar": {
              "outlinewidth": 0,
              "ticks": ""
             }
            },
            "type": "scattermapbox"
           }
          ],
          "scatterpolar": [
           {
            "marker": {
             "colorbar": {
              "outlinewidth": 0,
              "ticks": ""
             }
            },
            "type": "scatterpolar"
           }
          ],
          "scatterpolargl": [
           {
            "marker": {
             "colorbar": {
              "outlinewidth": 0,
              "ticks": ""
             }
            },
            "type": "scatterpolargl"
           }
          ],
          "scatterternary": [
           {
            "marker": {
             "colorbar": {
              "outlinewidth": 0,
              "ticks": ""
             }
            },
            "type": "scatterternary"
           }
          ],
          "surface": [
           {
            "colorbar": {
             "outlinewidth": 0,
             "ticks": ""
            },
            "colorscale": [
             [
              0,
              "#0d0887"
             ],
             [
              0.1111111111111111,
              "#46039f"
             ],
             [
              0.2222222222222222,
              "#7201a8"
             ],
             [
              0.3333333333333333,
              "#9c179e"
             ],
             [
              0.4444444444444444,
              "#bd3786"
             ],
             [
              0.5555555555555556,
              "#d8576b"
             ],
             [
              0.6666666666666666,
              "#ed7953"
             ],
             [
              0.7777777777777778,
              "#fb9f3a"
             ],
             [
              0.8888888888888888,
              "#fdca26"
             ],
             [
              1,
              "#f0f921"
             ]
            ],
            "type": "surface"
           }
          ],
          "table": [
           {
            "cells": {
             "fill": {
              "color": "#EBF0F8"
             },
             "line": {
              "color": "white"
             }
            },
            "header": {
             "fill": {
              "color": "#C8D4E3"
             },
             "line": {
              "color": "white"
             }
            },
            "type": "table"
           }
          ]
         },
         "layout": {
          "annotationdefaults": {
           "arrowcolor": "#2a3f5f",
           "arrowhead": 0,
           "arrowwidth": 1
          },
          "autotypenumbers": "strict",
          "coloraxis": {
           "colorbar": {
            "outlinewidth": 0,
            "ticks": ""
           }
          },
          "colorscale": {
           "diverging": [
            [
             0,
             "#8e0152"
            ],
            [
             0.1,
             "#c51b7d"
            ],
            [
             0.2,
             "#de77ae"
            ],
            [
             0.3,
             "#f1b6da"
            ],
            [
             0.4,
             "#fde0ef"
            ],
            [
             0.5,
             "#f7f7f7"
            ],
            [
             0.6,
             "#e6f5d0"
            ],
            [
             0.7,
             "#b8e186"
            ],
            [
             0.8,
             "#7fbc41"
            ],
            [
             0.9,
             "#4d9221"
            ],
            [
             1,
             "#276419"
            ]
           ],
           "sequential": [
            [
             0,
             "#0d0887"
            ],
            [
             0.1111111111111111,
             "#46039f"
            ],
            [
             0.2222222222222222,
             "#7201a8"
            ],
            [
             0.3333333333333333,
             "#9c179e"
            ],
            [
             0.4444444444444444,
             "#bd3786"
            ],
            [
             0.5555555555555556,
             "#d8576b"
            ],
            [
             0.6666666666666666,
             "#ed7953"
            ],
            [
             0.7777777777777778,
             "#fb9f3a"
            ],
            [
             0.8888888888888888,
             "#fdca26"
            ],
            [
             1,
             "#f0f921"
            ]
           ],
           "sequentialminus": [
            [
             0,
             "#0d0887"
            ],
            [
             0.1111111111111111,
             "#46039f"
            ],
            [
             0.2222222222222222,
             "#7201a8"
            ],
            [
             0.3333333333333333,
             "#9c179e"
            ],
            [
             0.4444444444444444,
             "#bd3786"
            ],
            [
             0.5555555555555556,
             "#d8576b"
            ],
            [
             0.6666666666666666,
             "#ed7953"
            ],
            [
             0.7777777777777778,
             "#fb9f3a"
            ],
            [
             0.8888888888888888,
             "#fdca26"
            ],
            [
             1,
             "#f0f921"
            ]
           ]
          },
          "colorway": [
           "#636efa",
           "#EF553B",
           "#00cc96",
           "#ab63fa",
           "#FFA15A",
           "#19d3f3",
           "#FF6692",
           "#B6E880",
           "#FF97FF",
           "#FECB52"
          ],
          "font": {
           "color": "#2a3f5f"
          },
          "geo": {
           "bgcolor": "white",
           "lakecolor": "white",
           "landcolor": "#E5ECF6",
           "showlakes": true,
           "showland": true,
           "subunitcolor": "white"
          },
          "hoverlabel": {
           "align": "left"
          },
          "hovermode": "closest",
          "mapbox": {
           "style": "light"
          },
          "paper_bgcolor": "white",
          "plot_bgcolor": "#E5ECF6",
          "polar": {
           "angularaxis": {
            "gridcolor": "white",
            "linecolor": "white",
            "ticks": ""
           },
           "bgcolor": "#E5ECF6",
           "radialaxis": {
            "gridcolor": "white",
            "linecolor": "white",
            "ticks": ""
           }
          },
          "scene": {
           "xaxis": {
            "backgroundcolor": "#E5ECF6",
            "gridcolor": "white",
            "gridwidth": 2,
            "linecolor": "white",
            "showbackground": true,
            "ticks": "",
            "zerolinecolor": "white"
           },
           "yaxis": {
            "backgroundcolor": "#E5ECF6",
            "gridcolor": "white",
            "gridwidth": 2,
            "linecolor": "white",
            "showbackground": true,
            "ticks": "",
            "zerolinecolor": "white"
           },
           "zaxis": {
            "backgroundcolor": "#E5ECF6",
            "gridcolor": "white",
            "gridwidth": 2,
            "linecolor": "white",
            "showbackground": true,
            "ticks": "",
            "zerolinecolor": "white"
           }
          },
          "shapedefaults": {
           "line": {
            "color": "#2a3f5f"
           }
          },
          "ternary": {
           "aaxis": {
            "gridcolor": "white",
            "linecolor": "white",
            "ticks": ""
           },
           "baxis": {
            "gridcolor": "white",
            "linecolor": "white",
            "ticks": ""
           },
           "bgcolor": "#E5ECF6",
           "caxis": {
            "gridcolor": "white",
            "linecolor": "white",
            "ticks": ""
           }
          },
          "title": {
           "x": 0.05
          },
          "xaxis": {
           "automargin": true,
           "gridcolor": "white",
           "linecolor": "white",
           "ticks": "",
           "title": {
            "standoff": 15
           },
           "zerolinecolor": "white",
           "zerolinewidth": 2
          },
          "yaxis": {
           "automargin": true,
           "gridcolor": "white",
           "linecolor": "white",
           "ticks": "",
           "title": {
            "standoff": 15
           },
           "zerolinecolor": "white",
           "zerolinewidth": 2
          }
         }
        },
        "title": {
         "text": "Average annual wage by role and state"
        },
        "xaxis": {
         "anchor": "y",
         "domain": [
          0,
          1
         ],
         "title": {
          "text": "State"
         }
        },
        "yaxis": {
         "anchor": "x",
         "autorange": "reversed",
         "domain": [
          0,
          1
         ],
         "title": {
          "text": ""
         }
        }
       }
      }
     },
     "metadata": {},
     "output_type": "display_data"
    }
   ],
   "source": [
    "import plotly.express as px\n",
    "import pandas as pd\n",
    "\n",
    "# --- Define list of valid U.S. state abbreviations ---\n",
    "us_states = [\n",
    "    'AL','AK','AZ','AR','CA','CO','CT','DE','FL','GA','HI','ID','IL','IN','IA','KS','KY',\n",
    "    'LA','ME','MD','MA','MI','MN','MS','MO','MT','NE','NV','NH','NJ','NM','NY','NC','ND',\n",
    "    'OH','OK','OR','PA','RI','SC','SD','TN','TX','UT','VT','VA','WA','WV','WI','WY'\n",
    "]\n",
    "\n",
    "# --- Filter only U.S. states ---\n",
    "filtered_df = data_roles_cleaned_df[data_roles_cleaned_df['prim_state'].isin(us_states)].copy()\n",
    "\n",
    "# --- Create alphabetic state order ---\n",
    "state_order = sorted(us_states)\n",
    "\n",
    "# --- Pivot table for mean wages ---\n",
    "pivot = (\n",
    "    filtered_df\n",
    "      .pivot_table(index='occ_title', columns='prim_state', values='a_mean')\n",
    "      .sort_index()  # alphabetize roles\n",
    ")\n",
    "\n",
    "# --- Align to alphabetic state order ---\n",
    "pivot = pivot[state_order]\n",
    "\n",
    "# --- Plot heatmap ---\n",
    "fig_heat = px.imshow(\n",
    "    pivot,\n",
    "    aspect='auto',\n",
    "    color_continuous_scale='RdYlGn',\n",
    "    origin='lower'\n",
    ")\n",
    "\n",
    "fig_heat.update_layout(\n",
    "    title=\"Average annual wage by role and state\",\n",
    "    xaxis_title=\"State\",\n",
    "    yaxis_title=\"\",\n",
    "    yaxis_autorange='reversed',\n",
    "    coloraxis_colorbar=dict(title=\"Avg. Wage ($)\")\n",
    ")\n",
    "\n",
    "fig_heat.show()\n"
   ]
  },
  {
   "cell_type": "markdown",
   "id": "2cbb3408",
   "metadata": {},
   "source": [
    "## Median Annual Wage by Role and State\n",
    "\n",
    "Once again we see **Data Entry Keyers** having the lowest median pay across all states and roles. We are also able to clearly see that **Database Architects** are indeed the highest paid, in general, across most states in the US. "
   ]
  },
  {
   "cell_type": "code",
   "execution_count": 17,
   "id": "ca4a6173",
   "metadata": {},
   "outputs": [
    {
     "data": {
      "application/vnd.plotly.v1+json": {
       "config": {
        "plotlyServerURL": "https://plot.ly"
       },
       "data": [
        {
         "coloraxis": "coloraxis",
         "hovertemplate": "prim_state: %{x}<br>occ_title: %{y}<br>color: %{z}<extra></extra>",
         "name": "0",
         "type": "heatmap",
         "x": [
          "AK",
          "AL",
          "AR",
          "AZ",
          "CA",
          "CO",
          "CT",
          "DE",
          "FL",
          "GA",
          "HI",
          "IA",
          "ID",
          "IL",
          "IN",
          "KS",
          "KY",
          "LA",
          "MA",
          "MD",
          "ME",
          "MI",
          "MN",
          "MO",
          "MS",
          "MT",
          "NC",
          "ND",
          "NE",
          "NH",
          "NJ",
          "NM",
          "NV",
          "NY",
          "OH",
          "OK",
          "OR",
          "PA",
          "RI",
          "SC",
          "SD",
          "TN",
          "TX",
          "UT",
          "VA",
          "VT",
          "WA",
          "WI",
          "WV",
          "WY"
         ],
         "xaxis": "x",
         "y": [
          "Budget Analysts",
          "Computer Systems Analysts",
          "Credit Analysts",
          "Data Entry Keyers",
          "Data Scientists",
          "Database Administrators",
          "Database Architects",
          "Financial and Investment Analysts",
          "Information Security Analysts",
          "Management Analysts",
          "Market Research Analysts and Marketing Specialists",
          "Operations Research Analysts",
          "Software Quality Assurance Analysts and Testers"
         ],
         "yaxis": "y",
         "z": {
          "bdata": "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",
          "dtype": "f8",
          "shape": "13, 50"
         }
        }
       ],
       "layout": {
        "coloraxis": {
         "colorbar": {
          "title": {
           "text": "Median Wage ($)"
          }
         },
         "colorscale": [
          [
           0,
           "rgb(165,0,38)"
          ],
          [
           0.1,
           "rgb(215,48,39)"
          ],
          [
           0.2,
           "rgb(244,109,67)"
          ],
          [
           0.3,
           "rgb(253,174,97)"
          ],
          [
           0.4,
           "rgb(254,224,139)"
          ],
          [
           0.5,
           "rgb(255,255,191)"
          ],
          [
           0.6,
           "rgb(217,239,139)"
          ],
          [
           0.7,
           "rgb(166,217,106)"
          ],
          [
           0.8,
           "rgb(102,189,99)"
          ],
          [
           0.9,
           "rgb(26,152,80)"
          ],
          [
           1,
           "rgb(0,104,55)"
          ]
         ]
        },
        "margin": {
         "t": 60
        },
        "template": {
         "data": {
          "bar": [
           {
            "error_x": {
             "color": "#2a3f5f"
            },
            "error_y": {
             "color": "#2a3f5f"
            },
            "marker": {
             "line": {
              "color": "#E5ECF6",
              "width": 0.5
             },
             "pattern": {
              "fillmode": "overlay",
              "size": 10,
              "solidity": 0.2
             }
            },
            "type": "bar"
           }
          ],
          "barpolar": [
           {
            "marker": {
             "line": {
              "color": "#E5ECF6",
              "width": 0.5
             },
             "pattern": {
              "fillmode": "overlay",
              "size": 10,
              "solidity": 0.2
             }
            },
            "type": "barpolar"
           }
          ],
          "carpet": [
           {
            "aaxis": {
             "endlinecolor": "#2a3f5f",
             "gridcolor": "white",
             "linecolor": "white",
             "minorgridcolor": "white",
             "startlinecolor": "#2a3f5f"
            },
            "baxis": {
             "endlinecolor": "#2a3f5f",
             "gridcolor": "white",
             "linecolor": "white",
             "minorgridcolor": "white",
             "startlinecolor": "#2a3f5f"
            },
            "type": "carpet"
           }
          ],
          "choropleth": [
           {
            "colorbar": {
             "outlinewidth": 0,
             "ticks": ""
            },
            "type": "choropleth"
           }
          ],
          "contour": [
           {
            "colorbar": {
             "outlinewidth": 0,
             "ticks": ""
            },
            "colorscale": [
             [
              0,
              "#0d0887"
             ],
             [
              0.1111111111111111,
              "#46039f"
             ],
             [
              0.2222222222222222,
              "#7201a8"
             ],
             [
              0.3333333333333333,
              "#9c179e"
             ],
             [
              0.4444444444444444,
              "#bd3786"
             ],
             [
              0.5555555555555556,
              "#d8576b"
             ],
             [
              0.6666666666666666,
              "#ed7953"
             ],
             [
              0.7777777777777778,
              "#fb9f3a"
             ],
             [
              0.8888888888888888,
              "#fdca26"
             ],
             [
              1,
              "#f0f921"
             ]
            ],
            "type": "contour"
           }
          ],
          "contourcarpet": [
           {
            "colorbar": {
             "outlinewidth": 0,
             "ticks": ""
            },
            "type": "contourcarpet"
           }
          ],
          "heatmap": [
           {
            "colorbar": {
             "outlinewidth": 0,
             "ticks": ""
            },
            "colorscale": [
             [
              0,
              "#0d0887"
             ],
             [
              0.1111111111111111,
              "#46039f"
             ],
             [
              0.2222222222222222,
              "#7201a8"
             ],
             [
              0.3333333333333333,
              "#9c179e"
             ],
             [
              0.4444444444444444,
              "#bd3786"
             ],
             [
              0.5555555555555556,
              "#d8576b"
             ],
             [
              0.6666666666666666,
              "#ed7953"
             ],
             [
              0.7777777777777778,
              "#fb9f3a"
             ],
             [
              0.8888888888888888,
              "#fdca26"
             ],
             [
              1,
              "#f0f921"
             ]
            ],
            "type": "heatmap"
           }
          ],
          "histogram": [
           {
            "marker": {
             "pattern": {
              "fillmode": "overlay",
              "size": 10,
              "solidity": 0.2
             }
            },
            "type": "histogram"
           }
          ],
          "histogram2d": [
           {
            "colorbar": {
             "outlinewidth": 0,
             "ticks": ""
            },
            "colorscale": [
             [
              0,
              "#0d0887"
             ],
             [
              0.1111111111111111,
              "#46039f"
             ],
             [
              0.2222222222222222,
              "#7201a8"
             ],
             [
              0.3333333333333333,
              "#9c179e"
             ],
             [
              0.4444444444444444,
              "#bd3786"
             ],
             [
              0.5555555555555556,
              "#d8576b"
             ],
             [
              0.6666666666666666,
              "#ed7953"
             ],
             [
              0.7777777777777778,
              "#fb9f3a"
             ],
             [
              0.8888888888888888,
              "#fdca26"
             ],
             [
              1,
              "#f0f921"
             ]
            ],
            "type": "histogram2d"
           }
          ],
          "histogram2dcontour": [
           {
            "colorbar": {
             "outlinewidth": 0,
             "ticks": ""
            },
            "colorscale": [
             [
              0,
              "#0d0887"
             ],
             [
              0.1111111111111111,
              "#46039f"
             ],
             [
              0.2222222222222222,
              "#7201a8"
             ],
             [
              0.3333333333333333,
              "#9c179e"
             ],
             [
              0.4444444444444444,
              "#bd3786"
             ],
             [
              0.5555555555555556,
              "#d8576b"
             ],
             [
              0.6666666666666666,
              "#ed7953"
             ],
             [
              0.7777777777777778,
              "#fb9f3a"
             ],
             [
              0.8888888888888888,
              "#fdca26"
             ],
             [
              1,
              "#f0f921"
             ]
            ],
            "type": "histogram2dcontour"
           }
          ],
          "mesh3d": [
           {
            "colorbar": {
             "outlinewidth": 0,
             "ticks": ""
            },
            "type": "mesh3d"
           }
          ],
          "parcoords": [
           {
            "line": {
             "colorbar": {
              "outlinewidth": 0,
              "ticks": ""
             }
            },
            "type": "parcoords"
           }
          ],
          "pie": [
           {
            "automargin": true,
            "type": "pie"
           }
          ],
          "scatter": [
           {
            "fillpattern": {
             "fillmode": "overlay",
             "size": 10,
             "solidity": 0.2
            },
            "type": "scatter"
           }
          ],
          "scatter3d": [
           {
            "line": {
             "colorbar": {
              "outlinewidth": 0,
              "ticks": ""
             }
            },
            "marker": {
             "colorbar": {
              "outlinewidth": 0,
              "ticks": ""
             }
            },
            "type": "scatter3d"
           }
          ],
          "scattercarpet": [
           {
            "marker": {
             "colorbar": {
              "outlinewidth": 0,
              "ticks": ""
             }
            },
            "type": "scattercarpet"
           }
          ],
          "scattergeo": [
           {
            "marker": {
             "colorbar": {
              "outlinewidth": 0,
              "ticks": ""
             }
            },
            "type": "scattergeo"
           }
          ],
          "scattergl": [
           {
            "marker": {
             "colorbar": {
              "outlinewidth": 0,
              "ticks": ""
             }
            },
            "type": "scattergl"
           }
          ],
          "scattermap": [
           {
            "marker": {
             "colorbar": {
              "outlinewidth": 0,
              "ticks": ""
             }
            },
            "type": "scattermap"
           }
          ],
          "scattermapbox": [
           {
            "marker": {
             "colorbar": {
              "outlinewidth": 0,
              "ticks": ""
             }
            },
            "type": "scattermapbox"
           }
          ],
          "scatterpolar": [
           {
            "marker": {
             "colorbar": {
              "outlinewidth": 0,
              "ticks": ""
             }
            },
            "type": "scatterpolar"
           }
          ],
          "scatterpolargl": [
           {
            "marker": {
             "colorbar": {
              "outlinewidth": 0,
              "ticks": ""
             }
            },
            "type": "scatterpolargl"
           }
          ],
          "scatterternary": [
           {
            "marker": {
             "colorbar": {
              "outlinewidth": 0,
              "ticks": ""
             }
            },
            "type": "scatterternary"
           }
          ],
          "surface": [
           {
            "colorbar": {
             "outlinewidth": 0,
             "ticks": ""
            },
            "colorscale": [
             [
              0,
              "#0d0887"
             ],
             [
              0.1111111111111111,
              "#46039f"
             ],
             [
              0.2222222222222222,
              "#7201a8"
             ],
             [
              0.3333333333333333,
              "#9c179e"
             ],
             [
              0.4444444444444444,
              "#bd3786"
             ],
             [
              0.5555555555555556,
              "#d8576b"
             ],
             [
              0.6666666666666666,
              "#ed7953"
             ],
             [
              0.7777777777777778,
              "#fb9f3a"
             ],
             [
              0.8888888888888888,
              "#fdca26"
             ],
             [
              1,
              "#f0f921"
             ]
            ],
            "type": "surface"
           }
          ],
          "table": [
           {
            "cells": {
             "fill": {
              "color": "#EBF0F8"
             },
             "line": {
              "color": "white"
             }
            },
            "header": {
             "fill": {
              "color": "#C8D4E3"
             },
             "line": {
              "color": "white"
             }
            },
            "type": "table"
           }
          ]
         },
         "layout": {
          "annotationdefaults": {
           "arrowcolor": "#2a3f5f",
           "arrowhead": 0,
           "arrowwidth": 1
          },
          "autotypenumbers": "strict",
          "coloraxis": {
           "colorbar": {
            "outlinewidth": 0,
            "ticks": ""
           }
          },
          "colorscale": {
           "diverging": [
            [
             0,
             "#8e0152"
            ],
            [
             0.1,
             "#c51b7d"
            ],
            [
             0.2,
             "#de77ae"
            ],
            [
             0.3,
             "#f1b6da"
            ],
            [
             0.4,
             "#fde0ef"
            ],
            [
             0.5,
             "#f7f7f7"
            ],
            [
             0.6,
             "#e6f5d0"
            ],
            [
             0.7,
             "#b8e186"
            ],
            [
             0.8,
             "#7fbc41"
            ],
            [
             0.9,
             "#4d9221"
            ],
            [
             1,
             "#276419"
            ]
           ],
           "sequential": [
            [
             0,
             "#0d0887"
            ],
            [
             0.1111111111111111,
             "#46039f"
            ],
            [
             0.2222222222222222,
             "#7201a8"
            ],
            [
             0.3333333333333333,
             "#9c179e"
            ],
            [
             0.4444444444444444,
             "#bd3786"
            ],
            [
             0.5555555555555556,
             "#d8576b"
            ],
            [
             0.6666666666666666,
             "#ed7953"
            ],
            [
             0.7777777777777778,
             "#fb9f3a"
            ],
            [
             0.8888888888888888,
             "#fdca26"
            ],
            [
             1,
             "#f0f921"
            ]
           ],
           "sequentialminus": [
            [
             0,
             "#0d0887"
            ],
            [
             0.1111111111111111,
             "#46039f"
            ],
            [
             0.2222222222222222,
             "#7201a8"
            ],
            [
             0.3333333333333333,
             "#9c179e"
            ],
            [
             0.4444444444444444,
             "#bd3786"
            ],
            [
             0.5555555555555556,
             "#d8576b"
            ],
            [
             0.6666666666666666,
             "#ed7953"
            ],
            [
             0.7777777777777778,
             "#fb9f3a"
            ],
            [
             0.8888888888888888,
             "#fdca26"
            ],
            [
             1,
             "#f0f921"
            ]
           ]
          },
          "colorway": [
           "#636efa",
           "#EF553B",
           "#00cc96",
           "#ab63fa",
           "#FFA15A",
           "#19d3f3",
           "#FF6692",
           "#B6E880",
           "#FF97FF",
           "#FECB52"
          ],
          "font": {
           "color": "#2a3f5f"
          },
          "geo": {
           "bgcolor": "white",
           "lakecolor": "white",
           "landcolor": "#E5ECF6",
           "showlakes": true,
           "showland": true,
           "subunitcolor": "white"
          },
          "hoverlabel": {
           "align": "left"
          },
          "hovermode": "closest",
          "mapbox": {
           "style": "light"
          },
          "paper_bgcolor": "white",
          "plot_bgcolor": "#E5ECF6",
          "polar": {
           "angularaxis": {
            "gridcolor": "white",
            "linecolor": "white",
            "ticks": ""
           },
           "bgcolor": "#E5ECF6",
           "radialaxis": {
            "gridcolor": "white",
            "linecolor": "white",
            "ticks": ""
           }
          },
          "scene": {
           "xaxis": {
            "backgroundcolor": "#E5ECF6",
            "gridcolor": "white",
            "gridwidth": 2,
            "linecolor": "white",
            "showbackground": true,
            "ticks": "",
            "zerolinecolor": "white"
           },
           "yaxis": {
            "backgroundcolor": "#E5ECF6",
            "gridcolor": "white",
            "gridwidth": 2,
            "linecolor": "white",
            "showbackground": true,
            "ticks": "",
            "zerolinecolor": "white"
           },
           "zaxis": {
            "backgroundcolor": "#E5ECF6",
            "gridcolor": "white",
            "gridwidth": 2,
            "linecolor": "white",
            "showbackground": true,
            "ticks": "",
            "zerolinecolor": "white"
           }
          },
          "shapedefaults": {
           "line": {
            "color": "#2a3f5f"
           }
          },
          "ternary": {
           "aaxis": {
            "gridcolor": "white",
            "linecolor": "white",
            "ticks": ""
           },
           "baxis": {
            "gridcolor": "white",
            "linecolor": "white",
            "ticks": ""
           },
           "bgcolor": "#E5ECF6",
           "caxis": {
            "gridcolor": "white",
            "linecolor": "white",
            "ticks": ""
           }
          },
          "title": {
           "x": 0.05
          },
          "xaxis": {
           "automargin": true,
           "gridcolor": "white",
           "linecolor": "white",
           "ticks": "",
           "title": {
            "standoff": 15
           },
           "zerolinecolor": "white",
           "zerolinewidth": 2
          },
          "yaxis": {
           "automargin": true,
           "gridcolor": "white",
           "linecolor": "white",
           "ticks": "",
           "title": {
            "standoff": 15
           },
           "zerolinecolor": "white",
           "zerolinewidth": 2
          }
         }
        },
        "title": {
         "text": "Median annual wage by role and state"
        },
        "xaxis": {
         "anchor": "y",
         "domain": [
          0,
          1
         ],
         "title": {
          "text": "State"
         }
        },
        "yaxis": {
         "anchor": "x",
         "autorange": "reversed",
         "domain": [
          0,
          1
         ],
         "title": {
          "text": ""
         }
        }
       }
      }
     },
     "metadata": {},
     "output_type": "display_data"
    }
   ],
   "source": [
    "# --- Pivot table for median wages ---\n",
    "pivot = (\n",
    "    filtered_df\n",
    "      .pivot_table(index='occ_title', columns='prim_state', values='a_median')\n",
    "      .sort_index()  # alphabetize roles\n",
    ")\n",
    "\n",
    "# --- Align to alphabetic state order ---\n",
    "pivot = pivot[state_order]\n",
    "\n",
    "# --- Plot heatmap ---\n",
    "fig_heat = px.imshow(\n",
    "    pivot,\n",
    "    aspect='auto',\n",
    "    color_continuous_scale='RdYlGn',\n",
    "    origin='lower'\n",
    ")\n",
    "\n",
    "fig_heat.update_layout(\n",
    "    title=\"Median annual wage by role and state\",\n",
    "    xaxis_title=\"State\",\n",
    "    yaxis_title=\"\",\n",
    "    yaxis_autorange='reversed',\n",
    "    coloraxis_colorbar=dict(title=\"Median Wage ($)\")\n",
    ")\n",
    "\n",
    "fig_heat.show()"
   ]
  },
  {
   "cell_type": "markdown",
   "id": "09660af6",
   "metadata": {},
   "source": [
    "## Occupational Role within Each State\n",
    "\n",
    "To gain a better understanding of how each role compares across states, we can select a specific role of interest and observe how it performs geographically. Using **Data Entry Keyers** as an example, we see that the West Coast, including Washington and California, offers higher wages than the Southeast region of the United States. When examining **Database Architects**, the disparity becomes even greater, with California averaging around $163K, while Wyoming falls much lower at approximately $69K."
   ]
  },
  {
   "cell_type": "code",
   "execution_count": 18,
   "id": "24906877",
   "metadata": {},
   "outputs": [
    {
     "data": {
      "application/vnd.plotly.v1+json": {
       "config": {
        "plotlyServerURL": "https://plot.ly"
       },
       "data": [
        {
         "coloraxis": "coloraxis",
         "customdata": [
          [
           "AL",
           99700
          ],
          [
           "AK",
           95380
          ],
          [
           "AZ",
           87170
          ],
          [
           "AR",
           66450
          ],
          [
           "CA",
           108150
          ],
          [
           "CO",
           98560
          ],
          [
           "CT",
           96220
          ],
          [
           "DE",
           86580
          ],
          [
           "DC",
           117120
          ],
          [
           "FL",
           89270
          ],
          [
           "GA",
           92230
          ],
          [
           "HI",
           89740
          ],
          [
           "ID",
           82050
          ],
          [
           "IL",
           92580
          ],
          [
           "IN",
           81280
          ],
          [
           "IA",
           85500
          ],
          [
           "KS",
           84990
          ],
          [
           "KY",
           78370
          ],
          [
           "LA",
           80810
          ],
          [
           "ME",
           85080
          ],
          [
           "MD",
           106290
          ],
          [
           "MA",
           94370
          ],
          [
           "MI",
           90090
          ],
          [
           "MN",
           93220
          ],
          [
           "MS",
           74450
          ],
          [
           "MO",
           84090
          ],
          [
           "MT",
           75040
          ],
          [
           "NE",
           85610
          ],
          [
           "NV",
           81240
          ],
          [
           "NH",
           97460
          ],
          [
           "NJ",
           95130
          ],
          [
           "NM",
           96610
          ],
          [
           "NY",
           94200
          ],
          [
           "NC",
           83000
          ],
          [
           "ND",
           81490
          ],
          [
           "OH",
           89680
          ],
          [
           "OK",
           78390
          ],
          [
           "OR",
           94570
          ],
          [
           "PA",
           84790
          ],
          [
           "RI",
           92870
          ],
          [
           "SC",
           87250
          ],
          [
           "SD",
           79550
          ],
          [
           "TN",
           89450
          ],
          [
           "TX",
           83880
          ],
          [
           "UT",
           83730
          ],
          [
           "VT",
           88720
          ],
          [
           "VA",
           111720
          ],
          [
           "WA",
           96350
          ],
          [
           "WV",
           80570
          ],
          [
           "WI",
           81760
          ],
          [
           "WY",
           79360
          ],
          [
           "PR",
           53780
          ],
          [
           "VI",
           64720
          ]
         ],
         "geo": "geo",
         "hovertemplate": "<b>%{hovertext}</b><br><br>prim_state=%{customdata[0]}<br>a_mean=%{z:.0f}<extra></extra>",
         "hovertext": [
          "Alabama",
          "Alaska",
          "Arizona",
          "Arkansas",
          "California",
          "Colorado",
          "Connecticut",
          "Delaware",
          "District of Columbia",
          "Florida",
          "Georgia",
          "Hawaii",
          "Idaho",
          "Illinois",
          "Indiana",
          "Iowa",
          "Kansas",
          "Kentucky",
          "Louisiana",
          "Maine",
          "Maryland",
          "Massachusetts",
          "Michigan",
          "Minnesota",
          "Mississippi",
          "Missouri",
          "Montana",
          "Nebraska",
          "Nevada",
          "New Hampshire",
          "New Jersey",
          "New Mexico",
          "New York",
          "North Carolina",
          "North Dakota",
          "Ohio",
          "Oklahoma",
          "Oregon",
          "Pennsylvania",
          "Rhode Island",
          "South Carolina",
          "South Dakota",
          "Tennessee",
          "Texas",
          "Utah",
          "Vermont",
          "Virginia",
          "Washington",
          "West Virginia",
          "Wisconsin",
          "Wyoming",
          "Puerto Rico",
          "Virgin Islands"
         ],
         "locationmode": "USA-states",
         "locations": [
          "AL",
          "AK",
          "AZ",
          "AR",
          "CA",
          "CO",
          "CT",
          "DE",
          "DC",
          "FL",
          "GA",
          "HI",
          "ID",
          "IL",
          "IN",
          "IA",
          "KS",
          "KY",
          "LA",
          "ME",
          "MD",
          "MA",
          "MI",
          "MN",
          "MS",
          "MO",
          "MT",
          "NE",
          "NV",
          "NH",
          "NJ",
          "NM",
          "NY",
          "NC",
          "ND",
          "OH",
          "OK",
          "OR",
          "PA",
          "RI",
          "SC",
          "SD",
          "TN",
          "TX",
          "UT",
          "VT",
          "VA",
          "WA",
          "WV",
          "WI",
          "WY",
          "PR",
          "VI"
         ],
         "name": "",
         "type": "choropleth",
         "z": {
          "bdata": "AAAAAEBX+EAAAAAAQEn3QAAAAAAgSPVAAAAAACA58EAAAAAAYGf6QAAAAAAAEPhAAAAAAMB990AAAAAAQCP1QAAAAAAAmPxAAAAAAGDL9UAAAAAAYIT2QAAAAADA6PVAAAAAACAI9EAAAAAAQJr2QAAAAAAA2PNAAAAAAMDf9EAAAAAA4L/0QAAAAAAgIvNAAAAAAKC680AAAAAAgMX0QAAAAAAg8/lAAAAAACAK90AAAAAAoP71QAAAAABAwvZAAAAAACAt8kAAAAAAoIf0QAAAAAAAUvJAAAAAAKDm9EAAAAAAgNXzQAAAAABAy/dAAAAAAKA590AAAAAAIJb3QAAAAACA//ZAAAAAAIBD9EAAAAAAIOXzQAAAAAAA5fVAAAAAAGAj80AAAAAAoBb3QAAAAABgs/RAAAAAAGCs9kAAAAAAIE31QAAAAADga/NAAAAAAKDW9UAAAAAAgHr0QAAAAAAgcfRAAAAAAACp9UAAAAAAgEb7QAAAAADghfdAAAAAAKCr80AAAAAAAPbzQAAAAAAAYPNAAAAAAIBC6kAAAAAAAJrvQA==",
          "dtype": "f8"
         }
        }
       ],
       "layout": {
        "coloraxis": {
         "colorbar": {
          "title": {
           "text": "Avg wage ($)"
          }
         },
         "colorscale": [
          [
           0,
           "rgb(165,0,38)"
          ],
          [
           0.1,
           "rgb(215,48,39)"
          ],
          [
           0.2,
           "rgb(244,109,67)"
          ],
          [
           0.3,
           "rgb(253,174,97)"
          ],
          [
           0.4,
           "rgb(254,224,139)"
          ],
          [
           0.5,
           "rgb(255,255,191)"
          ],
          [
           0.6,
           "rgb(217,239,139)"
          ],
          [
           0.7,
           "rgb(166,217,106)"
          ],
          [
           0.8,
           "rgb(102,189,99)"
          ],
          [
           0.9,
           "rgb(26,152,80)"
          ],
          [
           1,
           "rgb(0,104,55)"
          ]
         ]
        },
        "geo": {
         "center": {},
         "domain": {
          "x": [
           0,
           1
          ],
          "y": [
           0,
           1
          ]
         },
         "scope": "usa"
        },
        "legend": {
         "tracegroupgap": 0
        },
        "template": {
         "data": {
          "bar": [
           {
            "error_x": {
             "color": "#2a3f5f"
            },
            "error_y": {
             "color": "#2a3f5f"
            },
            "marker": {
             "line": {
              "color": "#E5ECF6",
              "width": 0.5
             },
             "pattern": {
              "fillmode": "overlay",
              "size": 10,
              "solidity": 0.2
             }
            },
            "type": "bar"
           }
          ],
          "barpolar": [
           {
            "marker": {
             "line": {
              "color": "#E5ECF6",
              "width": 0.5
             },
             "pattern": {
              "fillmode": "overlay",
              "size": 10,
              "solidity": 0.2
             }
            },
            "type": "barpolar"
           }
          ],
          "carpet": [
           {
            "aaxis": {
             "endlinecolor": "#2a3f5f",
             "gridcolor": "white",
             "linecolor": "white",
             "minorgridcolor": "white",
             "startlinecolor": "#2a3f5f"
            },
            "baxis": {
             "endlinecolor": "#2a3f5f",
             "gridcolor": "white",
             "linecolor": "white",
             "minorgridcolor": "white",
             "startlinecolor": "#2a3f5f"
            },
            "type": "carpet"
           }
          ],
          "choropleth": [
           {
            "colorbar": {
             "outlinewidth": 0,
             "ticks": ""
            },
            "type": "choropleth"
           }
          ],
          "contour": [
           {
            "colorbar": {
             "outlinewidth": 0,
             "ticks": ""
            },
            "colorscale": [
             [
              0,
              "#0d0887"
             ],
             [
              0.1111111111111111,
              "#46039f"
             ],
             [
              0.2222222222222222,
              "#7201a8"
             ],
             [
              0.3333333333333333,
              "#9c179e"
             ],
             [
              0.4444444444444444,
              "#bd3786"
             ],
             [
              0.5555555555555556,
              "#d8576b"
             ],
             [
              0.6666666666666666,
              "#ed7953"
             ],
             [
              0.7777777777777778,
              "#fb9f3a"
             ],
             [
              0.8888888888888888,
              "#fdca26"
             ],
             [
              1,
              "#f0f921"
             ]
            ],
            "type": "contour"
           }
          ],
          "contourcarpet": [
           {
            "colorbar": {
             "outlinewidth": 0,
             "ticks": ""
            },
            "type": "contourcarpet"
           }
          ],
          "heatmap": [
           {
            "colorbar": {
             "outlinewidth": 0,
             "ticks": ""
            },
            "colorscale": [
             [
              0,
              "#0d0887"
             ],
             [
              0.1111111111111111,
              "#46039f"
             ],
             [
              0.2222222222222222,
              "#7201a8"
             ],
             [
              0.3333333333333333,
              "#9c179e"
             ],
             [
              0.4444444444444444,
              "#bd3786"
             ],
             [
              0.5555555555555556,
              "#d8576b"
             ],
             [
              0.6666666666666666,
              "#ed7953"
             ],
             [
              0.7777777777777778,
              "#fb9f3a"
             ],
             [
              0.8888888888888888,
              "#fdca26"
             ],
             [
              1,
              "#f0f921"
             ]
            ],
            "type": "heatmap"
           }
          ],
          "histogram": [
           {
            "marker": {
             "pattern": {
              "fillmode": "overlay",
              "size": 10,
              "solidity": 0.2
             }
            },
            "type": "histogram"
           }
          ],
          "histogram2d": [
           {
            "colorbar": {
             "outlinewidth": 0,
             "ticks": ""
            },
            "colorscale": [
             [
              0,
              "#0d0887"
             ],
             [
              0.1111111111111111,
              "#46039f"
             ],
             [
              0.2222222222222222,
              "#7201a8"
             ],
             [
              0.3333333333333333,
              "#9c179e"
             ],
             [
              0.4444444444444444,
              "#bd3786"
             ],
             [
              0.5555555555555556,
              "#d8576b"
             ],
             [
              0.6666666666666666,
              "#ed7953"
             ],
             [
              0.7777777777777778,
              "#fb9f3a"
             ],
             [
              0.8888888888888888,
              "#fdca26"
             ],
             [
              1,
              "#f0f921"
             ]
            ],
            "type": "histogram2d"
           }
          ],
          "histogram2dcontour": [
           {
            "colorbar": {
             "outlinewidth": 0,
             "ticks": ""
            },
            "colorscale": [
             [
              0,
              "#0d0887"
             ],
             [
              0.1111111111111111,
              "#46039f"
             ],
             [
              0.2222222222222222,
              "#7201a8"
             ],
             [
              0.3333333333333333,
              "#9c179e"
             ],
             [
              0.4444444444444444,
              "#bd3786"
             ],
             [
              0.5555555555555556,
              "#d8576b"
             ],
             [
              0.6666666666666666,
              "#ed7953"
             ],
             [
              0.7777777777777778,
              "#fb9f3a"
             ],
             [
              0.8888888888888888,
              "#fdca26"
             ],
             [
              1,
              "#f0f921"
             ]
            ],
            "type": "histogram2dcontour"
           }
          ],
          "mesh3d": [
           {
            "colorbar": {
             "outlinewidth": 0,
             "ticks": ""
            },
            "type": "mesh3d"
           }
          ],
          "parcoords": [
           {
            "line": {
             "colorbar": {
              "outlinewidth": 0,
              "ticks": ""
             }
            },
            "type": "parcoords"
           }
          ],
          "pie": [
           {
            "automargin": true,
            "type": "pie"
           }
          ],
          "scatter": [
           {
            "fillpattern": {
             "fillmode": "overlay",
             "size": 10,
             "solidity": 0.2
            },
            "type": "scatter"
           }
          ],
          "scatter3d": [
           {
            "line": {
             "colorbar": {
              "outlinewidth": 0,
              "ticks": ""
             }
            },
            "marker": {
             "colorbar": {
              "outlinewidth": 0,
              "ticks": ""
             }
            },
            "type": "scatter3d"
           }
          ],
          "scattercarpet": [
           {
            "marker": {
             "colorbar": {
              "outlinewidth": 0,
              "ticks": ""
             }
            },
            "type": "scattercarpet"
           }
          ],
          "scattergeo": [
           {
            "marker": {
             "colorbar": {
              "outlinewidth": 0,
              "ticks": ""
             }
            },
            "type": "scattergeo"
           }
          ],
          "scattergl": [
           {
            "marker": {
             "colorbar": {
              "outlinewidth": 0,
              "ticks": ""
             }
            },
            "type": "scattergl"
           }
          ],
          "scattermap": [
           {
            "marker": {
             "colorbar": {
              "outlinewidth": 0,
              "ticks": ""
             }
            },
            "type": "scattermap"
           }
          ],
          "scattermapbox": [
           {
            "marker": {
             "colorbar": {
              "outlinewidth": 0,
              "ticks": ""
             }
            },
            "type": "scattermapbox"
           }
          ],
          "scatterpolar": [
           {
            "marker": {
             "colorbar": {
              "outlinewidth": 0,
              "ticks": ""
             }
            },
            "type": "scatterpolar"
           }
          ],
          "scatterpolargl": [
           {
            "marker": {
             "colorbar": {
              "outlinewidth": 0,
              "ticks": ""
             }
            },
            "type": "scatterpolargl"
           }
          ],
          "scatterternary": [
           {
            "marker": {
             "colorbar": {
              "outlinewidth": 0,
              "ticks": ""
             }
            },
            "type": "scatterternary"
           }
          ],
          "surface": [
           {
            "colorbar": {
             "outlinewidth": 0,
             "ticks": ""
            },
            "colorscale": [
             [
              0,
              "#0d0887"
             ],
             [
              0.1111111111111111,
              "#46039f"
             ],
             [
              0.2222222222222222,
              "#7201a8"
             ],
             [
              0.3333333333333333,
              "#9c179e"
             ],
             [
              0.4444444444444444,
              "#bd3786"
             ],
             [
              0.5555555555555556,
              "#d8576b"
             ],
             [
              0.6666666666666666,
              "#ed7953"
             ],
             [
              0.7777777777777778,
              "#fb9f3a"
             ],
             [
              0.8888888888888888,
              "#fdca26"
             ],
             [
              1,
              "#f0f921"
             ]
            ],
            "type": "surface"
           }
          ],
          "table": [
           {
            "cells": {
             "fill": {
              "color": "#EBF0F8"
             },
             "line": {
              "color": "white"
             }
            },
            "header": {
             "fill": {
              "color": "#C8D4E3"
             },
             "line": {
              "color": "white"
             }
            },
            "type": "table"
           }
          ]
         },
         "layout": {
          "annotationdefaults": {
           "arrowcolor": "#2a3f5f",
           "arrowhead": 0,
           "arrowwidth": 1
          },
          "autotypenumbers": "strict",
          "coloraxis": {
           "colorbar": {
            "outlinewidth": 0,
            "ticks": ""
           }
          },
          "colorscale": {
           "diverging": [
            [
             0,
             "#8e0152"
            ],
            [
             0.1,
             "#c51b7d"
            ],
            [
             0.2,
             "#de77ae"
            ],
            [
             0.3,
             "#f1b6da"
            ],
            [
             0.4,
             "#fde0ef"
            ],
            [
             0.5,
             "#f7f7f7"
            ],
            [
             0.6,
             "#e6f5d0"
            ],
            [
             0.7,
             "#b8e186"
            ],
            [
             0.8,
             "#7fbc41"
            ],
            [
             0.9,
             "#4d9221"
            ],
            [
             1,
             "#276419"
            ]
           ],
           "sequential": [
            [
             0,
             "#0d0887"
            ],
            [
             0.1111111111111111,
             "#46039f"
            ],
            [
             0.2222222222222222,
             "#7201a8"
            ],
            [
             0.3333333333333333,
             "#9c179e"
            ],
            [
             0.4444444444444444,
             "#bd3786"
            ],
            [
             0.5555555555555556,
             "#d8576b"
            ],
            [
             0.6666666666666666,
             "#ed7953"
            ],
            [
             0.7777777777777778,
             "#fb9f3a"
            ],
            [
             0.8888888888888888,
             "#fdca26"
            ],
            [
             1,
             "#f0f921"
            ]
           ],
           "sequentialminus": [
            [
             0,
             "#0d0887"
            ],
            [
             0.1111111111111111,
             "#46039f"
            ],
            [
             0.2222222222222222,
             "#7201a8"
            ],
            [
             0.3333333333333333,
             "#9c179e"
            ],
            [
             0.4444444444444444,
             "#bd3786"
            ],
            [
             0.5555555555555556,
             "#d8576b"
            ],
            [
             0.6666666666666666,
             "#ed7953"
            ],
            [
             0.7777777777777778,
             "#fb9f3a"
            ],
            [
             0.8888888888888888,
             "#fdca26"
            ],
            [
             1,
             "#f0f921"
            ]
           ]
          },
          "colorway": [
           "#636efa",
           "#EF553B",
           "#00cc96",
           "#ab63fa",
           "#FFA15A",
           "#19d3f3",
           "#FF6692",
           "#B6E880",
           "#FF97FF",
           "#FECB52"
          ],
          "font": {
           "color": "#2a3f5f"
          },
          "geo": {
           "bgcolor": "white",
           "lakecolor": "white",
           "landcolor": "#E5ECF6",
           "showlakes": true,
           "showland": true,
           "subunitcolor": "white"
          },
          "hoverlabel": {
           "align": "left"
          },
          "hovermode": "closest",
          "mapbox": {
           "style": "light"
          },
          "paper_bgcolor": "white",
          "plot_bgcolor": "#E5ECF6",
          "polar": {
           "angularaxis": {
            "gridcolor": "white",
            "linecolor": "white",
            "ticks": ""
           },
           "bgcolor": "#E5ECF6",
           "radialaxis": {
            "gridcolor": "white",
            "linecolor": "white",
            "ticks": ""
           }
          },
          "scene": {
           "xaxis": {
            "backgroundcolor": "#E5ECF6",
            "gridcolor": "white",
            "gridwidth": 2,
            "linecolor": "white",
            "showbackground": true,
            "ticks": "",
            "zerolinecolor": "white"
           },
           "yaxis": {
            "backgroundcolor": "#E5ECF6",
            "gridcolor": "white",
            "gridwidth": 2,
            "linecolor": "white",
            "showbackground": true,
            "ticks": "",
            "zerolinecolor": "white"
           },
           "zaxis": {
            "backgroundcolor": "#E5ECF6",
            "gridcolor": "white",
            "gridwidth": 2,
            "linecolor": "white",
            "showbackground": true,
            "ticks": "",
            "zerolinecolor": "white"
           }
          },
          "shapedefaults": {
           "line": {
            "color": "#2a3f5f"
           }
          },
          "ternary": {
           "aaxis": {
            "gridcolor": "white",
            "linecolor": "white",
            "ticks": ""
           },
           "baxis": {
            "gridcolor": "white",
            "linecolor": "white",
            "ticks": ""
           },
           "bgcolor": "#E5ECF6",
           "caxis": {
            "gridcolor": "white",
            "linecolor": "white",
            "ticks": ""
           }
          },
          "title": {
           "x": 0.05
          },
          "xaxis": {
           "automargin": true,
           "gridcolor": "white",
           "linecolor": "white",
           "ticks": "",
           "title": {
            "standoff": 15
           },
           "zerolinecolor": "white",
           "zerolinewidth": 2
          },
          "yaxis": {
           "automargin": true,
           "gridcolor": "white",
           "linecolor": "white",
           "ticks": "",
           "title": {
            "standoff": 15
           },
           "zerolinecolor": "white",
           "zerolinewidth": 2
          }
         }
        },
        "title": {
         "text": "Average annual wage by state"
        },
        "updatemenus": [
         {
          "buttons": [
           {
            "args": [
             {
              "hovertext": [
               [
                "Alabama",
                "Alaska",
                "Arizona",
                "Arkansas",
                "California",
                "Colorado",
                "Connecticut",
                "Delaware",
                "District of Columbia",
                "Florida",
                "Georgia",
                "Hawaii",
                "Idaho",
                "Illinois",
                "Indiana",
                "Iowa",
                "Kansas",
                "Kentucky",
                "Louisiana",
                "Maine",
                "Maryland",
                "Massachusetts",
                "Michigan",
                "Minnesota",
                "Mississippi",
                "Missouri",
                "Montana",
                "Nebraska",
                "Nevada",
                "New Hampshire",
                "New Jersey",
                "New Mexico",
                "New York",
                "North Carolina",
                "North Dakota",
                "Ohio",
                "Oklahoma",
                "Oregon",
                "Pennsylvania",
                "Rhode Island",
                "South Carolina",
                "South Dakota",
                "Tennessee",
                "Texas",
                "Utah",
                "Vermont",
                "Virginia",
                "Washington",
                "West Virginia",
                "Wisconsin",
                "Wyoming",
                "Puerto Rico",
                "Virgin Islands"
               ]
              ],
              "locations": [
               [
                "AL",
                "AK",
                "AZ",
                "AR",
                "CA",
                "CO",
                "CT",
                "DE",
                "DC",
                "FL",
                "GA",
                "HI",
                "ID",
                "IL",
                "IN",
                "IA",
                "KS",
                "KY",
                "LA",
                "ME",
                "MD",
                "MA",
                "MI",
                "MN",
                "MS",
                "MO",
                "MT",
                "NE",
                "NV",
                "NH",
                "NJ",
                "NM",
                "NY",
                "NC",
                "ND",
                "OH",
                "OK",
                "OR",
                "PA",
                "RI",
                "SC",
                "SD",
                "TN",
                "TX",
                "UT",
                "VT",
                "VA",
                "WA",
                "WV",
                "WI",
                "WY",
                "PR",
                "VI"
               ]
              ],
              "z": [
               [
                99700,
                95380,
                87170,
                66450,
                108150,
                98560,
                96220,
                86580,
                117120,
                89270,
                92230,
                89740,
                82050,
                92580,
                81280,
                85500,
                84990,
                78370,
                80810,
                85080,
                106290,
                94370,
                90090,
                93220,
                74450,
                84090,
                75040,
                85610,
                81240,
                97460,
                95130,
                96610,
                94200,
                83000,
                81490,
                89680,
                78390,
                94570,
                84790,
                92870,
                87250,
                79550,
                89450,
                83880,
                83730,
                88720,
                111720,
                96350,
                80570,
                81760,
                79360,
                53780,
                64720
               ]
              ]
             },
             [
              0
             ]
            ],
            "label": "Budget Analysts",
            "method": "restyle"
           },
           {
            "args": [
             {
              "hovertext": [
               [
                "Alabama",
                "Alaska",
                "Arizona",
                "Arkansas",
                "California",
                "Colorado",
                "Connecticut",
                "Delaware",
                "District of Columbia",
                "Florida",
                "Georgia",
                "Hawaii",
                "Idaho",
                "Illinois",
                "Indiana",
                "Iowa",
                "Kansas",
                "Kentucky",
                "Louisiana",
                "Maine",
                "Maryland",
                "Massachusetts",
                "Michigan",
                "Minnesota",
                "Mississippi",
                "Missouri",
                "Montana",
                "Nebraska",
                "Nevada",
                "New Hampshire",
                "New Jersey",
                "New Mexico",
                "New York",
                "North Carolina",
                "North Dakota",
                "Ohio",
                "Oklahoma",
                "Oregon",
                "Pennsylvania",
                "Rhode Island",
                "South Carolina",
                "South Dakota",
                "Tennessee",
                "Texas",
                "Utah",
                "Vermont",
                "Virginia",
                "Washington",
                "West Virginia",
                "Wisconsin",
                "Wyoming",
                "Puerto Rico",
                "Virgin Islands"
               ]
              ],
              "locations": [
               [
                "AL",
                "AK",
                "AZ",
                "AR",
                "CA",
                "CO",
                "CT",
                "DE",
                "DC",
                "FL",
                "GA",
                "HI",
                "ID",
                "IL",
                "IN",
                "IA",
                "KS",
                "KY",
                "LA",
                "ME",
                "MD",
                "MA",
                "MI",
                "MN",
                "MS",
                "MO",
                "MT",
                "NE",
                "NV",
                "NH",
                "NJ",
                "NM",
                "NY",
                "NC",
                "ND",
                "OH",
                "OK",
                "OR",
                "PA",
                "RI",
                "SC",
                "SD",
                "TN",
                "TX",
                "UT",
                "VT",
                "VA",
                "WA",
                "WV",
                "WI",
                "WY",
                "PR",
                "VI"
               ]
              ],
              "z": [
               [
                112430,
                91780,
                106930,
                70300,
                132940,
                127060,
                109000,
                110640,
                123720,
                106640,
                106610,
                92210,
                76030,
                96560,
                100990,
                93330,
                102220,
                89100,
                95520,
                104400,
                115010,
                126190,
                102420,
                111350,
                84670,
                94680,
                100840,
                94930,
                100960,
                109600,
                124650,
                96720,
                115250,
                112060,
                102340,
                102700,
                104880,
                120860,
                99590,
                120290,
                98600,
                102040,
                89960,
                114350,
                96380,
                104440,
                120880,
                133710,
                99150,
                99490,
                95560,
                61920,
                65530
               ]
              ]
             },
             [
              0
             ]
            ],
            "label": "Computer Systems Analysts",
            "method": "restyle"
           },
           {
            "args": [
             {
              "hovertext": [
               [
                "Alabama",
                "Alaska",
                "Arizona",
                "Arkansas",
                "California",
                "Colorado",
                "Connecticut",
                "Delaware",
                "District of Columbia",
                "Florida",
                "Georgia",
                "Hawaii",
                "Idaho",
                "Illinois",
                "Indiana",
                "Iowa",
                "Kansas",
                "Kentucky",
                "Louisiana",
                "Maine",
                "Maryland",
                "Massachusetts",
                "Michigan",
                "Minnesota",
                "Mississippi",
                "Missouri",
                "Montana",
                "Nebraska",
                "Nevada",
                "New Hampshire",
                "New Jersey",
                "New Mexico",
                "New York",
                "North Carolina",
                "North Dakota",
                "Ohio",
                "Oklahoma",
                "Oregon",
                "Pennsylvania",
                "Rhode Island",
                "South Carolina",
                "South Dakota",
                "Tennessee",
                "Texas",
                "Utah",
                "Vermont",
                "Virginia",
                "Washington",
                "West Virginia",
                "Wisconsin",
                "Wyoming",
                "Puerto Rico"
               ]
              ],
              "locations": [
               [
                "AL",
                "AK",
                "AZ",
                "AR",
                "CA",
                "CO",
                "CT",
                "DE",
                "DC",
                "FL",
                "GA",
                "HI",
                "ID",
                "IL",
                "IN",
                "IA",
                "KS",
                "KY",
                "LA",
                "ME",
                "MD",
                "MA",
                "MI",
                "MN",
                "MS",
                "MO",
                "MT",
                "NE",
                "NV",
                "NH",
                "NJ",
                "NM",
                "NY",
                "NC",
                "ND",
                "OH",
                "OK",
                "OR",
                "PA",
                "RI",
                "SC",
                "SD",
                "TN",
                "TX",
                "UT",
                "VT",
                "VA",
                "WA",
                "WV",
                "WI",
                "WY",
                "PR"
               ]
              ],
              "z": [
               [
                103280,
                83420,
                80340,
                72580,
                108520,
                112280,
                99540,
                111300,
                122740,
                88210,
                86550,
                86710,
                73410,
                97680,
                72820,
                82010,
                79130,
                84190,
                75790,
                83060,
                95540,
                100260,
                80130,
                87690,
                85210,
                75100,
                80010,
                79860,
                77180,
                90530,
                108040,
                85980,
                147170,
                101150,
                84830,
                79970,
                72340,
                83880,
                93670,
                95700,
                84740,
                73170,
                76910,
                87660,
                78650,
                102960,
                111150,
                96550,
                63690,
                85210,
                78280,
                53940
               ]
              ]
             },
             [
              0
             ]
            ],
            "label": "Credit Analysts",
            "method": "restyle"
           },
           {
            "args": [
             {
              "hovertext": [
               [
                "Alabama",
                "Alaska",
                "Arizona",
                "Arkansas",
                "California",
                "Colorado",
                "Connecticut",
                "Delaware",
                "District of Columbia",
                "Florida",
                "Georgia",
                "Hawaii",
                "Idaho",
                "Illinois",
                "Indiana",
                "Iowa",
                "Kansas",
                "Kentucky",
                "Louisiana",
                "Maine",
                "Maryland",
                "Massachusetts",
                "Michigan",
                "Minnesota",
                "Mississippi",
                "Missouri",
                "Montana",
                "Nebraska",
                "Nevada",
                "New Hampshire",
                "New Jersey",
                "New Mexico",
                "New York",
                "North Carolina",
                "North Dakota",
                "Ohio",
                "Oklahoma",
                "Oregon",
                "Pennsylvania",
                "Rhode Island",
                "South Carolina",
                "South Dakota",
                "Tennessee",
                "Texas",
                "Utah",
                "Vermont",
                "Virginia",
                "Washington",
                "West Virginia",
                "Wisconsin",
                "Wyoming",
                "Guam",
                "Puerto Rico",
                "Virgin Islands"
               ]
              ],
              "locations": [
               [
                "AL",
                "AK",
                "AZ",
                "AR",
                "CA",
                "CO",
                "CT",
                "DE",
                "DC",
                "FL",
                "GA",
                "HI",
                "ID",
                "IL",
                "IN",
                "IA",
                "KS",
                "KY",
                "LA",
                "ME",
                "MD",
                "MA",
                "MI",
                "MN",
                "MS",
                "MO",
                "MT",
                "NE",
                "NV",
                "NH",
                "NJ",
                "NM",
                "NY",
                "NC",
                "ND",
                "OH",
                "OK",
                "OR",
                "PA",
                "RI",
                "SC",
                "SD",
                "TN",
                "TX",
                "UT",
                "VT",
                "VA",
                "WA",
                "WV",
                "WI",
                "WY",
                "GU",
                "PR",
                "VI"
               ]
              ],
              "z": [
               [
                35050,
                45230,
                44070,
                36760,
                47210,
                48040,
                47480,
                39050,
                57560,
                39620,
                40840,
                null,
                39530,
                42050,
                40770,
                41770,
                37720,
                36430,
                38910,
                45290,
                39970,
                47200,
                39750,
                43400,
                36090,
                43380,
                41310,
                36390,
                40760,
                42380,
                44850,
                43440,
                45770,
                39720,
                null,
                41120,
                36520,
                47230,
                41760,
                46990,
                38170,
                37390,
                40780,
                38980,
                45060,
                43580,
                41430,
                47350,
                36830,
                41620,
                45030,
                27770,
                27620,
                34750
               ]
              ]
             },
             [
              0
             ]
            ],
            "label": "Data Entry Keyers",
            "method": "restyle"
           },
           {
            "args": [
             {
              "hovertext": [
               [
                "Alabama",
                "Alaska",
                "Arizona",
                "Arkansas",
                "California",
                "Colorado",
                "Connecticut",
                "Delaware",
                "District of Columbia",
                "Florida",
                "Georgia",
                "Hawaii",
                "Idaho",
                "Illinois",
                "Indiana",
                "Iowa",
                "Kansas",
                "Kentucky",
                "Louisiana",
                "Maine",
                "Maryland",
                "Massachusetts",
                "Michigan",
                "Minnesota",
                "Mississippi",
                "Missouri",
                "Montana",
                "Nebraska",
                "Nevada",
                "New Hampshire",
                "New Jersey",
                "New Mexico",
                "New York",
                "North Carolina",
                "North Dakota",
                "Ohio",
                "Oklahoma",
                "Oregon",
                "Pennsylvania",
                "Rhode Island",
                "South Carolina",
                "South Dakota",
                "Tennessee",
                "Texas",
                "Utah",
                "Vermont",
                "Virginia",
                "Washington",
                "West Virginia",
                "Wisconsin",
                "Wyoming",
                "Puerto Rico"
               ]
              ],
              "locations": [
               [
                "AL",
                "AK",
                "AZ",
                "AR",
                "CA",
                "CO",
                "CT",
                "DE",
                "DC",
                "FL",
                "GA",
                "HI",
                "ID",
                "IL",
                "IN",
                "IA",
                "KS",
                "KY",
                "LA",
                "ME",
                "MD",
                "MA",
                "MI",
                "MN",
                "MS",
                "MO",
                "MT",
                "NE",
                "NV",
                "NH",
                "NJ",
                "NM",
                "NY",
                "NC",
                "ND",
                "OH",
                "OK",
                "OR",
                "PA",
                "RI",
                "SC",
                "SD",
                "TN",
                "TX",
                "UT",
                "VT",
                "VA",
                "WA",
                "WV",
                "WI",
                "WY",
                "PR"
               ]
              ],
              "z": [
               [
                102970,
                88690,
                112460,
                104560,
                155450,
                118250,
                120270,
                null,
                148170,
                117670,
                111020,
                124530,
                120410,
                119010,
                92620,
                97300,
                107300,
                100410,
                71740,
                101890,
                135370,
                139670,
                102030,
                118110,
                77830,
                95310,
                111490,
                97720,
                98820,
                102230,
                131800,
                86520,
                133450,
                118020,
                94130,
                100260,
                89940,
                124060,
                107450,
                119400,
                96970,
                92460,
                114830,
                114800,
                119640,
                119630,
                132230,
                162730,
                102770,
                105540,
                85480,
                72370
               ]
              ]
             },
             [
              0
             ]
            ],
            "label": "Data Scientists",
            "method": "restyle"
           },
           {
            "args": [
             {
              "hovertext": [
               [
                "Alabama",
                "Alaska",
                "Arizona",
                "Arkansas",
                "California",
                "Colorado",
                "Connecticut",
                "Delaware",
                "District of Columbia",
                "Florida",
                "Georgia",
                "Hawaii",
                "Idaho",
                "Illinois",
                "Indiana",
                "Iowa",
                "Kansas",
                "Kentucky",
                "Louisiana",
                "Maine",
                "Maryland",
                "Massachusetts",
                "Michigan",
                "Minnesota",
                "Mississippi",
                "Missouri",
                "Montana",
                "Nebraska",
                "Nevada",
                "New Hampshire",
                "New Jersey",
                "New Mexico",
                "New York",
                "North Carolina",
                "North Dakota",
                "Ohio",
                "Oklahoma",
                "Oregon",
                "Pennsylvania",
                "Rhode Island",
                "South Carolina",
                "South Dakota",
                "Tennessee",
                "Texas",
                "Utah",
                "Vermont",
                "Virginia",
                "Washington",
                "West Virginia",
                "Wisconsin",
                "Wyoming",
                "Puerto Rico"
               ]
              ],
              "locations": [
               [
                "AL",
                "AK",
                "AZ",
                "AR",
                "CA",
                "CO",
                "CT",
                "DE",
                "DC",
                "FL",
                "GA",
                "HI",
                "ID",
                "IL",
                "IN",
                "IA",
                "KS",
                "KY",
                "LA",
                "ME",
                "MD",
                "MA",
                "MI",
                "MN",
                "MS",
                "MO",
                "MT",
                "NE",
                "NV",
                "NH",
                "NJ",
                "NM",
                "NY",
                "NC",
                "ND",
                "OH",
                "OK",
                "OR",
                "PA",
                "RI",
                "SC",
                "SD",
                "TN",
                "TX",
                "UT",
                "VT",
                "VA",
                "WA",
                "WV",
                "WI",
                "WY",
                "PR"
               ]
              ],
              "z": [
               [
                92930,
                96600,
                97340,
                82780,
                119060,
                115970,
                103400,
                105850,
                120470,
                102900,
                105590,
                97380,
                88440,
                107750,
                85480,
                101500,
                118250,
                86490,
                89230,
                82210,
                124430,
                112090,
                97660,
                101010,
                84830,
                94990,
                83070,
                96080,
                87960,
                109190,
                126670,
                94480,
                113070,
                106140,
                85950,
                96400,
                87430,
                105050,
                105100,
                104100,
                99890,
                87610,
                100650,
                109330,
                105050,
                99980,
                113810,
                118000,
                73530,
                104550,
                73300,
                57950
               ]
              ]
             },
             [
              0
             ]
            ],
            "label": "Database Administrators",
            "method": "restyle"
           },
           {
            "args": [
             {
              "hovertext": [
               [
                "Alabama",
                "Alaska",
                "Arizona",
                "Arkansas",
                "California",
                "Colorado",
                "Connecticut",
                "Delaware",
                "District of Columbia",
                "Florida",
                "Georgia",
                "Hawaii",
                "Idaho",
                "Illinois",
                "Indiana",
                "Iowa",
                "Kansas",
                "Kentucky",
                "Louisiana",
                "Maine",
                "Maryland",
                "Massachusetts",
                "Michigan",
                "Minnesota",
                "Mississippi",
                "Missouri",
                "Montana",
                "Nebraska",
                "Nevada",
                "New Jersey",
                "New Mexico",
                "New York",
                "North Carolina",
                "North Dakota",
                "Ohio",
                "Oklahoma",
                "Oregon",
                "Pennsylvania",
                "Rhode Island",
                "South Carolina",
                "South Dakota",
                "Tennessee",
                "Texas",
                "Utah",
                "Vermont",
                "Virginia",
                "Washington",
                "West Virginia",
                "Wisconsin",
                "Wyoming",
                "Puerto Rico"
               ]
              ],
              "locations": [
               [
                "AL",
                "AK",
                "AZ",
                "AR",
                "CA",
                "CO",
                "CT",
                "DE",
                "DC",
                "FL",
                "GA",
                "HI",
                "ID",
                "IL",
                "IN",
                "IA",
                "KS",
                "KY",
                "LA",
                "ME",
                "MD",
                "MA",
                "MI",
                "MN",
                "MS",
                "MO",
                "MT",
                "NE",
                "NV",
                "NJ",
                "NM",
                "NY",
                "NC",
                "ND",
                "OH",
                "OK",
                "OR",
                "PA",
                "RI",
                "SC",
                "SD",
                "TN",
                "TX",
                "UT",
                "VT",
                "VA",
                "WA",
                "WV",
                "WI",
                "WY",
                "PR"
               ]
              ],
              "z": [
               [
                117510,
                111570,
                135080,
                109380,
                162820,
                152940,
                147910,
                150060,
                158550,
                138280,
                141590,
                150190,
                130240,
                136370,
                132150,
                124910,
                124980,
                110400,
                null,
                134200,
                143020,
                161000,
                117600,
                127730,
                92400,
                112730,
                124500,
                129750,
                124010,
                144260,
                117620,
                137840,
                129750,
                112830,
                133170,
                133880,
                147530,
                130130,
                149350,
                128340,
                121220,
                125840,
                136930,
                134470,
                null,
                null,
                147540,
                132690,
                140770,
                68880,
                78160
               ]
              ]
             },
             [
              0
             ]
            ],
            "label": "Database Architects",
            "method": "restyle"
           },
           {
            "args": [
             {
              "hovertext": [
               [
                "Alabama",
                "Alaska",
                "Arizona",
                "Arkansas",
                "California",
                "Colorado",
                "Connecticut",
                "Delaware",
                "District of Columbia",
                "Florida",
                "Georgia",
                "Hawaii",
                "Idaho",
                "Illinois",
                "Indiana",
                "Iowa",
                "Kansas",
                "Kentucky",
                "Louisiana",
                "Maine",
                "Maryland",
                "Massachusetts",
                "Michigan",
                "Minnesota",
                "Mississippi",
                "Missouri",
                "Montana",
                "Nebraska",
                "Nevada",
                "New Hampshire",
                "New Jersey",
                "New Mexico",
                "New York",
                "North Carolina",
                "North Dakota",
                "Ohio",
                "Oklahoma",
                "Oregon",
                "Pennsylvania",
                "Rhode Island",
                "South Carolina",
                "South Dakota",
                "Tennessee",
                "Texas",
                "Utah",
                "Vermont",
                "Virginia",
                "Washington",
                "West Virginia",
                "Wisconsin",
                "Wyoming",
                "Puerto Rico",
                "Virgin Islands"
               ]
              ],
              "locations": [
               [
                "AL",
                "AK",
                "AZ",
                "AR",
                "CA",
                "CO",
                "CT",
                "DE",
                "DC",
                "FL",
                "GA",
                "HI",
                "ID",
                "IL",
                "IN",
                "IA",
                "KS",
                "KY",
                "LA",
                "ME",
                "MD",
                "MA",
                "MI",
                "MN",
                "MS",
                "MO",
                "MT",
                "NE",
                "NV",
                "NH",
                "NJ",
                "NM",
                "NY",
                "NC",
                "ND",
                "OH",
                "OK",
                "OR",
                "PA",
                "RI",
                "SC",
                "SD",
                "TN",
                "TX",
                "UT",
                "VT",
                "VA",
                "WA",
                "WV",
                "WI",
                "WY",
                "PR",
                "VI"
               ]
              ],
              "z": [
               [
                107880,
                121500,
                107240,
                84440,
                128860,
                118620,
                126040,
                114200,
                128960,
                100630,
                104090,
                89090,
                95230,
                114760,
                92070,
                93550,
                85180,
                79550,
                74680,
                94780,
                114870,
                131500,
                104040,
                108230,
                86760,
                95280,
                110330,
                94360,
                92240,
                95880,
                126100,
                85660,
                147260,
                108010,
                80520,
                105690,
                98960,
                116720,
                101420,
                121040,
                110230,
                null,
                105520,
                102870,
                96930,
                108390,
                116720,
                108630,
                80330,
                103440,
                205160,
                65530,
                83660
               ]
              ]
             },
             [
              0
             ]
            ],
            "label": "Financial and Investment Analysts",
            "method": "restyle"
           },
           {
            "args": [
             {
              "hovertext": [
               [
                "Alabama",
                "Alaska",
                "Arizona",
                "Arkansas",
                "California",
                "Colorado",
                "Connecticut",
                "Delaware",
                "District of Columbia",
                "Florida",
                "Georgia",
                "Hawaii",
                "Idaho",
                "Illinois",
                "Indiana",
                "Iowa",
                "Kansas",
                "Kentucky",
                "Louisiana",
                "Maine",
                "Maryland",
                "Massachusetts",
                "Michigan",
                "Minnesota",
                "Mississippi",
                "Missouri",
                "Montana",
                "Nebraska",
                "Nevada",
                "New Hampshire",
                "New Jersey",
                "New Mexico",
                "New York",
                "North Carolina",
                "North Dakota",
                "Ohio",
                "Oklahoma",
                "Oregon",
                "Pennsylvania",
                "Rhode Island",
                "South Carolina",
                "South Dakota",
                "Tennessee",
                "Texas",
                "Utah",
                "Vermont",
                "Virginia",
                "Washington",
                "West Virginia",
                "Wisconsin",
                "Wyoming",
                "Puerto Rico"
               ]
              ],
              "locations": [
               [
                "AL",
                "AK",
                "AZ",
                "AR",
                "CA",
                "CO",
                "CT",
                "DE",
                "DC",
                "FL",
                "GA",
                "HI",
                "ID",
                "IL",
                "IN",
                "IA",
                "KS",
                "KY",
                "LA",
                "ME",
                "MD",
                "MA",
                "MI",
                "MN",
                "MS",
                "MO",
                "MT",
                "NE",
                "NV",
                "NH",
                "NJ",
                "NM",
                "NY",
                "NC",
                "ND",
                "OH",
                "OK",
                "OR",
                "PA",
                "RI",
                "SC",
                "SD",
                "TN",
                "TX",
                "UT",
                "VT",
                "VA",
                "WA",
                "WV",
                "WI",
                "WY",
                "PR"
               ]
              ],
              "z": [
               [
                112800,
                111900,
                123780,
                96080,
                152640,
                135980,
                127740,
                130860,
                132790,
                117500,
                126380,
                128310,
                145880,
                119540,
                91740,
                116710,
                100850,
                102820,
                101280,
                99420,
                145450,
                129350,
                107630,
                126150,
                89910,
                107250,
                99560,
                103310,
                111340,
                128040,
                141130,
                131220,
                139540,
                122310,
                101200,
                115600,
                92390,
                132430,
                114870,
                117010,
                null,
                104120,
                111840,
                126800,
                101430,
                95800,
                136680,
                144140,
                103770,
                106260,
                122570,
                62190
               ]
              ]
             },
             [
              0
             ]
            ],
            "label": "Information Security Analysts",
            "method": "restyle"
           },
           {
            "args": [
             {
              "hovertext": [
               [
                "Alabama",
                "Alaska",
                "Arizona",
                "Arkansas",
                "California",
                "Colorado",
                "Connecticut",
                "Delaware",
                "District of Columbia",
                "Florida",
                "Georgia",
                "Hawaii",
                "Idaho",
                "Illinois",
                "Indiana",
                "Iowa",
                "Kansas",
                "Kentucky",
                "Louisiana",
                "Maine",
                "Maryland",
                "Massachusetts",
                "Michigan",
                "Minnesota",
                "Mississippi",
                "Missouri",
                "Montana",
                "Nebraska",
                "Nevada",
                "New Hampshire",
                "New Jersey",
                "New Mexico",
                "New York",
                "North Carolina",
                "North Dakota",
                "Ohio",
                "Oklahoma",
                "Oregon",
                "Pennsylvania",
                "Rhode Island",
                "South Carolina",
                "South Dakota",
                "Tennessee",
                "Texas",
                "Utah",
                "Vermont",
                "Virginia",
                "Washington",
                "West Virginia",
                "Wisconsin",
                "Wyoming",
                "Guam",
                "Puerto Rico",
                "Virgin Islands"
               ]
              ],
              "locations": [
               [
                "AL",
                "AK",
                "AZ",
                "AR",
                "CA",
                "CO",
                "CT",
                "DE",
                "DC",
                "FL",
                "GA",
                "HI",
                "ID",
                "IL",
                "IN",
                "IA",
                "KS",
                "KY",
                "LA",
                "ME",
                "MD",
                "MA",
                "MI",
                "MN",
                "MS",
                "MO",
                "MT",
                "NE",
                "NV",
                "NH",
                "NJ",
                "NM",
                "NY",
                "NC",
                "ND",
                "OH",
                "OK",
                "OR",
                "PA",
                "RI",
                "SC",
                "SD",
                "TN",
                "TX",
                "UT",
                "VT",
                "VA",
                "WA",
                "WV",
                "WI",
                "WY",
                "GU",
                "PR",
                "VI"
               ]
              ],
              "z": [
               [
                111280,
                107310,
                117750,
                80610,
                120410,
                116450,
                120670,
                107720,
                127540,
                98630,
                null,
                98350,
                95070,
                123900,
                102060,
                88840,
                88230,
                93360,
                106420,
                92730,
                124430,
                147330,
                103930,
                110810,
                88590,
                108950,
                87290,
                91750,
                106490,
                117180,
                119130,
                90440,
                124510,
                106830,
                88880,
                94320,
                95320,
                109090,
                99540,
                102370,
                104240,
                86410,
                102350,
                107550,
                null,
                121870,
                123280,
                124240,
                97740,
                110500,
                127420,
                75770,
                68700,
                84500
               ]
              ]
             },
             [
              0
             ]
            ],
            "label": "Management Analysts",
            "method": "restyle"
           },
           {
            "args": [
             {
              "hovertext": [
               [
                "Alabama",
                "Alaska",
                "Arizona",
                "Arkansas",
                "California",
                "Colorado",
                "Connecticut",
                "Delaware",
                "District of Columbia",
                "Florida",
                "Georgia",
                "Hawaii",
                "Idaho",
                "Illinois",
                "Indiana",
                "Iowa",
                "Kansas",
                "Kentucky",
                "Louisiana",
                "Maine",
                "Maryland",
                "Massachusetts",
                "Michigan",
                "Minnesota",
                "Mississippi",
                "Missouri",
                "Montana",
                "Nebraska",
                "Nevada",
                "New Hampshire",
                "New Jersey",
                "New Mexico",
                "New York",
                "North Carolina",
                "North Dakota",
                "Ohio",
                "Oklahoma",
                "Oregon",
                "Pennsylvania",
                "Rhode Island",
                "South Carolina",
                "South Dakota",
                "Tennessee",
                "Texas",
                "Utah",
                "Vermont",
                "Virginia",
                "Washington",
                "West Virginia",
                "Wisconsin",
                "Wyoming",
                "Guam",
                "Puerto Rico",
                "Virgin Islands"
               ]
              ],
              "locations": [
               [
                "AL",
                "AK",
                "AZ",
                "AR",
                "CA",
                "CO",
                "CT",
                "DE",
                "DC",
                "FL",
                "GA",
                "HI",
                "ID",
                "IL",
                "IN",
                "IA",
                "KS",
                "KY",
                "LA",
                "ME",
                "MD",
                "MA",
                "MI",
                "MN",
                "MS",
                "MO",
                "MT",
                "NE",
                "NV",
                "NH",
                "NJ",
                "NM",
                "NY",
                "NC",
                "ND",
                "OH",
                "OK",
                "OR",
                "PA",
                "RI",
                "SC",
                "SD",
                "TN",
                "TX",
                "UT",
                "VT",
                "VA",
                "WA",
                "WV",
                "WI",
                "WY",
                "GU",
                "PR",
                "VI"
               ]
              ],
              "z": [
               [
                66840,
                68720,
                75390,
                75160,
                106780,
                93310,
                80340,
                101290,
                99870,
                82650,
                83680,
                69170,
                64940,
                80300,
                71760,
                75600,
                71410,
                66330,
                64300,
                74730,
                80360,
                99910,
                76170,
                89940,
                56680,
                73810,
                72630,
                63610,
                72790,
                74520,
                93780,
                63880,
                99650,
                85760,
                66990,
                76460,
                69770,
                92370,
                74340,
                80100,
                78210,
                69160,
                73380,
                75210,
                72230,
                76980,
                91410,
                105800,
                57730,
                72680,
                61490,
                47230,
                43240,
                49790
               ]
              ]
             },
             [
              0
             ]
            ],
            "label": "Market Research Analysts and Marketing Specialists",
            "method": "restyle"
           },
           {
            "args": [
             {
              "hovertext": [
               [
                "Alabama",
                "Alaska",
                "Arizona",
                "Arkansas",
                "California",
                "Colorado",
                "Connecticut",
                "Delaware",
                "District of Columbia",
                "Florida",
                "Georgia",
                "Hawaii",
                "Idaho",
                "Illinois",
                "Indiana",
                "Iowa",
                "Kansas",
                "Kentucky",
                "Louisiana",
                "Maine",
                "Maryland",
                "Massachusetts",
                "Michigan",
                "Minnesota",
                "Mississippi",
                "Missouri",
                "Montana",
                "Nebraska",
                "Nevada",
                "New Hampshire",
                "New Jersey",
                "New Mexico",
                "New York",
                "North Carolina",
                "North Dakota",
                "Ohio",
                "Oklahoma",
                "Oregon",
                "Pennsylvania",
                "Rhode Island",
                "South Carolina",
                "Tennessee",
                "Texas",
                "Utah",
                "Vermont",
                "Virginia",
                "Washington",
                "West Virginia",
                "Wisconsin",
                "Puerto Rico"
               ]
              ],
              "locations": [
               [
                "AL",
                "AK",
                "AZ",
                "AR",
                "CA",
                "CO",
                "CT",
                "DE",
                "DC",
                "FL",
                "GA",
                "HI",
                "ID",
                "IL",
                "IN",
                "IA",
                "KS",
                "KY",
                "LA",
                "ME",
                "MD",
                "MA",
                "MI",
                "MN",
                "MS",
                "MO",
                "MT",
                "NE",
                "NV",
                "NH",
                "NJ",
                "NM",
                "NY",
                "NC",
                "ND",
                "OH",
                "OK",
                "OR",
                "PA",
                "RI",
                "SC",
                "TN",
                "TX",
                "UT",
                "VT",
                "VA",
                "WA",
                "WV",
                "WI",
                "PR"
               ]
              ],
              "z": [
               [
                118370,
                102840,
                86510,
                75670,
                108220,
                109360,
                96720,
                103380,
                123890,
                84420,
                81560,
                100090,
                86030,
                110230,
                92040,
                89480,
                99860,
                88980,
                70970,
                94740,
                106230,
                98830,
                95200,
                97620,
                86390,
                66330,
                75230,
                96790,
                93880,
                92380,
                111990,
                91340,
                117110,
                98910,
                81460,
                101160,
                63790,
                101650,
                85490,
                109570,
                82120,
                83020,
                101100,
                84840,
                104040,
                122680,
                105680,
                75510,
                78880,
                69040
               ]
              ]
             },
             [
              0
             ]
            ],
            "label": "Operations Research Analysts",
            "method": "restyle"
           },
           {
            "args": [
             {
              "hovertext": [
               [
                "Alabama",
                "Alaska",
                "Arizona",
                "California",
                "Colorado",
                "Connecticut",
                "Delaware",
                "District of Columbia",
                "Florida",
                "Georgia",
                "Hawaii",
                "Idaho",
                "Illinois",
                "Indiana",
                "Iowa",
                "Kansas",
                "Kentucky",
                "Louisiana",
                "Maine",
                "Maryland",
                "Massachusetts",
                "Michigan",
                "Minnesota",
                "Mississippi",
                "Missouri",
                "Montana",
                "Nebraska",
                "Nevada",
                "New Hampshire",
                "New Jersey",
                "New Mexico",
                "New York",
                "North Carolina",
                "North Dakota",
                "Ohio",
                "Oklahoma",
                "Oregon",
                "Pennsylvania",
                "Rhode Island",
                "South Carolina",
                "South Dakota",
                "Tennessee",
                "Texas",
                "Utah",
                "Vermont",
                "Virginia",
                "Washington",
                "West Virginia",
                "Wisconsin",
                "Puerto Rico"
               ]
              ],
              "locations": [
               [
                "AL",
                "AK",
                "AZ",
                "CA",
                "CO",
                "CT",
                "DE",
                "DC",
                "FL",
                "GA",
                "HI",
                "ID",
                "IL",
                "IN",
                "IA",
                "KS",
                "KY",
                "LA",
                "ME",
                "MD",
                "MA",
                "MI",
                "MN",
                "MS",
                "MO",
                "MT",
                "NE",
                "NV",
                "NH",
                "NJ",
                "NM",
                "NY",
                "NC",
                "ND",
                "OH",
                "OK",
                "OR",
                "PA",
                "RI",
                "SC",
                "SD",
                "TN",
                "TX",
                "UT",
                "VT",
                "VA",
                "WA",
                "WV",
                "WI",
                "PR"
               ]
              ],
              "z": [
               [
                103760,
                102280,
                104440,
                130250,
                116410,
                101750,
                113060,
                108750,
                99200,
                96500,
                102190,
                100950,
                102550,
                92330,
                90600,
                86940,
                80440,
                62800,
                82980,
                122300,
                112190,
                96810,
                107850,
                80130,
                80440,
                100840,
                90740,
                101170,
                109120,
                118210,
                126740,
                120360,
                103090,
                84520,
                90190,
                70860,
                112300,
                94440,
                98790,
                92140,
                65610,
                87720,
                105700,
                116800,
                85770,
                124540,
                130110,
                67610,
                86930,
                58540
               ]
              ]
             },
             [
              0
             ]
            ],
            "label": "Software Quality Assurance Analysts and Testers",
            "method": "restyle"
           }
          ],
          "direction": "down",
          "showactive": true,
          "x": 0.02,
          "xanchor": "left",
          "y": 1.05,
          "yanchor": "top"
         }
        ]
       }
      }
     },
     "metadata": {},
     "output_type": "display_data"
    }
   ],
   "source": [
    "# --- Choropleth with role dropdown ---\n",
    "# Build one frame per role for animation OR use dropdown filtering\n",
    "roles = data_roles_cleaned_df['occ_title'].sort_values().unique().tolist()\n",
    "\n",
    "fig_map = px.choropleth(\n",
    "    data_roles_cleaned_df[data_roles_cleaned_df['occ_title'] == roles[0]],\n",
    "    locations='prim_state',\n",
    "    locationmode='USA-states',\n",
    "    color='a_mean',\n",
    "    color_continuous_scale='RdYlGn',\n",
    "    scope='usa',\n",
    "    hover_name='area_title',\n",
    "    hover_data={'prim_state': True, 'a_mean': ':.0f'},\n",
    "    title=f\"Average annual wage by state\"\n",
    ")\n",
    "\n",
    "# Add dropdown to switch role\n",
    "dropdown_buttons = []\n",
    "for r in roles:\n",
    "    filtered = data_roles_cleaned_df[data_roles_cleaned_df['occ_title'] == r]\n",
    "    dropdown_buttons.append({\n",
    "        'label': r,\n",
    "        'method': 'restyle',\n",
    "        'args': [{'z':[filtered['a_mean']],\n",
    "                  'locations':[filtered['prim_state']],\n",
    "                  'hovertext':[filtered['area_title']]},\n",
    "                 [0]]  # trace index 0\n",
    "    })\n",
    "\n",
    "fig_map.update_layout(\n",
    "    updatemenus=[{\n",
    "        'buttons': dropdown_buttons,\n",
    "        'direction': 'down',\n",
    "        'x': 0.02, 'y': 1.05,\n",
    "        'xanchor': 'left', 'yanchor': 'top',\n",
    "        'showactive': True\n",
    "    }],\n",
    "    coloraxis_colorbar=dict(title=\"Avg wage ($)\")\n",
    ")\n",
    "\n",
    "fig_map.show()"
   ]
  },
  {
   "cell_type": "markdown",
   "id": "64186a85",
   "metadata": {},
   "source": [
    "## Weighted Annual Average Wage by State\n",
    "\n",
    "Lastly, we will examine how the average annual wage compares across states. Since we are given total employment counts, our sample sizes vary significantly between states. To account for this and make a fairer comparison, we will use a weighted average. When we look at these weighted averages, we can see that states such as **Washington, California, and New York** have some of the highest wages across all the roles analyzed.\n",
    "\n",
    "In conclusion, living in these states generally allows individuals to earn some of the highest potential wages, regardless of their specific role. However, as noted earlier, roles with titles such as **Database Architect** tend to provide the highest average wages overall. It is important to note that while these states offer strong compensation, they are also considered high cost-of-living regions, meaning wages often reflect those economic disparities compared to states that pay significantly less."
   ]
  },
  {
   "cell_type": "code",
   "execution_count": 19,
   "id": "f5933e1d",
   "metadata": {},
   "outputs": [
    {
     "name": "stderr",
     "output_type": "stream",
     "text": [
      "/var/folders/c3/xzrx9_vx26s_2c8n5tm5sggm0000gn/T/ipykernel_89492/2457295063.py:9: DeprecationWarning:\n",
      "\n",
      "DataFrameGroupBy.apply operated on the grouping columns. This behavior is deprecated, and in a future version of pandas the grouping columns will be excluded from the operation. Either pass `include_groups=False` to exclude the groupings or explicitly select the grouping columns after groupby to silence this warning.\n",
      "\n"
     ]
    },
    {
     "data": {
      "text/html": [
       "<div>\n",
       "<style scoped>\n",
       "    .dataframe tbody tr th:only-of-type {\n",
       "        vertical-align: middle;\n",
       "    }\n",
       "\n",
       "    .dataframe tbody tr th {\n",
       "        vertical-align: top;\n",
       "    }\n",
       "\n",
       "    .dataframe thead th {\n",
       "        text-align: right;\n",
       "    }\n",
       "</style>\n",
       "<table border=\"1\" class=\"dataframe\">\n",
       "  <thead>\n",
       "    <tr style=\"text-align: right;\">\n",
       "      <th></th>\n",
       "      <th>prim_state</th>\n",
       "      <th>weighted_a_mean</th>\n",
       "      <th>weighted_h_mean</th>\n",
       "      <th>total_emp</th>\n",
       "      <th>occupations_count</th>\n",
       "    </tr>\n",
       "  </thead>\n",
       "  <tbody>\n",
       "    <tr>\n",
       "      <th>0</th>\n",
       "      <td>AK</td>\n",
       "      <td>91715.895522</td>\n",
       "      <td>44.094590</td>\n",
       "      <td>2680.0</td>\n",
       "      <td>13.0</td>\n",
       "    </tr>\n",
       "    <tr>\n",
       "      <th>1</th>\n",
       "      <td>AL</td>\n",
       "      <td>95901.612447</td>\n",
       "      <td>46.106399</td>\n",
       "      <td>35350.0</td>\n",
       "      <td>13.0</td>\n",
       "    </tr>\n",
       "    <tr>\n",
       "      <th>2</th>\n",
       "      <td>AR</td>\n",
       "      <td>76863.956762</td>\n",
       "      <td>36.951855</td>\n",
       "      <td>19890.0</td>\n",
       "      <td>12.0</td>\n",
       "    </tr>\n",
       "    <tr>\n",
       "      <th>3</th>\n",
       "      <td>AZ</td>\n",
       "      <td>98357.002421</td>\n",
       "      <td>47.286322</td>\n",
       "      <td>74360.0</td>\n",
       "      <td>13.0</td>\n",
       "    </tr>\n",
       "    <tr>\n",
       "      <th>4</th>\n",
       "      <td>CA</td>\n",
       "      <td>121724.295203</td>\n",
       "      <td>58.521977</td>\n",
       "      <td>474250.0</td>\n",
       "      <td>13.0</td>\n",
       "    </tr>\n",
       "  </tbody>\n",
       "</table>\n",
       "</div>"
      ],
      "text/plain": [
       "  prim_state  weighted_a_mean  weighted_h_mean  total_emp  occupations_count\n",
       "0         AK     91715.895522        44.094590     2680.0               13.0\n",
       "1         AL     95901.612447        46.106399    35350.0               13.0\n",
       "2         AR     76863.956762        36.951855    19890.0               12.0\n",
       "3         AZ     98357.002421        47.286322    74360.0               13.0\n",
       "4         CA    121724.295203        58.521977   474250.0               13.0"
      ]
     },
     "execution_count": 19,
     "metadata": {},
     "output_type": "execute_result"
    }
   ],
   "source": [
    "def safe_weighted_avg(values, weights):\n",
    "    # Drop NaNs from both values and weights before computing\n",
    "    mask = ~np.isnan(values) & ~np.isnan(weights)\n",
    "    if mask.sum() == 0:\n",
    "        return np.nan\n",
    "    return np.average(values[mask], weights=weights[mask])\n",
    "\n",
    "weighted_by_state = (\n",
    "    data_roles_cleaned_df\n",
    "      .groupby(\"prim_state\", as_index=False)\n",
    "      .apply(lambda g: pd.Series({\n",
    "          \"weighted_a_mean\": safe_weighted_avg(g[\"a_mean\"].values, g[\"tot_emp\"].values),\n",
    "          \"weighted_h_mean\": safe_weighted_avg(g[\"h_mean\"].values, g[\"tot_emp\"].values),\n",
    "          \"total_emp\": np.nansum(g[\"tot_emp\"].values),\n",
    "          \"occupations_count\": g[\"occ_title\"].nunique()\n",
    "      }))\n",
    "      .reset_index(drop=True)\n",
    ")\n",
    "\n",
    "weighted_by_state.head()"
   ]
  },
  {
   "cell_type": "code",
   "execution_count": 20,
   "id": "09211d39",
   "metadata": {},
   "outputs": [
    {
     "data": {
      "application/vnd.plotly.v1+json": {
       "config": {
        "plotlyServerURL": "https://plot.ly"
       },
       "data": [
        {
         "coloraxis": "coloraxis",
         "customdata": [
          [
           "Alaska",
           2680
          ],
          [
           "Alabama",
           35350
          ],
          [
           "Arkansas",
           19890
          ],
          [
           "Arizona",
           74360
          ],
          [
           "California",
           474250
          ],
          [
           "Colorado",
           88250
          ],
          [
           "Connecticut",
           37210
          ],
          [
           null,
           43330
          ],
          [
           "Delaware",
           17920
          ],
          [
           "Florida",
           251390
          ],
          [
           "Georgia",
           128900
          ],
          [
           null,
           410
          ],
          [
           "Hawaii",
           8400
          ],
          [
           "Iowa",
           27590
          ],
          [
           "Idaho",
           13530
          ],
          [
           "Illinois",
           157650
          ],
          [
           "Indiana",
           53050
          ],
          [
           "Kansas",
           25970
          ],
          [
           "Kentucky",
           26240
          ],
          [
           "Louisiana",
           19630
          ],
          [
           "Massachusetts",
           138990
          ],
          [
           "Maryland",
           87450
          ],
          [
           "Maine",
           10220
          ],
          [
           "Michigan",
           81870
          ],
          [
           "Minnesota",
           78590
          ],
          [
           "Missouri",
           54990
          ],
          [
           "Mississippi",
           11980
          ],
          [
           "Montana",
           6340
          ],
          [
           "North Carolina",
           129170
          ],
          [
           "North Dakota",
           5040
          ],
          [
           "Nebraska",
           17660
          ],
          [
           "New Hampshire",
           14280
          ],
          [
           "New Jersey",
           105410
          ],
          [
           "New Mexico",
           13670
          ],
          [
           "Nevada",
           21190
          ],
          [
           "New York",
           283050
          ],
          [
           "Ohio",
           107990
          ],
          [
           "Oklahoma",
           28390
          ],
          [
           "Oregon",
           45730
          ],
          [
           "Pennsylvania",
           123690
          ],
          [
           null,
           12030
          ],
          [
           "Rhode Island",
           13750
          ],
          [
           "South Carolina",
           41660
          ],
          [
           "South Dakota",
           8040
          ],
          [
           "Tennessee",
           55260
          ],
          [
           "Texas",
           298810
          ],
          [
           "Utah",
           44820
          ],
          [
           "Virginia",
           181600
          ],
          [
           null,
           410
          ],
          [
           "Vermont",
           3950
          ],
          [
           "Washington",
           112790
          ],
          [
           "Wisconsin",
           61310
          ],
          [
           "West Virginia",
           7450
          ],
          [
           "Wyoming",
           2320
          ]
         ],
         "geo": "geo",
         "hovertemplate": "<b>%{customdata[0]}</b><br>Weighted Avg: $%{z:,.0f}<br>Total employment: %{customdata[1]:,}<extra></extra>",
         "locationmode": "USA-states",
         "locations": [
          "AK",
          "AL",
          "AR",
          "AZ",
          "CA",
          "CO",
          "CT",
          "DC",
          "DE",
          "FL",
          "GA",
          "GU",
          "HI",
          "IA",
          "ID",
          "IL",
          "IN",
          "KS",
          "KY",
          "LA",
          "MA",
          "MD",
          "ME",
          "MI",
          "MN",
          "MO",
          "MS",
          "MT",
          "NC",
          "ND",
          "NE",
          "NH",
          "NJ",
          "NM",
          "NV",
          "NY",
          "OH",
          "OK",
          "OR",
          "PA",
          "PR",
          "RI",
          "SC",
          "SD",
          "TN",
          "TX",
          "UT",
          "VA",
          "VI",
          "VT",
          "WA",
          "WI",
          "WV",
          "WY"
         ],
         "name": "",
         "type": "choropleth",
         "z": {
          "bdata": "mUgPVD5k9kC2LpXM2Wn3QE/f5U7/w/JA+D3qCVAD+EAKuya5xLf9QCcKMpuK2fpAkaRo193u+UCT762AloH+QIhKR/ZsEfpAB+6GypBg90ArJhcg5br3QHclaldiputA1g2myHfy9kAoDJu/uSz1QN898d3TSPVA0fBK1S01+UCGRBQ821n1QEKUoCeW0fRAZHA+hsQZ9EBpbSlp+V3zQL6SA/oO3f1ABxOGvLj1+0CHDRs2vI72QH2IaaNCn/ZAj/C9Y64r+UCD5dpGauH1QPZA2GpqofJAW7v4vP7R9EBA1RhPZQb5QHGi8rSQJfRALlF428m+9EDU+EHUADH3QGEC1mTorvtAaUlIsljC9kCJeV5+xpf2QE5SNHfEKP1AElKm6FZM9kDwdo8fLg70QK3G/9NZ3vlAmPE3IUs/9kAuvd1al5/qQIFXFnhFIvlAamw+JB3Q9kCYIp9168X0QJ2sC0YEIPZALTj7nTjx90DbmxiYz/z1QJSzo7LjyfxA+hicjwHt7UCkQRqkccb3QAa7MJOlBf5Abo9XtZMm9kBU0zGXKKXzQKgRlnuGy/ZA",
          "dtype": "f8"
         }
        }
       ],
       "layout": {
        "coloraxis": {
         "colorbar": {
          "title": {
           "text": "Weighted Avg. ($)"
          }
         },
         "colorscale": [
          [
           0,
           "rgb(165,0,38)"
          ],
          [
           0.1,
           "rgb(215,48,39)"
          ],
          [
           0.2,
           "rgb(244,109,67)"
          ],
          [
           0.3,
           "rgb(253,174,97)"
          ],
          [
           0.4,
           "rgb(254,224,139)"
          ],
          [
           0.5,
           "rgb(255,255,191)"
          ],
          [
           0.6,
           "rgb(217,239,139)"
          ],
          [
           0.7,
           "rgb(166,217,106)"
          ],
          [
           0.8,
           "rgb(102,189,99)"
          ],
          [
           0.9,
           "rgb(26,152,80)"
          ],
          [
           1,
           "rgb(0,104,55)"
          ]
         ]
        },
        "geo": {
         "center": {},
         "domain": {
          "x": [
           0,
           1
          ],
          "y": [
           0,
           1
          ]
         },
         "scope": "usa"
        },
        "legend": {
         "tracegroupgap": 0
        },
        "margin": {
         "t": 60
        },
        "template": {
         "data": {
          "bar": [
           {
            "error_x": {
             "color": "#2a3f5f"
            },
            "error_y": {
             "color": "#2a3f5f"
            },
            "marker": {
             "line": {
              "color": "#E5ECF6",
              "width": 0.5
             },
             "pattern": {
              "fillmode": "overlay",
              "size": 10,
              "solidity": 0.2
             }
            },
            "type": "bar"
           }
          ],
          "barpolar": [
           {
            "marker": {
             "line": {
              "color": "#E5ECF6",
              "width": 0.5
             },
             "pattern": {
              "fillmode": "overlay",
              "size": 10,
              "solidity": 0.2
             }
            },
            "type": "barpolar"
           }
          ],
          "carpet": [
           {
            "aaxis": {
             "endlinecolor": "#2a3f5f",
             "gridcolor": "white",
             "linecolor": "white",
             "minorgridcolor": "white",
             "startlinecolor": "#2a3f5f"
            },
            "baxis": {
             "endlinecolor": "#2a3f5f",
             "gridcolor": "white",
             "linecolor": "white",
             "minorgridcolor": "white",
             "startlinecolor": "#2a3f5f"
            },
            "type": "carpet"
           }
          ],
          "choropleth": [
           {
            "colorbar": {
             "outlinewidth": 0,
             "ticks": ""
            },
            "type": "choropleth"
           }
          ],
          "contour": [
           {
            "colorbar": {
             "outlinewidth": 0,
             "ticks": ""
            },
            "colorscale": [
             [
              0,
              "#0d0887"
             ],
             [
              0.1111111111111111,
              "#46039f"
             ],
             [
              0.2222222222222222,
              "#7201a8"
             ],
             [
              0.3333333333333333,
              "#9c179e"
             ],
             [
              0.4444444444444444,
              "#bd3786"
             ],
             [
              0.5555555555555556,
              "#d8576b"
             ],
             [
              0.6666666666666666,
              "#ed7953"
             ],
             [
              0.7777777777777778,
              "#fb9f3a"
             ],
             [
              0.8888888888888888,
              "#fdca26"
             ],
             [
              1,
              "#f0f921"
             ]
            ],
            "type": "contour"
           }
          ],
          "contourcarpet": [
           {
            "colorbar": {
             "outlinewidth": 0,
             "ticks": ""
            },
            "type": "contourcarpet"
           }
          ],
          "heatmap": [
           {
            "colorbar": {
             "outlinewidth": 0,
             "ticks": ""
            },
            "colorscale": [
             [
              0,
              "#0d0887"
             ],
             [
              0.1111111111111111,
              "#46039f"
             ],
             [
              0.2222222222222222,
              "#7201a8"
             ],
             [
              0.3333333333333333,
              "#9c179e"
             ],
             [
              0.4444444444444444,
              "#bd3786"
             ],
             [
              0.5555555555555556,
              "#d8576b"
             ],
             [
              0.6666666666666666,
              "#ed7953"
             ],
             [
              0.7777777777777778,
              "#fb9f3a"
             ],
             [
              0.8888888888888888,
              "#fdca26"
             ],
             [
              1,
              "#f0f921"
             ]
            ],
            "type": "heatmap"
           }
          ],
          "histogram": [
           {
            "marker": {
             "pattern": {
              "fillmode": "overlay",
              "size": 10,
              "solidity": 0.2
             }
            },
            "type": "histogram"
           }
          ],
          "histogram2d": [
           {
            "colorbar": {
             "outlinewidth": 0,
             "ticks": ""
            },
            "colorscale": [
             [
              0,
              "#0d0887"
             ],
             [
              0.1111111111111111,
              "#46039f"
             ],
             [
              0.2222222222222222,
              "#7201a8"
             ],
             [
              0.3333333333333333,
              "#9c179e"
             ],
             [
              0.4444444444444444,
              "#bd3786"
             ],
             [
              0.5555555555555556,
              "#d8576b"
             ],
             [
              0.6666666666666666,
              "#ed7953"
             ],
             [
              0.7777777777777778,
              "#fb9f3a"
             ],
             [
              0.8888888888888888,
              "#fdca26"
             ],
             [
              1,
              "#f0f921"
             ]
            ],
            "type": "histogram2d"
           }
          ],
          "histogram2dcontour": [
           {
            "colorbar": {
             "outlinewidth": 0,
             "ticks": ""
            },
            "colorscale": [
             [
              0,
              "#0d0887"
             ],
             [
              0.1111111111111111,
              "#46039f"
             ],
             [
              0.2222222222222222,
              "#7201a8"
             ],
             [
              0.3333333333333333,
              "#9c179e"
             ],
             [
              0.4444444444444444,
              "#bd3786"
             ],
             [
              0.5555555555555556,
              "#d8576b"
             ],
             [
              0.6666666666666666,
              "#ed7953"
             ],
             [
              0.7777777777777778,
              "#fb9f3a"
             ],
             [
              0.8888888888888888,
              "#fdca26"
             ],
             [
              1,
              "#f0f921"
             ]
            ],
            "type": "histogram2dcontour"
           }
          ],
          "mesh3d": [
           {
            "colorbar": {
             "outlinewidth": 0,
             "ticks": ""
            },
            "type": "mesh3d"
           }
          ],
          "parcoords": [
           {
            "line": {
             "colorbar": {
              "outlinewidth": 0,
              "ticks": ""
             }
            },
            "type": "parcoords"
           }
          ],
          "pie": [
           {
            "automargin": true,
            "type": "pie"
           }
          ],
          "scatter": [
           {
            "fillpattern": {
             "fillmode": "overlay",
             "size": 10,
             "solidity": 0.2
            },
            "type": "scatter"
           }
          ],
          "scatter3d": [
           {
            "line": {
             "colorbar": {
              "outlinewidth": 0,
              "ticks": ""
             }
            },
            "marker": {
             "colorbar": {
              "outlinewidth": 0,
              "ticks": ""
             }
            },
            "type": "scatter3d"
           }
          ],
          "scattercarpet": [
           {
            "marker": {
             "colorbar": {
              "outlinewidth": 0,
              "ticks": ""
             }
            },
            "type": "scattercarpet"
           }
          ],
          "scattergeo": [
           {
            "marker": {
             "colorbar": {
              "outlinewidth": 0,
              "ticks": ""
             }
            },
            "type": "scattergeo"
           }
          ],
          "scattergl": [
           {
            "marker": {
             "colorbar": {
              "outlinewidth": 0,
              "ticks": ""
             }
            },
            "type": "scattergl"
           }
          ],
          "scattermap": [
           {
            "marker": {
             "colorbar": {
              "outlinewidth": 0,
              "ticks": ""
             }
            },
            "type": "scattermap"
           }
          ],
          "scattermapbox": [
           {
            "marker": {
             "colorbar": {
              "outlinewidth": 0,
              "ticks": ""
             }
            },
            "type": "scattermapbox"
           }
          ],
          "scatterpolar": [
           {
            "marker": {
             "colorbar": {
              "outlinewidth": 0,
              "ticks": ""
             }
            },
            "type": "scatterpolar"
           }
          ],
          "scatterpolargl": [
           {
            "marker": {
             "colorbar": {
              "outlinewidth": 0,
              "ticks": ""
             }
            },
            "type": "scatterpolargl"
           }
          ],
          "scatterternary": [
           {
            "marker": {
             "colorbar": {
              "outlinewidth": 0,
              "ticks": ""
             }
            },
            "type": "scatterternary"
           }
          ],
          "surface": [
           {
            "colorbar": {
             "outlinewidth": 0,
             "ticks": ""
            },
            "colorscale": [
             [
              0,
              "#0d0887"
             ],
             [
              0.1111111111111111,
              "#46039f"
             ],
             [
              0.2222222222222222,
              "#7201a8"
             ],
             [
              0.3333333333333333,
              "#9c179e"
             ],
             [
              0.4444444444444444,
              "#bd3786"
             ],
             [
              0.5555555555555556,
              "#d8576b"
             ],
             [
              0.6666666666666666,
              "#ed7953"
             ],
             [
              0.7777777777777778,
              "#fb9f3a"
             ],
             [
              0.8888888888888888,
              "#fdca26"
             ],
             [
              1,
              "#f0f921"
             ]
            ],
            "type": "surface"
           }
          ],
          "table": [
           {
            "cells": {
             "fill": {
              "color": "#EBF0F8"
             },
             "line": {
              "color": "white"
             }
            },
            "header": {
             "fill": {
              "color": "#C8D4E3"
             },
             "line": {
              "color": "white"
             }
            },
            "type": "table"
           }
          ]
         },
         "layout": {
          "annotationdefaults": {
           "arrowcolor": "#2a3f5f",
           "arrowhead": 0,
           "arrowwidth": 1
          },
          "autotypenumbers": "strict",
          "coloraxis": {
           "colorbar": {
            "outlinewidth": 0,
            "ticks": ""
           }
          },
          "colorscale": {
           "diverging": [
            [
             0,
             "#8e0152"
            ],
            [
             0.1,
             "#c51b7d"
            ],
            [
             0.2,
             "#de77ae"
            ],
            [
             0.3,
             "#f1b6da"
            ],
            [
             0.4,
             "#fde0ef"
            ],
            [
             0.5,
             "#f7f7f7"
            ],
            [
             0.6,
             "#e6f5d0"
            ],
            [
             0.7,
             "#b8e186"
            ],
            [
             0.8,
             "#7fbc41"
            ],
            [
             0.9,
             "#4d9221"
            ],
            [
             1,
             "#276419"
            ]
           ],
           "sequential": [
            [
             0,
             "#0d0887"
            ],
            [
             0.1111111111111111,
             "#46039f"
            ],
            [
             0.2222222222222222,
             "#7201a8"
            ],
            [
             0.3333333333333333,
             "#9c179e"
            ],
            [
             0.4444444444444444,
             "#bd3786"
            ],
            [
             0.5555555555555556,
             "#d8576b"
            ],
            [
             0.6666666666666666,
             "#ed7953"
            ],
            [
             0.7777777777777778,
             "#fb9f3a"
            ],
            [
             0.8888888888888888,
             "#fdca26"
            ],
            [
             1,
             "#f0f921"
            ]
           ],
           "sequentialminus": [
            [
             0,
             "#0d0887"
            ],
            [
             0.1111111111111111,
             "#46039f"
            ],
            [
             0.2222222222222222,
             "#7201a8"
            ],
            [
             0.3333333333333333,
             "#9c179e"
            ],
            [
             0.4444444444444444,
             "#bd3786"
            ],
            [
             0.5555555555555556,
             "#d8576b"
            ],
            [
             0.6666666666666666,
             "#ed7953"
            ],
            [
             0.7777777777777778,
             "#fb9f3a"
            ],
            [
             0.8888888888888888,
             "#fdca26"
            ],
            [
             1,
             "#f0f921"
            ]
           ]
          },
          "colorway": [
           "#636efa",
           "#EF553B",
           "#00cc96",
           "#ab63fa",
           "#FFA15A",
           "#19d3f3",
           "#FF6692",
           "#B6E880",
           "#FF97FF",
           "#FECB52"
          ],
          "font": {
           "color": "#2a3f5f"
          },
          "geo": {
           "bgcolor": "white",
           "lakecolor": "white",
           "landcolor": "#E5ECF6",
           "showlakes": true,
           "showland": true,
           "subunitcolor": "white"
          },
          "hoverlabel": {
           "align": "left"
          },
          "hovermode": "closest",
          "mapbox": {
           "style": "light"
          },
          "paper_bgcolor": "white",
          "plot_bgcolor": "#E5ECF6",
          "polar": {
           "angularaxis": {
            "gridcolor": "white",
            "linecolor": "white",
            "ticks": ""
           },
           "bgcolor": "#E5ECF6",
           "radialaxis": {
            "gridcolor": "white",
            "linecolor": "white",
            "ticks": ""
           }
          },
          "scene": {
           "xaxis": {
            "backgroundcolor": "#E5ECF6",
            "gridcolor": "white",
            "gridwidth": 2,
            "linecolor": "white",
            "showbackground": true,
            "ticks": "",
            "zerolinecolor": "white"
           },
           "yaxis": {
            "backgroundcolor": "#E5ECF6",
            "gridcolor": "white",
            "gridwidth": 2,
            "linecolor": "white",
            "showbackground": true,
            "ticks": "",
            "zerolinecolor": "white"
           },
           "zaxis": {
            "backgroundcolor": "#E5ECF6",
            "gridcolor": "white",
            "gridwidth": 2,
            "linecolor": "white",
            "showbackground": true,
            "ticks": "",
            "zerolinecolor": "white"
           }
          },
          "shapedefaults": {
           "line": {
            "color": "#2a3f5f"
           }
          },
          "ternary": {
           "aaxis": {
            "gridcolor": "white",
            "linecolor": "white",
            "ticks": ""
           },
           "baxis": {
            "gridcolor": "white",
            "linecolor": "white",
            "ticks": ""
           },
           "bgcolor": "#E5ECF6",
           "caxis": {
            "gridcolor": "white",
            "linecolor": "white",
            "ticks": ""
           }
          },
          "title": {
           "x": 0.05
          },
          "xaxis": {
           "automargin": true,
           "gridcolor": "white",
           "linecolor": "white",
           "ticks": "",
           "title": {
            "standoff": 15
           },
           "zerolinecolor": "white",
           "zerolinewidth": 2
          },
          "yaxis": {
           "automargin": true,
           "gridcolor": "white",
           "linecolor": "white",
           "ticks": "",
           "title": {
            "standoff": 15
           },
           "zerolinecolor": "white",
           "zerolinewidth": 2
          }
         }
        },
        "title": {
         "text": "Weighted Annual Average Wage by State"
        }
       }
      }
     },
     "metadata": {},
     "output_type": "display_data"
    }
   ],
   "source": [
    "# Optional: add full state names for hover\n",
    "abbr_to_name = {\n",
    "    \"AL\":\"Alabama\",\"AK\":\"Alaska\",\"AZ\":\"Arizona\",\"AR\":\"Arkansas\",\"CA\":\"California\",\"CO\":\"Colorado\",\n",
    "    \"CT\":\"Connecticut\",\"DE\":\"Delaware\",\"FL\":\"Florida\",\"GA\":\"Georgia\",\"HI\":\"Hawaii\",\"ID\":\"Idaho\",\n",
    "    \"IL\":\"Illinois\",\"IN\":\"Indiana\",\"IA\":\"Iowa\",\"KS\":\"Kansas\",\"KY\":\"Kentucky\",\"LA\":\"Louisiana\",\n",
    "    \"ME\":\"Maine\",\"MD\":\"Maryland\",\"MA\":\"Massachusetts\",\"MI\":\"Michigan\",\"MN\":\"Minnesota\",\"MS\":\"Mississippi\",\n",
    "    \"MO\":\"Missouri\",\"MT\":\"Montana\",\"NE\":\"Nebraska\",\"NV\":\"Nevada\",\"NH\":\"New Hampshire\",\"NJ\":\"New Jersey\",\n",
    "    \"NM\":\"New Mexico\",\"NY\":\"New York\",\"NC\":\"North Carolina\",\"ND\":\"North Dakota\",\"OH\":\"Ohio\",\"OK\":\"Oklahoma\",\n",
    "    \"OR\":\"Oregon\",\"PA\":\"Pennsylvania\",\"RI\":\"Rhode Island\",\"SC\":\"South Carolina\",\"SD\":\"South Dakota\",\n",
    "    \"TN\":\"Tennessee\",\"TX\":\"Texas\",\"UT\":\"Utah\",\"VT\":\"Vermont\",\"VA\":\"Virginia\",\"WA\":\"Washington\",\n",
    "    \"WV\":\"West Virginia\",\"WI\":\"Wisconsin\",\"WY\":\"Wyoming\"\n",
    "}\n",
    "weighted_by_state[\"state_name\"] = weighted_by_state[\"prim_state\"].map(abbr_to_name)\n",
    "\n",
    "# ---------- 3) Plotly choropleth ----------\n",
    "fig = px.choropleth(\n",
    "    weighted_by_state,\n",
    "    locations=\"prim_state\",\n",
    "    locationmode=\"USA-states\",\n",
    "    color=\"weighted_a_mean\",\n",
    "    color_continuous_scale=\"RdYlGn\",\n",
    "    scope=\"usa\",\n",
    "    labels={\"weighted_a_mean\": \"Weighted annual mean ($)\"},\n",
    ")\n",
    "\n",
    "# Better hover text\n",
    "fig.update_traces(\n",
    "    customdata=np.stack([weighted_by_state[\"state_name\"], weighted_by_state[\"total_emp\"]], axis=1),\n",
    "    hovertemplate=\"<b>%{customdata[0]}</b><br>\"\n",
    "                  \"Weighted Avg: $%{z:,.0f}<br>\"\n",
    "                  \"Total employment: %{customdata[1]:,}\"\n",
    "                  \"<extra></extra>\"\n",
    ")\n",
    "\n",
    "# Titles and formatting\n",
    "fig.update_layout(\n",
    "    title=\"Weighted Annual Average Wage by State\",\n",
    "    coloraxis_colorbar_title=\"Weighted Avg. ($)\"\n",
    ")\n",
    "\n",
    "fig.show()"
   ]
  },
  {
   "cell_type": "code",
   "execution_count": null,
   "id": "6f5dbd0b",
   "metadata": {},
   "outputs": [],
   "source": []
  }
 ],
 "metadata": {
  "kernelspec": {
   "display_name": "Python 3",
   "language": "python",
   "name": "python3"
  },
  "language_info": {
   "codemirror_mode": {
    "name": "ipython",
    "version": 3
   },
   "file_extension": ".py",
   "mimetype": "text/x-python",
   "name": "python",
   "nbconvert_exporter": "python",
   "pygments_lexer": "ipython3",
   "version": "3.9.6"
  }
 },
 "nbformat": 4,
 "nbformat_minor": 5
}
