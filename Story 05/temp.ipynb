{
 "cells": [
  {
   "cell_type": "markdown",
   "id": "40a35efc",
   "metadata": {},
   "source": [
    "## What Is The Effect Of The Earth's Temperature on Cyclonic Storms?\n",
    "\n",
    "- https://berkeleyearth.org/data/\n",
    "- https://www.ncei.noaa.gov/access/metadata/landing-page/bin/iso?id=gov.noaa.ncdc:C01552\n",
    "- https://www.spc.noaa.gov/wcm/#data\n",
    "\n",
    "        - https://www.spc.noaa.gov/wcm/data/SPC_severe_database_description.pdf\n",
    "\n",
    "- https://www.ncei.noaa.gov/sites/g/files/anmtlf171/files/2025-04/IBTrACS_version4r01_Technical_Details.pdf\n",
    "- https://www.ncei.noaa.gov/sites/default/files/2021-07/IBTrACS_v04_column_documentation.pdf\n",
    "\n",
    "> Basin - All storms that have at least one position in that basin. This allows analysis of a\n",
    "given basin but also means that different basin files should not be combined since some\n",
    "storms will be in both files.\n",
    "\n",
    ">SID* A unique storm identifier (SID) assigned by IBTrACS algorithm"
   ]
  },
  {
   "cell_type": "markdown",
   "id": "61ff9d07",
   "metadata": {},
   "source": [
    "### Earth's Temperature"
   ]
  },
  {
   "cell_type": "code",
   "execution_count": null,
   "id": "80be7308",
   "metadata": {},
   "outputs": [],
   "source": [
    "import pandas as pd\n",
    "import numpy as np\n",
    "import re\n",
    "\n",
    "NH_PATH = \"NH.Ts+dSST.csv\"\n",
    "SH_PATH = \"SH.Ts+dSST.csv\"\n",
    "\n",
    "MONTHS = [\"Jan\",\"Feb\",\"Mar\",\"Apr\",\"May\",\"Jun\",\"Jul\",\"Aug\",\"Sep\",\"Oct\",\"Nov\",\"Dec\"]\n",
    "MONTH_NUM = {m:i+1 for i, m in enumerate(MONTHS)}\n",
    "\n",
    "def read_and_long(path, hemisphere: str) -> pd.DataFrame:\n",
    "    df = pd.read_csv(path, skip_blank_lines=True, header=1)\n",
    "    # Standardize headers and drop auto Unnamed cols\n",
    "    df.columns = [c.strip() for c in df.columns]\n",
    "    df = df.loc[:, ~df.columns.str.match(r\"^Unnamed\")]\n",
    "\n",
    "    # Find a year column, fallback to first column\n",
    "    year_col = next((c for c in [\"Year\",\"year\",\"YEAR\",\"Date\",\"date\"] if c in df.columns), df.columns[0])\n",
    "\n",
    "    # Map many header variants to Jan..Dec\n",
    "    month_alias = {\n",
    "        \"JAN\":\"Jan\",\"FEB\":\"Feb\",\"MAR\":\"Mar\",\"APR\":\"Apr\",\"MAY\":\"May\",\"JUN\":\"Jun\",\n",
    "        \"JUL\":\"Jul\",\"AUG\":\"Aug\",\"SEP\":\"Sep\",\"OCT\":\"Oct\",\"NOV\":\"Nov\",\"DEC\":\"Dec\",\n",
    "        \"Jan\":\"Jan\",\"Feb\":\"Feb\",\"Mar\":\"Mar\",\"Apr\":\"Apr\",\"May\":\"May\",\"Jun\":\"Jun\",\n",
    "        \"Jul\":\"Jul\",\"Aug\":\"Aug\",\"Sep\":\"Sep\",\"Oct\":\"Oct\",\"Nov\":\"Nov\",\"Dec\":\"Dec\",\n",
    "        \"JAN.\":\"Jan\",\"FEB.\":\"Feb\",\"MAR.\":\"Mar\",\"APR.\":\"Apr\",\"MAY.\":\"May\",\"JUN.\":\"Jun\",\n",
    "        \"JUL.\":\"Jul\",\"AUG.\":\"Aug\",\"SEP.\":\"Sep\",\"OCT.\":\"Oct\",\"NOV.\":\"Nov\",\"DEC.\":\"Dec\",\n",
    "    }\n",
    "\n",
    "    rename = {}\n",
    "    month_cols = []\n",
    "    for c in df.columns:\n",
    "        if c == year_col:\n",
    "            continue\n",
    "        token = re.sub(r\"[^A-Za-z]\", \"\", c)  # strip digits, dots, asterisks\n",
    "        if token in month_alias:\n",
    "            rename[c] = month_alias[token]\n",
    "            month_cols.append(c)\n",
    "\n",
    "    # If detection failed, fall back to literal Jan..Dec if present\n",
    "    if not month_cols:\n",
    "        for m in MONTHS:\n",
    "            if m in df.columns:\n",
    "                month_cols.append(m)\n",
    "                rename[m] = m\n",
    "\n",
    "    # Rename and keep only Year + months\n",
    "    if rename:\n",
    "        df = df.rename(columns=rename)\n",
    "    keep = [year_col] + [m for m in MONTHS if m in df.columns]\n",
    "    df = df[keep]\n",
    "\n",
    "    # Numeric coercion\n",
    "    df[year_col] = pd.to_numeric(df[year_col], errors=\"coerce\")\n",
    "    for m in keep[1:]:\n",
    "        df[m] = pd.to_numeric(df[m], errors=\"coerce\")\n",
    "\n",
    "    # Long format\n",
    "    long_df = df.melt(id_vars=[year_col], var_name=\"month\", value_name=\"temp\")\n",
    "    long_df = long_df.dropna(subset=[year_col, \"month\"]).copy()\n",
    "    long_df[\"hemisphere\"] = hemisphere\n",
    "\n",
    "    # Build a month midpoint date\n",
    "    year_int = long_df[year_col].apply(lambda x: int(np.floor(x)) if pd.notna(x) else np.nan)\n",
    "    long_df[\"date\"] = pd.to_datetime(\n",
    "        {\"year\": year_int, \"month\": long_df[\"month\"].map(MONTH_NUM), \"day\": 15},\n",
    "        errors=\"coerce\"\n",
    "    )\n",
    "\n",
    "    long_df = long_df.rename(columns={year_col: \"year\"})\n",
    "    long_df = long_df.sort_values([\"hemisphere\", \"year\", \"month\"], kind=\"mergesort\").reset_index(drop=True)\n",
    "    return long_df[[\"hemisphere\",\"year\",\"month\",\"date\",\"temp\"]]\n",
    "\n",
    "# Build outputs\n",
    "nh_long = read_and_long(NH_PATH, \"NH\")\n",
    "sh_long = read_and_long(SH_PATH, \"SH\")\n",
    "temperature_df = pd.concat([nh_long, sh_long], ignore_index=True)"
   ]
  },
  {
   "cell_type": "markdown",
   "id": "8afc4ce5",
   "metadata": {},
   "source": [
    "### Hurricanes & Tropical Cyclones"
   ]
  },
  {
   "cell_type": "markdown",
   "id": "fcfad77e",
   "metadata": {},
   "source": [
    "### Tornadoes"
   ]
  }
 ],
 "metadata": {
  "kernelspec": {
   "display_name": "Python 3",
   "language": "python",
   "name": "python3"
  },
  "language_info": {
   "codemirror_mode": {
    "name": "ipython",
    "version": 3
   },
   "file_extension": ".py",
   "mimetype": "text/x-python",
   "name": "python",
   "nbconvert_exporter": "python",
   "pygments_lexer": "ipython3",
   "version": "3.9.6"
  }
 },
 "nbformat": 4,
 "nbformat_minor": 5
}
